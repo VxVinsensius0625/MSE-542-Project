{
 "cells": [
  {
   "cell_type": "markdown",
   "id": "51f4f5a3-91e0-4483-8bf8-c03d79244fbf",
   "metadata": {},
   "source": [
    "# Material Mathematics (Group 5) Data Proposal Preprocessing"
   ]
  },
  {
   "cell_type": "markdown",
   "id": "65e1590a-2026-4f18-bda5-844b8614374e",
   "metadata": {
    "tags": []
   },
   "source": [
    "# import packages"
   ]
  },
  {
   "cell_type": "code",
   "execution_count": 1,
   "id": "d20c78d9-1af8-4190-ba63-29b3d5210f1e",
   "metadata": {},
   "outputs": [
    {
     "name": "stdout",
     "output_type": "stream",
     "text": [
      "Collecting keras_tuner\n",
      "  Using cached keras_tuner-1.1.3-py3-none-any.whl (135 kB)\n",
      "Requirement already satisfied: ipython in /opt/conda/lib/python3.9/site-packages (from keras_tuner) (7.29.0)\n",
      "Collecting kt-legacy\n",
      "  Using cached kt_legacy-1.0.4-py3-none-any.whl (9.6 kB)\n",
      "Requirement already satisfied: requests in /opt/conda/lib/python3.9/site-packages (from keras_tuner) (2.26.0)\n",
      "Requirement already satisfied: tensorboard in /opt/conda/lib/python3.9/site-packages (from keras_tuner) (2.4.1)\n",
      "Requirement already satisfied: packaging in /opt/conda/lib/python3.9/site-packages (from keras_tuner) (21.2)\n",
      "Requirement already satisfied: numpy in /opt/conda/lib/python3.9/site-packages (from keras_tuner) (1.21.4)\n",
      "Requirement already satisfied: setuptools>=18.5 in /opt/conda/lib/python3.9/site-packages (from ipython->keras_tuner) (58.5.3)\n",
      "Requirement already satisfied: backcall in /opt/conda/lib/python3.9/site-packages (from ipython->keras_tuner) (0.2.0)\n",
      "Requirement already satisfied: pygments in /opt/conda/lib/python3.9/site-packages (from ipython->keras_tuner) (2.10.0)\n",
      "Requirement already satisfied: jedi>=0.16 in /opt/conda/lib/python3.9/site-packages (from ipython->keras_tuner) (0.18.0)\n",
      "Requirement already satisfied: prompt-toolkit!=3.0.0,!=3.0.1,<3.1.0,>=2.0.0 in /opt/conda/lib/python3.9/site-packages (from ipython->keras_tuner) (3.0.22)\n",
      "Requirement already satisfied: pexpect>4.3 in /opt/conda/lib/python3.9/site-packages (from ipython->keras_tuner) (4.8.0)\n",
      "Requirement already satisfied: traitlets>=4.2 in /opt/conda/lib/python3.9/site-packages (from ipython->keras_tuner) (5.1.1)\n",
      "Requirement already satisfied: matplotlib-inline in /opt/conda/lib/python3.9/site-packages (from ipython->keras_tuner) (0.1.3)\n",
      "Requirement already satisfied: pickleshare in /opt/conda/lib/python3.9/site-packages (from ipython->keras_tuner) (0.7.5)\n",
      "Requirement already satisfied: decorator in /opt/conda/lib/python3.9/site-packages (from ipython->keras_tuner) (5.1.0)\n",
      "Requirement already satisfied: pyparsing<3,>=2.0.2 in /opt/conda/lib/python3.9/site-packages (from packaging->keras_tuner) (2.4.7)\n",
      "Requirement already satisfied: certifi>=2017.4.17 in /opt/conda/lib/python3.9/site-packages (from requests->keras_tuner) (2021.10.8)\n",
      "Requirement already satisfied: idna<4,>=2.5 in /opt/conda/lib/python3.9/site-packages (from requests->keras_tuner) (3.1)\n",
      "Requirement already satisfied: charset-normalizer~=2.0.0 in /opt/conda/lib/python3.9/site-packages (from requests->keras_tuner) (2.0.0)\n",
      "Requirement already satisfied: urllib3<1.27,>=1.21.1 in /opt/conda/lib/python3.9/site-packages (from requests->keras_tuner) (1.26.7)\n",
      "Requirement already satisfied: markdown>=2.6.8 in /opt/conda/lib/python3.9/site-packages (from tensorboard->keras_tuner) (3.3.4)\n",
      "Requirement already satisfied: protobuf>=3.6.0 in /opt/conda/lib/python3.9/site-packages (from tensorboard->keras_tuner) (3.15.8)\n",
      "Requirement already satisfied: wheel>=0.26 in /opt/conda/lib/python3.9/site-packages (from tensorboard->keras_tuner) (0.37.0)\n",
      "Requirement already satisfied: google-auth<2,>=1.6.3 in /opt/conda/lib/python3.9/site-packages (from tensorboard->keras_tuner) (1.35.0)\n",
      "Requirement already satisfied: absl-py>=0.4 in /opt/conda/lib/python3.9/site-packages (from tensorboard->keras_tuner) (0.15.0)\n",
      "Requirement already satisfied: six>=1.10.0 in /opt/conda/lib/python3.9/site-packages (from tensorboard->keras_tuner) (1.15.0)\n",
      "Requirement already satisfied: tensorboard-plugin-wit>=1.6.0 in /opt/conda/lib/python3.9/site-packages (from tensorboard->keras_tuner) (1.8.0)\n",
      "Requirement already satisfied: grpcio>=1.24.3 in /opt/conda/lib/python3.9/site-packages (from tensorboard->keras_tuner) (1.37.1)\n",
      "Requirement already satisfied: werkzeug>=0.11.15 in /opt/conda/lib/python3.9/site-packages (from tensorboard->keras_tuner) (2.0.1)\n",
      "Requirement already satisfied: google-auth-oauthlib<0.5,>=0.4.1 in /opt/conda/lib/python3.9/site-packages (from tensorboard->keras_tuner) (0.4.6)\n",
      "Requirement already satisfied: pyasn1-modules>=0.2.1 in /opt/conda/lib/python3.9/site-packages (from google-auth<2,>=1.6.3->tensorboard->keras_tuner) (0.2.7)\n",
      "Requirement already satisfied: rsa<5,>=3.1.4 in /opt/conda/lib/python3.9/site-packages (from google-auth<2,>=1.6.3->tensorboard->keras_tuner) (4.7.2)\n",
      "Requirement already satisfied: cachetools<5.0,>=2.0.0 in /opt/conda/lib/python3.9/site-packages (from google-auth<2,>=1.6.3->tensorboard->keras_tuner) (4.2.4)\n",
      "Requirement already satisfied: requests-oauthlib>=0.7.0 in /opt/conda/lib/python3.9/site-packages (from google-auth-oauthlib<0.5,>=0.4.1->tensorboard->keras_tuner) (1.3.0)\n",
      "Requirement already satisfied: parso<0.9.0,>=0.8.0 in /opt/conda/lib/python3.9/site-packages (from jedi>=0.16->ipython->keras_tuner) (0.8.2)\n",
      "Requirement already satisfied: ptyprocess>=0.5 in /opt/conda/lib/python3.9/site-packages (from pexpect>4.3->ipython->keras_tuner) (0.7.0)\n",
      "Requirement already satisfied: wcwidth in /opt/conda/lib/python3.9/site-packages (from prompt-toolkit!=3.0.0,!=3.0.1,<3.1.0,>=2.0.0->ipython->keras_tuner) (0.2.5)\n",
      "Requirement already satisfied: pyasn1<0.5.0,>=0.4.6 in /opt/conda/lib/python3.9/site-packages (from pyasn1-modules>=0.2.1->google-auth<2,>=1.6.3->tensorboard->keras_tuner) (0.4.8)\n",
      "Requirement already satisfied: oauthlib>=3.0.0 in /opt/conda/lib/python3.9/site-packages (from requests-oauthlib>=0.7.0->google-auth-oauthlib<0.5,>=0.4.1->tensorboard->keras_tuner) (3.1.1)\n",
      "Installing collected packages: kt-legacy, keras-tuner\n",
      "Successfully installed keras-tuner-1.1.3 kt-legacy-1.0.4\n"
     ]
    }
   ],
   "source": [
    "! pip install keras_tuner"
   ]
  },
  {
   "cell_type": "code",
   "execution_count": 2,
   "id": "7e7ad3e5-5fab-4523-9225-fe3cdede439b",
   "metadata": {},
   "outputs": [],
   "source": [
    "import numpy as np\n",
    "from numpy import linalg as LA\n",
    "\n",
    "import pandas as pd\n",
    "import matplotlib.pyplot as plt\n",
    "import seaborn as sns\n",
    "\n",
    "from sklearn.linear_model import LinearRegression\n",
    "from sklearn.metrics import mean_squared_error, r2_score\n",
    "from sklearn.cluster import KMeans\n",
    "from sklearn.decomposition import PCA\n",
    "from sklearn.model_selection import train_test_split\n",
    "from sklearn.model_selection import RandomizedSearchCV\n",
    "from sklearn.preprocessing import StandardScaler\n",
    "from sklearn.pipeline import Pipeline\n",
    "\n",
    "import tensorflow as tf\n",
    "from tensorflow import keras\n",
    "from tensorflow.keras import Input\n",
    "from tensorflow.keras.models import Sequential\n",
    "from tensorflow.keras.layers import Dense\n",
    "from tensorflow.keras.wrappers.scikit_learn import KerasRegressor\n",
    "\n",
    "import keras_tuner as kt\n",
    "\n",
    "import pickle as pkl"
   ]
  },
  {
   "cell_type": "markdown",
   "id": "985c4134",
   "metadata": {},
   "source": [
    "## Hypothesis"
   ]
  },
  {
   "cell_type": "markdown",
   "id": "b2fd3d83",
   "metadata": {},
   "source": [
    "In this proposal, we plan to find the correlation between each parameter and the solubility. We divide the parameters into two groups, trying to decide which parameter in each group has affected the solubility the most. One has a positive correlation with the molecules’ solubility, and the other one has a negative correlation with the molecules’ solubility.\n",
    "\n",
    "In the positive correlation group, we guess that Number of H acceptors (`NumHAcceptors`) has the largest weight. Based on our current knowledge, because there is an equivalent partial negative charge on the atom bonded to hydrogen, this atom can accept H-bonds from water. Therefore, it causes the compound’s solubility to be better than compounds without H-bonds. Hydrogen bond strengths range from 4 kJ to 50 kJ per mole of hydrogen bonds. On the contrary, van der Waals interaction is a relatively weak force ranging from 0.5 to 1 kcal/mol.\n",
    "\n",
    "In the negative correlation group, we hypothesize that the heavy atom count weighted the solubility the most. Since organic compounds are usually composed of C, O, and H, the higher molecular weight and more C make the compound more insoluble in water if H is not considered."
   ]
  },
  {
   "cell_type": "markdown",
   "id": "7c9225ed-c9df-468a-b88d-1f3ae49d3f0f",
   "metadata": {
    "tags": []
   },
   "source": [
    "## Data Import and Overview"
   ]
  },
  {
   "cell_type": "markdown",
   "id": "600efcde-ae6b-4d51-916f-00fe33f77cb4",
   "metadata": {
    "tags": []
   },
   "source": [
    "In this section, we take a cursory look at the given dataset. We aim to understand each column and identify data relevant to our analysis. "
   ]
  },
  {
   "cell_type": "code",
   "execution_count": 3,
   "id": "7e49c819-41bd-4815-ac56-a8945983de46",
   "metadata": {},
   "outputs": [],
   "source": [
    "df = pd.read_csv(\"curated-solubility-dataset.csv\")"
   ]
  },
  {
   "cell_type": "code",
   "execution_count": 4,
   "id": "bf28c709-6fc0-4253-b1f1-e6a5dbe202d0",
   "metadata": {},
   "outputs": [
    {
     "data": {
      "text/html": [
       "<div>\n",
       "<style scoped>\n",
       "    .dataframe tbody tr th:only-of-type {\n",
       "        vertical-align: middle;\n",
       "    }\n",
       "\n",
       "    .dataframe tbody tr th {\n",
       "        vertical-align: top;\n",
       "    }\n",
       "\n",
       "    .dataframe thead th {\n",
       "        text-align: right;\n",
       "    }\n",
       "</style>\n",
       "<table border=\"1\" class=\"dataframe\">\n",
       "  <thead>\n",
       "    <tr style=\"text-align: right;\">\n",
       "      <th></th>\n",
       "      <th>ID</th>\n",
       "      <th>Name</th>\n",
       "      <th>InChI</th>\n",
       "      <th>InChIKey</th>\n",
       "      <th>SMILES</th>\n",
       "      <th>Solubility</th>\n",
       "      <th>SD</th>\n",
       "      <th>Ocurrences</th>\n",
       "      <th>Group</th>\n",
       "      <th>MolWt</th>\n",
       "      <th>...</th>\n",
       "      <th>NumRotatableBonds</th>\n",
       "      <th>NumValenceElectrons</th>\n",
       "      <th>NumAromaticRings</th>\n",
       "      <th>NumSaturatedRings</th>\n",
       "      <th>NumAliphaticRings</th>\n",
       "      <th>RingCount</th>\n",
       "      <th>TPSA</th>\n",
       "      <th>LabuteASA</th>\n",
       "      <th>BalabanJ</th>\n",
       "      <th>BertzCT</th>\n",
       "    </tr>\n",
       "  </thead>\n",
       "  <tbody>\n",
       "    <tr>\n",
       "      <th>0</th>\n",
       "      <td>A-3</td>\n",
       "      <td>N,N,N-trimethyloctadecan-1-aminium bromide</td>\n",
       "      <td>InChI=1S/C21H46N.BrH/c1-5-6-7-8-9-10-11-12-13-...</td>\n",
       "      <td>SZEMGTQCPRNXEG-UHFFFAOYSA-M</td>\n",
       "      <td>[Br-].CCCCCCCCCCCCCCCCCC[N+](C)(C)C</td>\n",
       "      <td>-3.616127</td>\n",
       "      <td>0.000000</td>\n",
       "      <td>1</td>\n",
       "      <td>G1</td>\n",
       "      <td>392.510</td>\n",
       "      <td>...</td>\n",
       "      <td>17.0</td>\n",
       "      <td>142.0</td>\n",
       "      <td>0.0</td>\n",
       "      <td>0.0</td>\n",
       "      <td>0.0</td>\n",
       "      <td>0.0</td>\n",
       "      <td>0.00</td>\n",
       "      <td>158.520601</td>\n",
       "      <td>0.000000e+00</td>\n",
       "      <td>210.377334</td>\n",
       "    </tr>\n",
       "    <tr>\n",
       "      <th>1</th>\n",
       "      <td>A-4</td>\n",
       "      <td>Benzo[cd]indol-2(1H)-one</td>\n",
       "      <td>InChI=1S/C11H7NO/c13-11-8-5-1-3-7-4-2-6-9(12-1...</td>\n",
       "      <td>GPYLCFQEKPUWLD-UHFFFAOYSA-N</td>\n",
       "      <td>O=C1Nc2cccc3cccc1c23</td>\n",
       "      <td>-3.254767</td>\n",
       "      <td>0.000000</td>\n",
       "      <td>1</td>\n",
       "      <td>G1</td>\n",
       "      <td>169.183</td>\n",
       "      <td>...</td>\n",
       "      <td>0.0</td>\n",
       "      <td>62.0</td>\n",
       "      <td>2.0</td>\n",
       "      <td>0.0</td>\n",
       "      <td>1.0</td>\n",
       "      <td>3.0</td>\n",
       "      <td>29.10</td>\n",
       "      <td>75.183563</td>\n",
       "      <td>2.582996e+00</td>\n",
       "      <td>511.229248</td>\n",
       "    </tr>\n",
       "    <tr>\n",
       "      <th>2</th>\n",
       "      <td>A-5</td>\n",
       "      <td>4-chlorobenzaldehyde</td>\n",
       "      <td>InChI=1S/C7H5ClO/c8-7-3-1-6(5-9)2-4-7/h1-5H</td>\n",
       "      <td>AVPYQKSLYISFPO-UHFFFAOYSA-N</td>\n",
       "      <td>Clc1ccc(C=O)cc1</td>\n",
       "      <td>-2.177078</td>\n",
       "      <td>0.000000</td>\n",
       "      <td>1</td>\n",
       "      <td>G1</td>\n",
       "      <td>140.569</td>\n",
       "      <td>...</td>\n",
       "      <td>1.0</td>\n",
       "      <td>46.0</td>\n",
       "      <td>1.0</td>\n",
       "      <td>0.0</td>\n",
       "      <td>0.0</td>\n",
       "      <td>1.0</td>\n",
       "      <td>17.07</td>\n",
       "      <td>58.261134</td>\n",
       "      <td>3.009782e+00</td>\n",
       "      <td>202.661065</td>\n",
       "    </tr>\n",
       "    <tr>\n",
       "      <th>3</th>\n",
       "      <td>A-8</td>\n",
       "      <td>zinc bis[2-hydroxy-3,5-bis(1-phenylethyl)benzo...</td>\n",
       "      <td>InChI=1S/2C23H22O3.Zn/c2*1-15(17-9-5-3-6-10-17...</td>\n",
       "      <td>XTUPUYCJWKHGSW-UHFFFAOYSA-L</td>\n",
       "      <td>[Zn++].CC(c1ccccc1)c2cc(C(C)c3ccccc3)c(O)c(c2)...</td>\n",
       "      <td>-3.924409</td>\n",
       "      <td>0.000000</td>\n",
       "      <td>1</td>\n",
       "      <td>G1</td>\n",
       "      <td>756.226</td>\n",
       "      <td>...</td>\n",
       "      <td>10.0</td>\n",
       "      <td>264.0</td>\n",
       "      <td>6.0</td>\n",
       "      <td>0.0</td>\n",
       "      <td>0.0</td>\n",
       "      <td>6.0</td>\n",
       "      <td>120.72</td>\n",
       "      <td>323.755434</td>\n",
       "      <td>2.322963e-07</td>\n",
       "      <td>1964.648666</td>\n",
       "    </tr>\n",
       "    <tr>\n",
       "      <th>4</th>\n",
       "      <td>A-9</td>\n",
       "      <td>4-({4-[bis(oxiran-2-ylmethyl)amino]phenyl}meth...</td>\n",
       "      <td>InChI=1S/C25H30N2O4/c1-5-20(26(10-22-14-28-22)...</td>\n",
       "      <td>FAUAZXVRLVIARB-UHFFFAOYSA-N</td>\n",
       "      <td>C1OC1CN(CC2CO2)c3ccc(Cc4ccc(cc4)N(CC5CO5)CC6CO...</td>\n",
       "      <td>-4.662065</td>\n",
       "      <td>0.000000</td>\n",
       "      <td>1</td>\n",
       "      <td>G1</td>\n",
       "      <td>422.525</td>\n",
       "      <td>...</td>\n",
       "      <td>12.0</td>\n",
       "      <td>164.0</td>\n",
       "      <td>2.0</td>\n",
       "      <td>4.0</td>\n",
       "      <td>4.0</td>\n",
       "      <td>6.0</td>\n",
       "      <td>56.60</td>\n",
       "      <td>183.183268</td>\n",
       "      <td>1.084427e+00</td>\n",
       "      <td>769.899934</td>\n",
       "    </tr>\n",
       "    <tr>\n",
       "      <th>5</th>\n",
       "      <td>A-10</td>\n",
       "      <td>vinyltoluene</td>\n",
       "      <td>InChI=1S/C9H10/c1-3-9-6-4-5-8(2)7-9/h3-7H,1H2,2H3</td>\n",
       "      <td>JZHGRUMIRATHIU-UHFFFAOYSA-N</td>\n",
       "      <td>Cc1cccc(C=C)c1</td>\n",
       "      <td>-3.123150</td>\n",
       "      <td>0.000000</td>\n",
       "      <td>1</td>\n",
       "      <td>G1</td>\n",
       "      <td>118.179</td>\n",
       "      <td>...</td>\n",
       "      <td>1.0</td>\n",
       "      <td>46.0</td>\n",
       "      <td>1.0</td>\n",
       "      <td>0.0</td>\n",
       "      <td>0.0</td>\n",
       "      <td>1.0</td>\n",
       "      <td>0.00</td>\n",
       "      <td>55.836626</td>\n",
       "      <td>3.070761e+00</td>\n",
       "      <td>211.033225</td>\n",
       "    </tr>\n",
       "    <tr>\n",
       "      <th>6</th>\n",
       "      <td>A-11</td>\n",
       "      <td>3-(3-ethylcyclopentyl)propanoic acid</td>\n",
       "      <td>InChI=1S/C10H18O2/c1-2-8-3-4-9(7-8)5-6-10(11)1...</td>\n",
       "      <td>WVRFSLWCFASCIS-UHFFFAOYSA-N</td>\n",
       "      <td>CCC1CCC(CCC(O)=O)C1</td>\n",
       "      <td>-3.286116</td>\n",
       "      <td>0.000000</td>\n",
       "      <td>1</td>\n",
       "      <td>G1</td>\n",
       "      <td>170.252</td>\n",
       "      <td>...</td>\n",
       "      <td>4.0</td>\n",
       "      <td>70.0</td>\n",
       "      <td>0.0</td>\n",
       "      <td>1.0</td>\n",
       "      <td>1.0</td>\n",
       "      <td>1.0</td>\n",
       "      <td>37.30</td>\n",
       "      <td>73.973655</td>\n",
       "      <td>2.145839e+00</td>\n",
       "      <td>153.917569</td>\n",
       "    </tr>\n",
       "    <tr>\n",
       "      <th>7</th>\n",
       "      <td>A-12</td>\n",
       "      <td>11,16,17,21-tetrahydroxypregna-1,4-diene-3,20-...</td>\n",
       "      <td>InChI=1S/C21H28O6/c1-19-6-5-12(23)7-11(19)3-4-...</td>\n",
       "      <td>SEKYBDYVXDAYPY-UHFFFAOYSA-N</td>\n",
       "      <td>CC12CC(O)C3C(CCC4=CC(=O)C=CC34C)C1CC(O)C2(O)C(...</td>\n",
       "      <td>-2.664549</td>\n",
       "      <td>0.000000</td>\n",
       "      <td>1</td>\n",
       "      <td>G1</td>\n",
       "      <td>376.449</td>\n",
       "      <td>...</td>\n",
       "      <td>2.0</td>\n",
       "      <td>148.0</td>\n",
       "      <td>0.0</td>\n",
       "      <td>3.0</td>\n",
       "      <td>4.0</td>\n",
       "      <td>4.0</td>\n",
       "      <td>115.06</td>\n",
       "      <td>158.135542</td>\n",
       "      <td>1.776978e+00</td>\n",
       "      <td>755.770792</td>\n",
       "    </tr>\n",
       "    <tr>\n",
       "      <th>8</th>\n",
       "      <td>A-14</td>\n",
       "      <td>bis(4-fluorophenyl)methanone</td>\n",
       "      <td>InChI=1S/C13H8F2O/c14-11-5-1-9(2-6-11)13(16)10...</td>\n",
       "      <td>LSQARZALBDFYQZ-UHFFFAOYSA-N</td>\n",
       "      <td>Fc1ccc(cc1)C(=O)c2ccc(F)cc2</td>\n",
       "      <td>-4.396652</td>\n",
       "      <td>0.431513</td>\n",
       "      <td>2</td>\n",
       "      <td>G3</td>\n",
       "      <td>218.202</td>\n",
       "      <td>...</td>\n",
       "      <td>2.0</td>\n",
       "      <td>80.0</td>\n",
       "      <td>2.0</td>\n",
       "      <td>0.0</td>\n",
       "      <td>0.0</td>\n",
       "      <td>2.0</td>\n",
       "      <td>17.07</td>\n",
       "      <td>91.346032</td>\n",
       "      <td>2.315628e+00</td>\n",
       "      <td>452.960733</td>\n",
       "    </tr>\n",
       "    <tr>\n",
       "      <th>9</th>\n",
       "      <td>A-15</td>\n",
       "      <td>1-[2-(benzoyloxy)propoxy]propan-2-yl benzoate ...</td>\n",
       "      <td>InChI=1S/C20H22O5/c21-19(17-9-3-1-4-10-17)24-1...</td>\n",
       "      <td>BYQDGAVOOHIJQS-UHFFFAOYSA-N</td>\n",
       "      <td>O=C(OCCCOCCCOC(=O)c1ccccc1)c2ccccc2</td>\n",
       "      <td>-4.595503</td>\n",
       "      <td>0.118551</td>\n",
       "      <td>2</td>\n",
       "      <td>G3</td>\n",
       "      <td>342.391</td>\n",
       "      <td>...</td>\n",
       "      <td>10.0</td>\n",
       "      <td>132.0</td>\n",
       "      <td>2.0</td>\n",
       "      <td>0.0</td>\n",
       "      <td>0.0</td>\n",
       "      <td>2.0</td>\n",
       "      <td>61.83</td>\n",
       "      <td>147.071714</td>\n",
       "      <td>1.447050e+00</td>\n",
       "      <td>582.150793</td>\n",
       "    </tr>\n",
       "  </tbody>\n",
       "</table>\n",
       "<p>10 rows × 26 columns</p>\n",
       "</div>"
      ],
      "text/plain": [
       "     ID                                               Name  \\\n",
       "0   A-3         N,N,N-trimethyloctadecan-1-aminium bromide   \n",
       "1   A-4                           Benzo[cd]indol-2(1H)-one   \n",
       "2   A-5                               4-chlorobenzaldehyde   \n",
       "3   A-8  zinc bis[2-hydroxy-3,5-bis(1-phenylethyl)benzo...   \n",
       "4   A-9  4-({4-[bis(oxiran-2-ylmethyl)amino]phenyl}meth...   \n",
       "5  A-10                                       vinyltoluene   \n",
       "6  A-11               3-(3-ethylcyclopentyl)propanoic acid   \n",
       "7  A-12  11,16,17,21-tetrahydroxypregna-1,4-diene-3,20-...   \n",
       "8  A-14                       bis(4-fluorophenyl)methanone   \n",
       "9  A-15  1-[2-(benzoyloxy)propoxy]propan-2-yl benzoate ...   \n",
       "\n",
       "                                               InChI  \\\n",
       "0  InChI=1S/C21H46N.BrH/c1-5-6-7-8-9-10-11-12-13-...   \n",
       "1  InChI=1S/C11H7NO/c13-11-8-5-1-3-7-4-2-6-9(12-1...   \n",
       "2        InChI=1S/C7H5ClO/c8-7-3-1-6(5-9)2-4-7/h1-5H   \n",
       "3  InChI=1S/2C23H22O3.Zn/c2*1-15(17-9-5-3-6-10-17...   \n",
       "4  InChI=1S/C25H30N2O4/c1-5-20(26(10-22-14-28-22)...   \n",
       "5  InChI=1S/C9H10/c1-3-9-6-4-5-8(2)7-9/h3-7H,1H2,2H3   \n",
       "6  InChI=1S/C10H18O2/c1-2-8-3-4-9(7-8)5-6-10(11)1...   \n",
       "7  InChI=1S/C21H28O6/c1-19-6-5-12(23)7-11(19)3-4-...   \n",
       "8  InChI=1S/C13H8F2O/c14-11-5-1-9(2-6-11)13(16)10...   \n",
       "9  InChI=1S/C20H22O5/c21-19(17-9-3-1-4-10-17)24-1...   \n",
       "\n",
       "                      InChIKey  \\\n",
       "0  SZEMGTQCPRNXEG-UHFFFAOYSA-M   \n",
       "1  GPYLCFQEKPUWLD-UHFFFAOYSA-N   \n",
       "2  AVPYQKSLYISFPO-UHFFFAOYSA-N   \n",
       "3  XTUPUYCJWKHGSW-UHFFFAOYSA-L   \n",
       "4  FAUAZXVRLVIARB-UHFFFAOYSA-N   \n",
       "5  JZHGRUMIRATHIU-UHFFFAOYSA-N   \n",
       "6  WVRFSLWCFASCIS-UHFFFAOYSA-N   \n",
       "7  SEKYBDYVXDAYPY-UHFFFAOYSA-N   \n",
       "8  LSQARZALBDFYQZ-UHFFFAOYSA-N   \n",
       "9  BYQDGAVOOHIJQS-UHFFFAOYSA-N   \n",
       "\n",
       "                                              SMILES  Solubility        SD  \\\n",
       "0                [Br-].CCCCCCCCCCCCCCCCCC[N+](C)(C)C   -3.616127  0.000000   \n",
       "1                               O=C1Nc2cccc3cccc1c23   -3.254767  0.000000   \n",
       "2                                    Clc1ccc(C=O)cc1   -2.177078  0.000000   \n",
       "3  [Zn++].CC(c1ccccc1)c2cc(C(C)c3ccccc3)c(O)c(c2)...   -3.924409  0.000000   \n",
       "4  C1OC1CN(CC2CO2)c3ccc(Cc4ccc(cc4)N(CC5CO5)CC6CO...   -4.662065  0.000000   \n",
       "5                                     Cc1cccc(C=C)c1   -3.123150  0.000000   \n",
       "6                                CCC1CCC(CCC(O)=O)C1   -3.286116  0.000000   \n",
       "7  CC12CC(O)C3C(CCC4=CC(=O)C=CC34C)C1CC(O)C2(O)C(...   -2.664549  0.000000   \n",
       "8                        Fc1ccc(cc1)C(=O)c2ccc(F)cc2   -4.396652  0.431513   \n",
       "9                O=C(OCCCOCCCOC(=O)c1ccccc1)c2ccccc2   -4.595503  0.118551   \n",
       "\n",
       "   Ocurrences Group    MolWt  ...  NumRotatableBonds  NumValenceElectrons  \\\n",
       "0           1    G1  392.510  ...               17.0                142.0   \n",
       "1           1    G1  169.183  ...                0.0                 62.0   \n",
       "2           1    G1  140.569  ...                1.0                 46.0   \n",
       "3           1    G1  756.226  ...               10.0                264.0   \n",
       "4           1    G1  422.525  ...               12.0                164.0   \n",
       "5           1    G1  118.179  ...                1.0                 46.0   \n",
       "6           1    G1  170.252  ...                4.0                 70.0   \n",
       "7           1    G1  376.449  ...                2.0                148.0   \n",
       "8           2    G3  218.202  ...                2.0                 80.0   \n",
       "9           2    G3  342.391  ...               10.0                132.0   \n",
       "\n",
       "   NumAromaticRings  NumSaturatedRings  NumAliphaticRings  RingCount    TPSA  \\\n",
       "0               0.0                0.0                0.0        0.0    0.00   \n",
       "1               2.0                0.0                1.0        3.0   29.10   \n",
       "2               1.0                0.0                0.0        1.0   17.07   \n",
       "3               6.0                0.0                0.0        6.0  120.72   \n",
       "4               2.0                4.0                4.0        6.0   56.60   \n",
       "5               1.0                0.0                0.0        1.0    0.00   \n",
       "6               0.0                1.0                1.0        1.0   37.30   \n",
       "7               0.0                3.0                4.0        4.0  115.06   \n",
       "8               2.0                0.0                0.0        2.0   17.07   \n",
       "9               2.0                0.0                0.0        2.0   61.83   \n",
       "\n",
       "    LabuteASA      BalabanJ      BertzCT  \n",
       "0  158.520601  0.000000e+00   210.377334  \n",
       "1   75.183563  2.582996e+00   511.229248  \n",
       "2   58.261134  3.009782e+00   202.661065  \n",
       "3  323.755434  2.322963e-07  1964.648666  \n",
       "4  183.183268  1.084427e+00   769.899934  \n",
       "5   55.836626  3.070761e+00   211.033225  \n",
       "6   73.973655  2.145839e+00   153.917569  \n",
       "7  158.135542  1.776978e+00   755.770792  \n",
       "8   91.346032  2.315628e+00   452.960733  \n",
       "9  147.071714  1.447050e+00   582.150793  \n",
       "\n",
       "[10 rows x 26 columns]"
      ]
     },
     "execution_count": 4,
     "metadata": {},
     "output_type": "execute_result"
    }
   ],
   "source": [
    "df.head(10)"
   ]
  },
  {
   "cell_type": "code",
   "execution_count": 5,
   "id": "37666725-9238-450e-973b-24930bfc2cb7",
   "metadata": {},
   "outputs": [
    {
     "data": {
      "text/plain": [
       "Index(['ID', 'Name', 'InChI', 'InChIKey', 'SMILES', 'Solubility', 'SD',\n",
       "       'Ocurrences', 'Group', 'MolWt', 'MolLogP', 'MolMR', 'HeavyAtomCount',\n",
       "       'NumHAcceptors', 'NumHDonors', 'NumHeteroatoms', 'NumRotatableBonds',\n",
       "       'NumValenceElectrons', 'NumAromaticRings', 'NumSaturatedRings',\n",
       "       'NumAliphaticRings', 'RingCount', 'TPSA', 'LabuteASA', 'BalabanJ',\n",
       "       'BertzCT'],\n",
       "      dtype='object')"
      ]
     },
     "execution_count": 5,
     "metadata": {},
     "output_type": "execute_result"
    }
   ],
   "source": [
    "df.columns"
   ]
  },
  {
   "cell_type": "code",
   "execution_count": 6,
   "id": "a1c54060-2028-438d-a2a3-c6aeed90cb9c",
   "metadata": {},
   "outputs": [
    {
     "data": {
      "text/plain": [
       "0       G1\n",
       "1       G1\n",
       "2       G1\n",
       "3       G1\n",
       "4       G1\n",
       "        ..\n",
       "9977    G1\n",
       "9978    G1\n",
       "9979    G5\n",
       "9980    G1\n",
       "9981    G5\n",
       "Name: Group, Length: 9982, dtype: object"
      ]
     },
     "execution_count": 6,
     "metadata": {},
     "output_type": "execute_result"
    }
   ],
   "source": [
    "df[\"Group\"]"
   ]
  },
  {
   "cell_type": "code",
   "execution_count": 7,
   "id": "0fafa689-a400-4d08-879f-476c6db07d58",
   "metadata": {},
   "outputs": [
    {
     "data": {
      "text/plain": [
       "Index(['ID', 'Name', 'InChI', 'InChIKey', 'SMILES', 'Solubility', 'SD',\n",
       "       'Ocurrences', 'Group', 'MolWt', 'MolLogP', 'MolMR', 'HeavyAtomCount',\n",
       "       'NumHAcceptors', 'NumHDonors', 'NumHeteroatoms', 'NumRotatableBonds',\n",
       "       'NumValenceElectrons', 'NumAromaticRings', 'NumSaturatedRings',\n",
       "       'NumAliphaticRings', 'RingCount', 'TPSA', 'LabuteASA', 'BalabanJ',\n",
       "       'BertzCT'],\n",
       "      dtype='object')"
      ]
     },
     "execution_count": 7,
     "metadata": {},
     "output_type": "execute_result"
    }
   ],
   "source": [
    "df.keys()"
   ]
  },
  {
   "cell_type": "code",
   "execution_count": 8,
   "id": "848833a1-3612-4247-82a6-fdbdf152265d",
   "metadata": {},
   "outputs": [
    {
     "data": {
      "text/plain": [
       "ID                      object\n",
       "Name                    object\n",
       "InChI                   object\n",
       "InChIKey                object\n",
       "SMILES                  object\n",
       "Solubility             float64\n",
       "SD                     float64\n",
       "Ocurrences               int64\n",
       "Group                   object\n",
       "MolWt                  float64\n",
       "MolLogP                float64\n",
       "MolMR                  float64\n",
       "HeavyAtomCount         float64\n",
       "NumHAcceptors          float64\n",
       "NumHDonors             float64\n",
       "NumHeteroatoms         float64\n",
       "NumRotatableBonds      float64\n",
       "NumValenceElectrons    float64\n",
       "NumAromaticRings       float64\n",
       "NumSaturatedRings      float64\n",
       "NumAliphaticRings      float64\n",
       "RingCount              float64\n",
       "TPSA                   float64\n",
       "LabuteASA              float64\n",
       "BalabanJ               float64\n",
       "BertzCT                float64\n",
       "dtype: object"
      ]
     },
     "execution_count": 8,
     "metadata": {},
     "output_type": "execute_result"
    }
   ],
   "source": [
    "df.dtypes"
   ]
  },
  {
   "cell_type": "markdown",
   "id": "bdaac84e-37d2-4651-a6e2-841f66c6b971",
   "metadata": {},
   "source": [
    "As the data type of each column listed above, the first 9 columns are the names, various identifiers of the compounds, and the original dataset before merging. They are irrelevant to our analysis because they are not traits or properties that describe or uniquely identify the compound's solubility. Therefore, we exclude them from our data analysis in the latter sections. "
   ]
  },
  {
   "cell_type": "code",
   "execution_count": 9,
   "id": "72711707-39c5-4f5a-9ecf-8b729216dc2c",
   "metadata": {},
   "outputs": [
    {
     "data": {
      "text/plain": [
       "ID                     0\n",
       "Name                   0\n",
       "InChI                  0\n",
       "InChIKey               0\n",
       "SMILES                 0\n",
       "Solubility             0\n",
       "SD                     0\n",
       "Ocurrences             0\n",
       "Group                  0\n",
       "MolWt                  0\n",
       "MolLogP                0\n",
       "MolMR                  0\n",
       "HeavyAtomCount         0\n",
       "NumHAcceptors          0\n",
       "NumHDonors             0\n",
       "NumHeteroatoms         0\n",
       "NumRotatableBonds      0\n",
       "NumValenceElectrons    0\n",
       "NumAromaticRings       0\n",
       "NumSaturatedRings      0\n",
       "NumAliphaticRings      0\n",
       "RingCount              0\n",
       "TPSA                   0\n",
       "LabuteASA              0\n",
       "BalabanJ               0\n",
       "BertzCT                0\n",
       "dtype: int64"
      ]
     },
     "execution_count": 9,
     "metadata": {},
     "output_type": "execute_result"
    }
   ],
   "source": [
    "df.isna().sum()"
   ]
  },
  {
   "cell_type": "markdown",
   "id": "6e00d75a-3348-4d1a-826e-e376e910980e",
   "metadata": {},
   "source": [
    "The given data has already been filtered, and no NaN existed. We don’t need to process the raw data further. "
   ]
  },
  {
   "cell_type": "markdown",
   "id": "7102b124-7518-4d05-b930-cd743936eeb1",
   "metadata": {},
   "source": [
    "## Training-Testing Split"
   ]
  },
  {
   "cell_type": "markdown",
   "id": "ec21b1a0-9aa4-4949-a660-778f8f4558dc",
   "metadata": {},
   "source": [
    "We separate the training and testing data to avoid potential bias. Additionally, we save the split data so that group members can work on separate models using the same dataset. Therefore, we can compare different models fairly in the end. "
   ]
  },
  {
   "cell_type": "code",
   "execution_count": 10,
   "id": "c35cc5af-9b31-42b7-a71a-c88f0ef0fe73",
   "metadata": {},
   "outputs": [],
   "source": [
    "def split_list(a_list, ratio):\n",
    "    \"\"\"\n",
    "    split a list into several list. The number of return list is specify by len(ratio). \n",
    "    The ratio will have +- 1 difference\n",
    "    return type will be python list (not np.array)\n",
    "    \n",
    "    a_list: list\n",
    "    ratio:  list-like, each element specifies the ratio of size for each output list. The ratio will be normalized\n",
    "    return: [list1, list2, ...]\n",
    "    \"\"\"\n",
    "    \n",
    "    def normalize_ratio(a_len, ratio):\n",
    "        ratio = np.array(ratio)\n",
    "        ratio_out = np.floor(ratio / np.sum(ratio) * a_len)\n",
    "        plus_1_list = np.random.choice(np.arange(ratio.shape[0]), int(a_len - np.sum(ratio_out)), replace=False)\n",
    "        for idx in plus_1_list:\n",
    "            ratio_out[idx] += 1\n",
    "        return ratio_out\n",
    "    \n",
    "    def random_split_into_2_list(a_list, output_1_size):\n",
    "        \"\"\"\n",
    "        this will randomly split a_list into two lists, where the size of the list1 is output_1_size\n",
    "\n",
    "        return (list1, list2)\n",
    "        \"\"\"\n",
    "        list1_sample_idx = np.random.choice(np.arange(len(a_list)), int(output_1_size), replace=False)\n",
    "\n",
    "        list1 = []\n",
    "        list2 = []\n",
    "        for idx in np.arange(len(a_list)):\n",
    "            if (idx in list1_sample_idx):\n",
    "                list1.append(a_list[idx])\n",
    "            else:\n",
    "                list2.append(a_list[idx])\n",
    "\n",
    "        return (list1, list2)\n",
    "    \n",
    "    ratio_lens = normalize_ratio(len(a_list), ratio)\n",
    "    \n",
    "    ret_val = [] # output list\n",
    "    temp_list = a_list[:] # make a copy of original list\n",
    "    for idx in np.arange(len(ratio)):\n",
    "        list1, list2 = random_split_into_2_list(temp_list, ratio_lens[idx])\n",
    "        ret_val.append(list1)\n",
    "        temp_list = list2\n",
    "        \n",
    "    return ret_val"
   ]
  },
  {
   "cell_type": "code",
   "execution_count": 11,
   "id": "71d27b46-4117-4127-9f6d-cd303ec1e632",
   "metadata": {},
   "outputs": [],
   "source": [
    "class Archive:\n",
    "    def __init__(self, file_path=None):\n",
    "        if (file_path is None):\n",
    "            self.file_path = \"\"\n",
    "        else:\n",
    "            self.file_path = file_path\n",
    "\n",
    "    def save_data(self, data, file_name):\n",
    "        with open(\"{}{}\".format(self.file_path, file_name), 'wb') as f:\n",
    "            pkl.dump(data, f)\n",
    "\n",
    "    def load_data(self, file_name):\n",
    "        with open(\"{}{}\".format(self.file_path, file_name), 'rb') as f:\n",
    "            return pkl.load(f)\n",
    "        \n",
    "data_directory = Archive()"
   ]
  },
  {
   "cell_type": "markdown",
   "id": "cc99a446-a267-4b95-aa51-684abd9fbeba",
   "metadata": {},
   "source": [
    "The relevent labels of input and output are the following:"
   ]
  },
  {
   "cell_type": "code",
   "execution_count": 12,
   "id": "5a511584-d86a-4842-aa3e-58f0106d04b6",
   "metadata": {},
   "outputs": [],
   "source": [
    "# Labels of input and output matrices\n",
    "X_label = [\n",
    "    'MolWt', 'MolLogP', 'MolMR', 'HeavyAtomCount',\n",
    "    'NumHAcceptors', 'NumHDonors', 'NumHeteroatoms', 'NumRotatableBonds',\n",
    "    'NumValenceElectrons', 'NumAromaticRings', 'NumSaturatedRings',\n",
    "    'NumAliphaticRings', 'RingCount', 'TPSA', 'LabuteASA', 'BalabanJ',\n",
    "    'BertzCT'\n",
    "]\n",
    "\n",
    "y_label = ['Solubility']\n",
    "\n",
    "ID_label = ['ID', 'Name', 'InChI', 'InChIKey', 'SMILES']"
   ]
  },
  {
   "cell_type": "code",
   "execution_count": 13,
   "id": "bf4ab44b-ac84-47ed-ac15-d63126fe561c",
   "metadata": {},
   "outputs": [],
   "source": [
    "# Shape the input and output matrices in correct format\n",
    "X_nparr = df[X_label].values\n",
    "y_nparr = df[y_label].values.reshape(-1)\n",
    "ID_df = df[ID_label]"
   ]
  },
  {
   "cell_type": "markdown",
   "id": "a1a4cd27-3154-4c02-9c71-00abba4c324f",
   "metadata": {},
   "source": [
    "We save our split data into `Solubility Data Splitted.pkl` file. \n",
    "\n",
    "The following cell will save the dataset for the first time, but it should remain commented afterwards because we don’t want to overwrite them. "
   ]
  },
  {
   "cell_type": "code",
   "execution_count": 14,
   "id": "29131ad6-0504-43f0-be8c-93190bea5b25",
   "metadata": {},
   "outputs": [],
   "source": [
    "# save check point\n",
    "\n",
    "# idx_train, idx_validation, idx_test = split_list(np.arange(df.shape[0]), [0.8, 0.2, 0.1])\n",
    "\n",
    "# X_train, y_train, ID_train = (X_nparr[idx_train], y_nparr[idx_train], ID_df.iloc[idx_train])\n",
    "# X_validation, y_validation, ID_validation = (X_nparr[idx_validation], y_nparr[idx_validation], ID_df.iloc[idx_validation])\n",
    "# X_test, y_test, ID_test = (X_nparr[idx_test], y_nparr[idx_test], ID_df.iloc[idx_test])\n",
    "\n",
    "# data_directory.save_data((\n",
    "#     (X_train, y_train, ID_train),\n",
    "#     (X_validation, y_validation, ID_validation),\n",
    "#     (X_test, y_test, ID_test)\n",
    "# ), \"Solubility Data Splitted.pkl\")"
   ]
  },
  {
   "cell_type": "markdown",
   "id": "15b5d1eb-87cb-443a-a469-add2ce436341",
   "metadata": {},
   "source": [
    "We load the data into respective variables. "
   ]
  },
  {
   "cell_type": "code",
   "execution_count": 15,
   "id": "4bdd6055-bb6c-4e4b-bee0-9daccdf22eee",
   "metadata": {},
   "outputs": [],
   "source": [
    "# load check point\n",
    "\n",
    "# only import training and validation data\n",
    "\n",
    "data_train, data_validation, _ = data_directory.load_data(\"Solubility Data Splitted.pkl\")\n",
    "X_train, y_train, ID_train = data_train\n",
    "X_validation, y_validation, ID_validation = data_validation"
   ]
  },
  {
   "cell_type": "markdown",
   "id": "03b6bc77-26a0-4cd6-9cad-6cfe9a252ce1",
   "metadata": {},
   "source": [
    "We normalized the input to avoid bias induced by the different magnitudes of data, which is essential for neural networks and clustering algorithms. We don’t have to normalize the output because it only has one dimension. "
   ]
  },
  {
   "cell_type": "code",
   "execution_count": 16,
   "id": "e299edf2-b37a-474c-bc35-d594c62d1df0",
   "metadata": {},
   "outputs": [],
   "source": [
    "# Standardize the input and output\n",
    "X_scaler = StandardScaler().fit(np.concatenate([X_train, X_validation], axis=0))\n",
    "\n",
    "# training, validation combined\n",
    "X_nparr_normalize = X_scaler.transform(np.concatenate([X_train, X_validation]))\n",
    "y_nparr = np.concatenate([y_train, y_validation], axis=0)\n",
    "\n",
    "# training data\n",
    "X_train_normalized = X_scaler.transform(X_train)\n",
    "\n",
    "# validation data\n",
    "X_validation_normalized = X_scaler.transform(X_validation)"
   ]
  },
  {
   "cell_type": "markdown",
   "id": "11c9cc8e-b9ab-47cd-8929-f6b809881557",
   "metadata": {},
   "source": [
    "Model Input Data:\n",
    "- `X_train`, `X_validation`: input, not normalized\n",
    "- `X_train_normalized`, `X_validation_normalized`: input, normalized version of the data above \n",
    "\n",
    "Model Output Data:\n",
    "- `y_train`, `y_validation`: output, not normalized"
   ]
  },
  {
   "cell_type": "markdown",
   "id": "06b0f5d5-2f12-4407-9c93-42df46e091c3",
   "metadata": {
    "tags": []
   },
   "source": [
    "## Linear Regression Model"
   ]
  },
  {
   "cell_type": "markdown",
   "id": "82590b0f-f816-42c2-be38-841d38baea4a",
   "metadata": {},
   "source": [
    "In this section, we will use linear regression to show the significance of each parameter when predicting solubility."
   ]
  },
  {
   "cell_type": "code",
   "execution_count": 17,
   "id": "73922df8-4fba-4b28-a894-25384ff20450",
   "metadata": {},
   "outputs": [],
   "source": [
    "model = LinearRegression().fit(X_nparr_normalize, y_nparr)"
   ]
  },
  {
   "cell_type": "code",
   "execution_count": 18,
   "id": "0d8d772a-ab6f-4aea-ab18-b3d4df507880",
   "metadata": {},
   "outputs": [
    {
     "data": {
      "text/plain": [
       "array([-0.84704518, -1.6040431 ,  0.6330497 , -5.83748705,  0.38282612,\n",
       "        0.20737015, -0.65410974,  0.18815604,  5.07460567, -0.48141889,\n",
       "        0.12483399, -0.12471032, -0.46217711, -0.25484318, -0.7967007 ,\n",
       "       -0.02146219,  2.4902883 ])"
      ]
     },
     "execution_count": 18,
     "metadata": {},
     "output_type": "execute_result"
    }
   ],
   "source": [
    "model.coef_"
   ]
  },
  {
   "cell_type": "markdown",
   "id": "4c37b94e-5a6d-4798-ac3a-cf5e26817682",
   "metadata": {},
   "source": [
    "### Linear Model Weights"
   ]
  },
  {
   "cell_type": "code",
   "execution_count": 19,
   "id": "1aea9ada-d1b9-46f9-a23b-dd2a748de278",
   "metadata": {},
   "outputs": [
    {
     "data": {
      "text/html": [
       "<div>\n",
       "<style scoped>\n",
       "    .dataframe tbody tr th:only-of-type {\n",
       "        vertical-align: middle;\n",
       "    }\n",
       "\n",
       "    .dataframe tbody tr th {\n",
       "        vertical-align: top;\n",
       "    }\n",
       "\n",
       "    .dataframe thead th {\n",
       "        text-align: right;\n",
       "    }\n",
       "</style>\n",
       "<table border=\"1\" class=\"dataframe\">\n",
       "  <thead>\n",
       "    <tr style=\"text-align: right;\">\n",
       "      <th></th>\n",
       "      <th>0</th>\n",
       "      <th>1</th>\n",
       "    </tr>\n",
       "  </thead>\n",
       "  <tbody>\n",
       "    <tr>\n",
       "      <th>0</th>\n",
       "      <td>HeavyAtomCount</td>\n",
       "      <td>-5.837487</td>\n",
       "    </tr>\n",
       "    <tr>\n",
       "      <th>1</th>\n",
       "      <td>NumValenceElectrons</td>\n",
       "      <td>5.074606</td>\n",
       "    </tr>\n",
       "    <tr>\n",
       "      <th>2</th>\n",
       "      <td>BertzCT</td>\n",
       "      <td>2.490288</td>\n",
       "    </tr>\n",
       "    <tr>\n",
       "      <th>3</th>\n",
       "      <td>MolLogP</td>\n",
       "      <td>-1.604043</td>\n",
       "    </tr>\n",
       "    <tr>\n",
       "      <th>4</th>\n",
       "      <td>MolWt</td>\n",
       "      <td>-0.847045</td>\n",
       "    </tr>\n",
       "    <tr>\n",
       "      <th>5</th>\n",
       "      <td>LabuteASA</td>\n",
       "      <td>-0.796701</td>\n",
       "    </tr>\n",
       "    <tr>\n",
       "      <th>6</th>\n",
       "      <td>NumHeteroatoms</td>\n",
       "      <td>-0.654110</td>\n",
       "    </tr>\n",
       "    <tr>\n",
       "      <th>7</th>\n",
       "      <td>MolMR</td>\n",
       "      <td>0.633050</td>\n",
       "    </tr>\n",
       "    <tr>\n",
       "      <th>8</th>\n",
       "      <td>NumAromaticRings</td>\n",
       "      <td>-0.481419</td>\n",
       "    </tr>\n",
       "    <tr>\n",
       "      <th>9</th>\n",
       "      <td>RingCount</td>\n",
       "      <td>-0.462177</td>\n",
       "    </tr>\n",
       "    <tr>\n",
       "      <th>10</th>\n",
       "      <td>NumHAcceptors</td>\n",
       "      <td>0.382826</td>\n",
       "    </tr>\n",
       "    <tr>\n",
       "      <th>11</th>\n",
       "      <td>TPSA</td>\n",
       "      <td>-0.254843</td>\n",
       "    </tr>\n",
       "    <tr>\n",
       "      <th>12</th>\n",
       "      <td>NumHDonors</td>\n",
       "      <td>0.207370</td>\n",
       "    </tr>\n",
       "    <tr>\n",
       "      <th>13</th>\n",
       "      <td>NumRotatableBonds</td>\n",
       "      <td>0.188156</td>\n",
       "    </tr>\n",
       "    <tr>\n",
       "      <th>14</th>\n",
       "      <td>NumSaturatedRings</td>\n",
       "      <td>0.124834</td>\n",
       "    </tr>\n",
       "    <tr>\n",
       "      <th>15</th>\n",
       "      <td>NumAliphaticRings</td>\n",
       "      <td>-0.124710</td>\n",
       "    </tr>\n",
       "    <tr>\n",
       "      <th>16</th>\n",
       "      <td>BalabanJ</td>\n",
       "      <td>-0.021462</td>\n",
       "    </tr>\n",
       "  </tbody>\n",
       "</table>\n",
       "</div>"
      ],
      "text/plain": [
       "                      0         1\n",
       "0        HeavyAtomCount -5.837487\n",
       "1   NumValenceElectrons  5.074606\n",
       "2               BertzCT  2.490288\n",
       "3               MolLogP -1.604043\n",
       "4                 MolWt -0.847045\n",
       "5             LabuteASA -0.796701\n",
       "6        NumHeteroatoms -0.654110\n",
       "7                 MolMR  0.633050\n",
       "8      NumAromaticRings -0.481419\n",
       "9             RingCount -0.462177\n",
       "10        NumHAcceptors  0.382826\n",
       "11                 TPSA -0.254843\n",
       "12           NumHDonors  0.207370\n",
       "13    NumRotatableBonds  0.188156\n",
       "14    NumSaturatedRings  0.124834\n",
       "15    NumAliphaticRings -0.124710\n",
       "16             BalabanJ -0.021462"
      ]
     },
     "metadata": {},
     "output_type": "display_data"
    }
   ],
   "source": [
    "weights = list(zip(X_label, model.coef_))\n",
    "weights.sort(key=lambda x: np.abs(x[1]), reverse=True)\n",
    "display(pd.DataFrame(weights))"
   ]
  },
  {
   "cell_type": "code",
   "execution_count": 20,
   "id": "cf5a842d",
   "metadata": {},
   "outputs": [
    {
     "data": {
      "image/png": "[encoded data removed]",
      "text/plain": [
       "<Figure size 864x576 with 1 Axes>"
      ]
     },
     "metadata": {
      "needs_background": "light"
     },
     "output_type": "display_data"
    }
   ],
   "source": [
    "df_sns = pd.DataFrame(\n",
    "    [{\"parameter\": weight[0], \"linear weight\": weight[1]} for weight in weights]\n",
    ")\n",
    "\n",
    "fig, ax = plt.subplots(1, 1, figsize=(12, 8))\n",
    "sns.barplot(\n",
    "    data=df_sns,\n",
    "    x=\"linear weight\",\n",
    "    y=\"parameter\",\n",
    "    ax=ax\n",
    ")\n",
    "ax.set_title(\"The Value of the Weights in the Linear Model for Predicting Solubility\")\n",
    "ax.set_xlabel(\"$|$weights$|$\")\n",
    "plt.show()"
   ]
  },
  {
   "cell_type": "markdown",
   "id": "f9c3e10c",
   "metadata": {},
   "source": [
    "From the figure above, we have more parameters that are negatively correlated to solubility than others. Furthermore, the absolute value of the negatively correlated parameter are tend to be larger. "
   ]
  },
  {
   "cell_type": "code",
   "execution_count": 21,
   "id": "79dbfe90-689a-4cdd-a65a-c5ad05a768b5",
   "metadata": {},
   "outputs": [
    {
     "name": "stdout",
     "output_type": "stream",
     "text": [
      "('HeavyAtomCount', -5.837487050036324)\n",
      "('NumValenceElectrons', 5.074605669634925)\n",
      "('BertzCT', 2.490288304480522)\n",
      "('MolLogP', -1.6040431041054433)\n",
      "('MolWt', -0.8470451809305141)\n"
     ]
    }
   ],
   "source": [
    "for i in np.arange(5):\n",
    "    print(weights[i])"
   ]
  },
  {
   "cell_type": "markdown",
   "id": "94f61ec3-8b0d-41b1-ba1e-0fa30322fd9b",
   "metadata": {},
   "source": [
    "The parameters above might be the first 5 most important parameter to predict solubility of compounds. We need to pay attention on them later in the project."
   ]
  },
  {
   "cell_type": "code",
   "execution_count": 22,
   "id": "4f34a11f-c18c-4391-85f5-0674f19e0d9a",
   "metadata": {},
   "outputs": [],
   "source": [
    "# save model for testing\n",
    "linear_regression_model = model"
   ]
  },
  {
   "cell_type": "markdown",
   "id": "82e2d3bb-3ec1-4bbf-8767-d971b1854776",
   "metadata": {},
   "source": [
    "### Variance ($r^2$) and Parity Plot "
   ]
  },
  {
   "cell_type": "code",
   "execution_count": 23,
   "id": "40b64f1b-9ce4-4098-bea2-bd712dab3819",
   "metadata": {},
   "outputs": [
    {
     "name": "stdout",
     "output_type": "stream",
     "text": [
      "Variance of the linear model is 0.514468654456381\n"
     ]
    }
   ],
   "source": [
    "print(\"Variance of the linear model is {0}\".format(r2_score(y_nparr, model.predict(X_nparr_normalize))))"
   ]
  },
  {
   "cell_type": "markdown",
   "id": "1bf83fe9",
   "metadata": {},
   "source": [
    "Linear regression model is not a good selection to predict the solubility of given parameter because the variance is low (We expect that a good model will have at least 0.80 variance). "
   ]
  },
  {
   "cell_type": "code",
   "execution_count": 24,
   "id": "860e8e82-0877-4d3a-b984-5c6b42425906",
   "metadata": {},
   "outputs": [
    {
     "data": {
      "image/png": "[encoded data removed]",
      "text/plain": [
       "<Figure size 432x288 with 1 Axes>"
      ]
     },
     "metadata": {
      "needs_background": "light"
     },
     "output_type": "display_data"
    }
   ],
   "source": [
    "y_nparr_predict = model.predict(X_nparr_normalize)\n",
    "\n",
    "plt.scatter(y_nparr, y_nparr_predict)\n",
    "\n",
    "# line of best fit (linear regression) on the parity plot. \n",
    "coeff = np.polyfit(y_nparr, y_nparr_predict, 1)\n",
    "y_nparr_predict = np.polyval(coeff, y_nparr)\n",
    "plt.plot(y_nparr, y_nparr_predict, c = 'orange')  # parity_plot (true_data, predicted_data)\n",
    "\n",
    "plt.xlabel(\"True value of validation data\")\n",
    "plt.ylabel(\"Predicted value of validation data\")\n",
    "plt.grid()\n",
    "plt.show()"
   ]
  },
  {
   "cell_type": "code",
   "execution_count": 25,
   "id": "c494f9b8-7419-4450-b168-82078ef4ec5e",
   "metadata": {},
   "outputs": [
    {
     "name": "stdout",
     "output_type": "stream",
     "text": [
      "The slope of the fitted line is 0.5144686544563797.\n"
     ]
    }
   ],
   "source": [
    "print(\"The slope of the fitted line is {0}.\".format(np.polyfit(y_nparr, model.predict(X_nparr_normalize), 1)[0]))"
   ]
  },
  {
   "cell_type": "markdown",
   "id": "d93243e5-eba6-430c-ab50-4c68e41943df",
   "metadata": {},
   "source": [
    "The slope in the perfectly fitted line is 1. Therefore, linear regression model is not powerful enough to predict solubility accurately. "
   ]
  },
  {
   "cell_type": "markdown",
   "id": "4d8dbf44-f96e-4224-a263-5f56d5a05646",
   "metadata": {},
   "source": [
    "# Neural Networks"
   ]
  },
  {
   "cell_type": "code",
   "execution_count": 26,
   "id": "559032e9-acc0-46db-9d36-509595d2a28d",
   "metadata": {},
   "outputs": [],
   "source": [
    "#Define a neural network model, and wrap this model in a function\n",
    "def nnmodel():\n",
    "    model = Sequential()\n",
    "    model.add(Dense(17, input_dim=X_train_normalized.shape[1], kernel_initializer='normal', activation='relu'))\n",
    "    model.add(Dense(34, kernel_initializer='normal', activation='relu'))\n",
    "    model.add(Dense(1, kernel_initializer='normal'))\n",
    "    model.compile(loss='mean_squared_error', optimizer='Adam')\n",
    "    return model"
   ]
  },
  {
   "cell_type": "code",
   "execution_count": 27,
   "id": "83599252-ee64-4b69-99c5-68303134e255",
   "metadata": {},
   "outputs": [
    {
     "name": "stderr",
     "output_type": "stream",
     "text": [
      "2022-12-06 22:35:06.234006: I tensorflow/core/platform/cpu_feature_guard.cc:142] This TensorFlow binary is optimized with oneAPI Deep Neural Network Library (oneDNN) to use the following CPU instructions in performance-critical operations:  SSE4.1 SSE4.2 AVX AVX2 FMA\n",
      "To enable them in other operations, rebuild TensorFlow with the appropriate compiler flags.\n",
      "2022-12-06 22:35:06.431420: I tensorflow/compiler/mlir/mlir_graph_optimization_pass.cc:116] None of the MLIR optimization passes are enabled (registered 2)\n",
      "2022-12-06 22:35:06.433409: I tensorflow/core/platform/profile_utils/cpu_utils.cc:112] CPU Frequency: 2199995000 Hz\n"
     ]
    }
   ],
   "source": [
    "estimator = KerasRegressor(build_fn=nnmodel) #nnmodel1 is the neural network model we defined above\n",
    "history = estimator.fit(X_train_normalized, y_train, validation_split=0.3, epochs=50, batch_size=34, verbose=0)"
   ]
  },
  {
   "cell_type": "code",
   "execution_count": 28,
   "id": "893a36c6-43b5-4986-ba31-d0a43218bd61",
   "metadata": {},
   "outputs": [
    {
     "data": {
      "image/png": "[encoded data removed]",
      "text/plain": [
       "<Figure size 432x288 with 1 Axes>"
      ]
     },
     "metadata": {
      "needs_background": "light"
     },
     "output_type": "display_data"
    }
   ],
   "source": [
    "plt.plot(range(50),history.history['loss'])\n",
    "plt.plot(range(50),history.history['val_loss'])\n",
    "plt.title('Learning Curves')\n",
    "plt.ylabel('loss')\n",
    "plt.xlabel('epoch') \n",
    "plt.legend(['train', 'validation'], loc='upper right')\n",
    "plt.grid()\n",
    "plt.show()"
   ]
  },
  {
   "cell_type": "code",
   "execution_count": 29,
   "id": "afaf795a-863e-4e5a-a8c4-1ea95a3f65e0",
   "metadata": {},
   "outputs": [
    {
     "name": "stdout",
     "output_type": "stream",
     "text": [
      "final MSE for train is 1.65 and for validation is 1.30\n"
     ]
    }
   ],
   "source": [
    "print(\"final MSE for train is %.2f and for validation is %.2f\" % \n",
    "      (history.history['loss'][-1], history.history['val_loss'][-1]))"
   ]
  },
  {
   "cell_type": "code",
   "execution_count": 30,
   "id": "cd85cf93-b043-4cc3-a663-f7938ef759d6",
   "metadata": {},
   "outputs": [
    {
     "name": "stdout",
     "output_type": "stream",
     "text": [
      "57/57 [==============================] - 0s 690us/step - loss: 1.5616\n",
      "test set mse is 1.56\n"
     ]
    }
   ],
   "source": [
    "test_loss = estimator.model.evaluate(X_validation_normalized, y_validation)\n",
    "print(\"test set mse is %.2f\" % test_loss)"
   ]
  },
  {
   "cell_type": "code",
   "execution_count": 31,
   "id": "4e9ff62c-90f4-4fc9-8c1a-5e460347fd36",
   "metadata": {},
   "outputs": [],
   "source": [
    "y_validation_predict = estimator.predict(X_validation_normalized)"
   ]
  },
  {
   "cell_type": "code",
   "execution_count": 32,
   "id": "b3cdc6a7-35c7-4128-bd35-5267a06aea54",
   "metadata": {},
   "outputs": [
    {
     "data": {
      "image/png": "[encoded data removed]",
      "text/plain": [
       "<Figure size 432x288 with 1 Axes>"
      ]
     },
     "metadata": {
      "needs_background": "light"
     },
     "output_type": "display_data"
    }
   ],
   "source": [
    "plt.scatter(y_validation, y_validation_predict)\n",
    "\n",
    "# line of best fit (linear regression) on the parity plot. \n",
    "coeff = np.polyfit(y_validation, y_validation_predict, 1)\n",
    "y_validation_predict_ = np.polyval(coeff, y_validation)\n",
    "plt.plot(y_validation, y_validation_predict_, c = 'orange')  # parity_plot (true_data, predicted_data)\n",
    "\n",
    "plt.xlabel(\"True value of validation data\")\n",
    "plt.ylabel(\"Predicted value of validation data\")\n",
    "plt.grid()\n",
    "plt.show()"
   ]
  },
  {
   "cell_type": "code",
   "execution_count": 33,
   "id": "d4715749-cc68-4df4-a055-3c952c6c9ec2",
   "metadata": {},
   "outputs": [
    {
     "name": "stdout",
     "output_type": "stream",
     "text": [
      "Variance of the neural network model is 0.7242402067715059\n"
     ]
    }
   ],
   "source": [
    "print(\"Cocariance of the neural network model is {0}\".format(r2_score(y_validation, y_validation_predict)))"
   ]
  },
  {
   "cell_type": "code",
   "execution_count": 34,
   "id": "e120d378-96d1-4946-a211-1531d3149e09",
   "metadata": {},
   "outputs": [],
   "source": [
    "# save model for testing\n",
    "neural_network_model = estimator.model"
   ]
  },
  {
   "cell_type": "markdown",
   "id": "39acc008-742f-4233-aa4a-e33af41def21",
   "metadata": {},
   "source": [
    "# Principal Component Analysis and Neural Network"
   ]
  },
  {
   "cell_type": "markdown",
   "id": "1493435c-56da-40ff-923f-3e14ecf08e2b",
   "metadata": {
    "tags": []
   },
   "source": [
    "## PCA\n",
    "\n",
    "Principal component Analysis (PCA) is a method of unsupervised learning for feature extraction so that we can extract the features by importance. PCA is also used for dimensionality reduction to reduce high dimension dataset into lower dimension by grouping the features in the unsupervised approach. By grouping some of the original features, some information will be lost so we need to decide how many of the \"new\" features that we want to have in the reduced dataset. \n",
    "\n",
    "To do that we can plot the cumulative variance as the number of features. \n",
    "\n",
    "### Mathematical Perspective (SVD & Covariance) "
   ]
  },
  {
   "cell_type": "code",
   "execution_count": 35,
   "id": "00446611-ddf5-44b8-b821-ec048863c577",
   "metadata": {},
   "outputs": [],
   "source": [
    "max_n_pcs = X_nparr_normalize.shape[1]"
   ]
  },
  {
   "cell_type": "markdown",
   "id": "6411d815-b2bd-4b66-8b4c-1efa7ba235bb",
   "metadata": {},
   "source": [
    "We will apply PCA on all the dimension of the data and we will plot the explained variance ratio to see what is the minimum components we can use so that we can preserve the data up to 90% with the reduced data dimension."
   ]
  },
  {
   "cell_type": "code",
   "execution_count": 36,
   "id": "b904f162-71c5-425e-ace9-c435010492d7",
   "metadata": {},
   "outputs": [
    {
     "data": {
      "text/plain": [
       "PCA(n_components=17)"
      ]
     },
     "execution_count": 36,
     "metadata": {},
     "output_type": "execute_result"
    }
   ],
   "source": [
    "pca_17 = PCA(n_components=max_n_pcs) \n",
    "pca_17.fit(X_nparr_normalize)"
   ]
  },
  {
   "cell_type": "code",
   "execution_count": 37,
   "id": "9cd2284b-fda1-4d60-85a0-7b740b599c9a",
   "metadata": {},
   "outputs": [
    {
     "data": {
      "text/plain": [
       "[3, 1, 11, 9, 15, 5, 7, 1, 4, 13, 13, 0, 16, 14, 2, 3, 12]"
      ]
     },
     "execution_count": 37,
     "metadata": {},
     "output_type": "execute_result"
    }
   ],
   "source": [
    "most_important_features_index = [np.abs(pca_17.components_[i]).argmax() for i in range(max_n_pcs)]\n",
    "most_important_features_index"
   ]
  },
  {
   "cell_type": "markdown",
   "id": "65412af7-2454-4891-a6e2-7fda74e70160",
   "metadata": {},
   "source": [
    "The order of features from most to least important"
   ]
  },
  {
   "cell_type": "code",
   "execution_count": 38,
   "id": "fdb07ab4-256d-4fc6-b88e-13f590ea3e27",
   "metadata": {},
   "outputs": [
    {
     "data": {
      "text/plain": [
       "['HeavyAtomCount',\n",
       " 'MolLogP',\n",
       " 'NumAliphaticRings',\n",
       " 'NumAromaticRings',\n",
       " 'BalabanJ',\n",
       " 'NumHDonors',\n",
       " 'NumRotatableBonds',\n",
       " 'MolLogP',\n",
       " 'NumHAcceptors',\n",
       " 'TPSA',\n",
       " 'TPSA',\n",
       " 'MolWt',\n",
       " 'BertzCT',\n",
       " 'LabuteASA',\n",
       " 'MolMR',\n",
       " 'HeavyAtomCount',\n",
       " 'RingCount']"
      ]
     },
     "execution_count": 38,
     "metadata": {},
     "output_type": "execute_result"
    }
   ],
   "source": [
    "most_important_features = [X_label[i] for i in most_important_features_index]\n",
    "most_important_features"
   ]
  },
  {
   "cell_type": "code",
   "execution_count": 39,
   "id": "e57a030f-b5af-4a22-9c80-7d2f5e89661b",
   "metadata": {},
   "outputs": [
    {
     "data": {
      "text/plain": [
       "Text(0, 0.5, 'Explained variance')"
      ]
     },
     "execution_count": 39,
     "metadata": {},
     "output_type": "execute_result"
    },
    {
     "data": {
      "image/png": "[encoded data removed]",
      "text/plain": [
       "<Figure size 432x288 with 1 Axes>"
      ]
     },
     "metadata": {
      "needs_background": "light"
     },
     "output_type": "display_data"
    }
   ],
   "source": [
    "plt.grid()\n",
    "plt.scatter(range(0,17),np.cumsum(pca_17.explained_variance_ratio_ * 100))\n",
    "plt.plot(range(0,17),np.cumsum(pca_17.explained_variance_ratio_ * 100))\n",
    "plt.xlabel('Number of components')\n",
    "plt.ylabel('Explained variance')"
   ]
  },
  {
   "cell_type": "markdown",
   "id": "118488d3-9983-42e0-80d4-7fca454f2ca6",
   "metadata": {},
   "source": [
    "We will use 5 components of PCA since it will give us at least 90% attributes of the original dataset. "
   ]
  },
  {
   "cell_type": "code",
   "execution_count": 40,
   "id": "c7a72cfa-82b2-4bb2-8942-b43ec62a815c",
   "metadata": {},
   "outputs": [
    {
     "data": {
      "text/plain": [
       "PCA(n_components=5)"
      ]
     },
     "execution_count": 40,
     "metadata": {},
     "output_type": "execute_result"
    }
   ],
   "source": [
    "pca = PCA(n_components=5) \n",
    "pca.fit(X_nparr_normalize)"
   ]
  },
  {
   "cell_type": "code",
   "execution_count": 41,
   "id": "f44a6065-e61e-40f8-88fb-4b27ac2efcf9",
   "metadata": {},
   "outputs": [],
   "source": [
    "reduced_x_nparr_normal = pca.transform(X_nparr_normalize)"
   ]
  },
  {
   "cell_type": "code",
   "execution_count": 42,
   "id": "b1571f12-5f8a-43a3-adc5-792af66bf8a1",
   "metadata": {},
   "outputs": [],
   "source": [
    "reduced_x_train_normal = pca.transform(X_train_normalized)"
   ]
  },
  {
   "cell_type": "code",
   "execution_count": 43,
   "id": "d8a4a0dd-ad45-495a-8f6b-b072e83554e6",
   "metadata": {},
   "outputs": [
    {
     "data": {
      "text/plain": [
       "(7259, 5)"
      ]
     },
     "execution_count": 43,
     "metadata": {},
     "output_type": "execute_result"
    }
   ],
   "source": [
    "reduced_x_train_normal.shape"
   ]
  },
  {
   "cell_type": "code",
   "execution_count": 44,
   "id": "2c661521-936d-435d-927a-5a38a3fb9650",
   "metadata": {},
   "outputs": [],
   "source": [
    "reduced_x_validation_normal = pca.transform(X_validation_normalized)"
   ]
  },
  {
   "cell_type": "code",
   "execution_count": 45,
   "id": "828d37d6-c90d-41f1-9f1f-505116656fa4",
   "metadata": {},
   "outputs": [],
   "source": [
    "# reduced_x_test = pca.transform(X_test_normalized)"
   ]
  },
  {
   "cell_type": "markdown",
   "id": "ee804202-1500-49e3-9d8a-2ca7097d2d74",
   "metadata": {},
   "source": [
    "## NN\n",
    "\n"
   ]
  },
  {
   "cell_type": "code",
   "execution_count": 46,
   "id": "96a6a225-f1d4-4012-9e54-79022f478b23",
   "metadata": {},
   "outputs": [],
   "source": [
    "#Define a neural network model, and wrap this model in a function\n",
    "def nn_PCA_model():\n",
    "    model = Sequential()\n",
    "    model.add(Dense(16, input_dim=reduced_x_nparr_normal.shape[1], kernel_initializer='normal', activation='relu'))\n",
    "    model.add(Dense(7, kernel_initializer='normal', activation='relu'))\n",
    "    #model.add(Dense(8, kernel_initializer='normal', activation='relu'))\n",
    "    model.add(Dense(4,kernel_initializer='normal', activation='relu'))\n",
    "    model.add(Dense(1, kernel_initializer='normal'))\n",
    "    model.compile(loss='mean_squared_error', optimizer='adam')\n",
    "    return model"
   ]
  },
  {
   "cell_type": "code",
   "execution_count": 47,
   "id": "72c63a3a-a10a-4198-8f1a-2b8f104b9a1b",
   "metadata": {},
   "outputs": [],
   "source": [
    "estimator = KerasRegressor(build_fn=nn_PCA_model) #nnmodel1 is the neural network model we defined above\n",
    "history = estimator.fit(reduced_x_nparr_normal, y_nparr, validation_split=0.2, epochs=100, batch_size=32, verbose=0)"
   ]
  },
  {
   "cell_type": "code",
   "execution_count": 48,
   "id": "2c70a9d1-0acb-4daf-865a-c37ef126dfb3",
   "metadata": {},
   "outputs": [
    {
     "name": "stdout",
     "output_type": "stream",
     "text": [
      "Model: \"sequential_1\"\n",
      "_________________________________________________________________\n",
      "Layer (type)                 Output Shape              Param #   \n",
      "=================================================================\n",
      "dense_3 (Dense)              (None, 16)                96        \n",
      "_________________________________________________________________\n",
      "dense_4 (Dense)              (None, 7)                 119       \n",
      "_________________________________________________________________\n",
      "dense_5 (Dense)              (None, 4)                 32        \n",
      "_________________________________________________________________\n",
      "dense_6 (Dense)              (None, 1)                 5         \n",
      "=================================================================\n",
      "Total params: 252\n",
      "Trainable params: 252\n",
      "Non-trainable params: 0\n",
      "_________________________________________________________________\n"
     ]
    }
   ],
   "source": [
    "estimator.model.summary()"
   ]
  },
  {
   "cell_type": "code",
   "execution_count": 49,
   "id": "958e5c35-3bf1-4650-8228-058d39d1ac55",
   "metadata": {},
   "outputs": [
    {
     "data": {
      "image/png": "[encoded data removed]",
      "text/plain": [
       "<Figure size 432x288 with 1 Axes>"
      ]
     },
     "metadata": {
      "needs_background": "light"
     },
     "output_type": "display_data"
    }
   ],
   "source": [
    "plt.plot(range(100),history.history['loss'])\n",
    "plt.plot(range(100),history.history['val_loss'])\n",
    "plt.title('Learning Curves')\n",
    "plt.ylabel('loss')\n",
    "plt.xlabel('epoch') \n",
    "plt.legend(['train', 'validation'], loc='upper right')\n",
    "plt.grid()\n",
    "plt.show()"
   ]
  },
  {
   "cell_type": "code",
   "execution_count": 50,
   "id": "7b4cb30e-c20e-4916-8051-20b4c60b15b6",
   "metadata": {},
   "outputs": [
    {
     "name": "stdout",
     "output_type": "stream",
     "text": [
      "final MSE for train is 1.98 and for validation is 1.83\n"
     ]
    }
   ],
   "source": [
    "print(\"final MSE for train is %.2f and for validation is %.2f\" % \n",
    "      (history.history['loss'][-1], history.history['val_loss'][-1]))"
   ]
  },
  {
   "cell_type": "code",
   "execution_count": 51,
   "id": "7de93292-0812-44a8-9a97-a89cd17bda31",
   "metadata": {},
   "outputs": [
    {
     "data": {
      "image/png": "[encoded data removed]",
      "text/plain": [
       "<Figure size 432x288 with 1 Axes>"
      ]
     },
     "metadata": {
      "needs_background": "light"
     },
     "output_type": "display_data"
    }
   ],
   "source": [
    "y_validation_predict3 = estimator.predict(reduced_x_validation_normal)\n",
    "plt.scatter(y_validation, y_validation_predict3)\n",
    "\n",
    "# line of best fit (linear regression) on the parity plot. \n",
    "coeff = np.polyfit(y_validation, y_validation_predict3, 1)\n",
    "y_validation_predict3_ = np.polyval(coeff, y_validation)\n",
    "plt.plot(y_validation, y_validation_predict3_, c = 'orange')  # parity_plot (true_data, predicted_data)\n",
    "\n",
    "plt.xlabel(\"True value of validation data\")\n",
    "plt.ylabel(\"Predicted value of validation data\")\n",
    "plt.grid()\n",
    "plt.show()"
   ]
  },
  {
   "cell_type": "code",
   "execution_count": 52,
   "id": "7f187f02-4933-464e-9557-a9d0e2a218fe",
   "metadata": {},
   "outputs": [
    {
     "name": "stdout",
     "output_type": "stream",
     "text": [
      "Variance of the PCA+NN model is 0.677454818760012\n"
     ]
    }
   ],
   "source": [
    "print(\"Variance of the PCA+NN model is {0}\".format(r2_score(y_validation, y_validation_predict3)))"
   ]
  },
  {
   "cell_type": "markdown",
   "id": "58b6732a-726b-4aa3-b15a-4072638fb3aa",
   "metadata": {},
   "source": [
    "### Hyperparameter Tuning NN"
   ]
  },
  {
   "cell_type": "code",
   "execution_count": 53,
   "id": "d5e441cc-0131-4c9d-b384-e569dfb1f750",
   "metadata": {},
   "outputs": [],
   "source": [
    "def regression_nn_builder(hp):\n",
    "    \n",
    "    '''\n",
    "    This is a builder function to define and compile a neural network\n",
    "    \n",
    "    Parameters:\n",
    "    '''\n",
    "    a = np.random.randint(5,15,size=1)\n",
    "    b = np.random.randint(1,10,size=1)\n",
    "    model = Sequential()\n",
    "    model.add(Dense(units=hp.Int(\"units_0\", min_value=1, max_value=20, step=1), \n",
    "                    input_dim=reduced_x_nparr_normal.shape[1], kernel_initializer='normal', activation='relu'))\n",
    "    model.add(Dense(units=hp.Int(\"units_1\", min_value=1, max_value=20, step=1), kernel_initializer='normal', activation='relu'))\n",
    "    model.add(Dense(units=hp.Int(\"units_2\", min_value=1, max_value=20, step=1),kernel_initializer='normal', activation='relu'))\n",
    "    model.add(Dense(1, kernel_initializer='normal'))\n",
    "    hp_learning_rate = hp.Choice('learning_rate', values=[5e-3,3e-3, 1e-3, 5e-4,1e-4])\n",
    "        \n",
    "    model.compile(loss='mean_squared_error', \n",
    "                  optimizer=keras.optimizers.Adam(learning_rate=hp_learning_rate),metrics=[keras.metrics.MeanSquaredError()])\n",
    "    return model"
   ]
  },
  {
   "cell_type": "code",
   "execution_count": 54,
   "id": "d28eb85b-7768-48fb-a8e7-6d0f3854177d",
   "metadata": {},
   "outputs": [],
   "source": [
    "# set the build function to be binary_nn_builder\n",
    "# set the default value of batch_size to be 32\n",
    "\n",
    "tuner = kt.RandomSearch(\n",
    "    hypermodel=regression_nn_builder,\n",
    "    objective=kt.Objective(\"val_mean_squared_error\", direction=\"min\"),\n",
    "    max_trials=40,\n",
    "    executions_per_trial=3,\n",
    "    overwrite=True,\n",
    "    directory=\"tuning_hyperparameter1\",\n",
    "    project_name=\"Trial2\",\n",
    ")"
   ]
  },
  {
   "cell_type": "code",
   "execution_count": 55,
   "id": "7cc81a39-16df-4bcc-a4d3-bcc7ab3b3d50",
   "metadata": {},
   "outputs": [
    {
     "name": "stdout",
     "output_type": "stream",
     "text": [
      "Search space summary\n",
      "Default search space size: 4\n",
      "units_0 (Int)\n",
      "{'default': None, 'conditions': [], 'min_value': 1, 'max_value': 20, 'step': 1, 'sampling': None}\n",
      "units_1 (Int)\n",
      "{'default': None, 'conditions': [], 'min_value': 1, 'max_value': 20, 'step': 1, 'sampling': None}\n",
      "units_2 (Int)\n",
      "{'default': None, 'conditions': [], 'min_value': 1, 'max_value': 20, 'step': 1, 'sampling': None}\n",
      "learning_rate (Choice)\n",
      "{'default': 0.005, 'conditions': [], 'values': [0.005, 0.003, 0.001, 0.0005, 0.0001], 'ordered': True}\n"
     ]
    }
   ],
   "source": [
    "tuner.search_space_summary()"
   ]
  },
  {
   "cell_type": "code",
   "execution_count": 56,
   "id": "4ce7d3ea-ee82-4805-ad39-25500352398b",
   "metadata": {},
   "outputs": [
    {
     "name": "stdout",
     "output_type": "stream",
     "text": [
      "Trial 40 Complete [00h 01m 42s]\n",
      "val_mean_squared_error: 2.3510896364847818\n",
      "\n",
      "Best val_mean_squared_error So Far: 1.6584873994191487\n",
      "Total elapsed time: 01h 04m 27s\n",
      "INFO:tensorflow:Oracle triggered exit\n"
     ]
    }
   ],
   "source": [
    "tuner.search(reduced_x_train_normal, y_train, epochs=100, validation_data=(reduced_x_validation_normal, y_validation))"
   ]
  },
  {
   "cell_type": "code",
   "execution_count": 57,
   "id": "4145a81b-f434-40b7-9446-5208808f0b0a",
   "metadata": {},
   "outputs": [
    {
     "name": "stdout",
     "output_type": "stream",
     "text": [
      "Model: \"sequential\"\n",
      "_________________________________________________________________\n",
      "Layer (type)                 Output Shape              Param #   \n",
      "=================================================================\n",
      "dense (Dense)                (None, 19)                114       \n",
      "_________________________________________________________________\n",
      "dense_1 (Dense)              (None, 19)                380       \n",
      "_________________________________________________________________\n",
      "dense_2 (Dense)              (None, 10)                200       \n",
      "_________________________________________________________________\n",
      "dense_3 (Dense)              (None, 1)                 11        \n",
      "=================================================================\n",
      "Total params: 705\n",
      "Trainable params: 705\n",
      "Non-trainable params: 0\n",
      "_________________________________________________________________\n"
     ]
    }
   ],
   "source": [
    "# Get the top 2 models.\n",
    "models = tuner.get_best_models(num_models=2)\n",
    "best_model = models[0]\n",
    "# Build the model.\n",
    "# Needed for `Sequential` without specified `input_shape`.\n",
    "best_model.build(input_shape=reduced_x_nparr_normal.shape[1])\n",
    "best_model.summary()"
   ]
  },
  {
   "cell_type": "code",
   "execution_count": 58,
   "id": "60d4ef12-08f9-471c-a99f-05b00996d4b9",
   "metadata": {},
   "outputs": [
    {
     "name": "stdout",
     "output_type": "stream",
     "text": [
      "57/57 [==============================] - 0s 790us/step - loss: 1.9522 - mean_squared_error: 1.9522\n"
     ]
    },
    {
     "data": {
      "text/plain": [
       "[1.6113519668579102, 1.6113519668579102]"
      ]
     },
     "execution_count": 58,
     "metadata": {},
     "output_type": "execute_result"
    }
   ],
   "source": [
    "best_model.evaluate(reduced_x_validation_normal, y_validation)"
   ]
  },
  {
   "cell_type": "code",
   "execution_count": 59,
   "id": "ef6d0bff-5d05-4355-83eb-bbe2f671e163",
   "metadata": {},
   "outputs": [
    {
     "data": {
      "text/plain": [
       "1.6113520770909688"
      ]
     },
     "execution_count": 59,
     "metadata": {},
     "output_type": "execute_result"
    }
   ],
   "source": [
    "mean_squared_error(y_validation, best_model.predict(reduced_x_validation_normal))"
   ]
  },
  {
   "cell_type": "code",
   "execution_count": 60,
   "id": "e2fe4765-fade-4e00-ab3e-e8b0d3a54907",
   "metadata": {},
   "outputs": [
    {
     "data": {
      "image/png": "[encoded data removed]",
      "text/plain": [
       "<Figure size 432x288 with 1 Axes>"
      ]
     },
     "metadata": {
      "needs_background": "light"
     },
     "output_type": "display_data"
    }
   ],
   "source": [
    "y_validation_predict3 = best_model.predict(reduced_x_validation_normal)\n",
    "plt.scatter(y_validation, y_validation_predict3)\n",
    "\n",
    "# line of best fit (linear regression) on the parity plot. \n",
    "coeff = np.polyfit(y_validation, y_validation_predict3, 1)\n",
    "y_validation_predict3_ = np.polyval(coeff, y_validation)\n",
    "plt.plot(y_validation, y_validation_predict3_, c = 'orange')  # parity_plot (true_data, predicted_data)\n",
    "\n",
    "plt.xlabel(\"True value of validation data\")\n",
    "plt.ylabel(\"Predicted value of validation data\")\n",
    "plt.grid()"
   ]
  },
  {
   "cell_type": "code",
   "execution_count": 61,
   "id": "c5557b71-f011-472c-9bb5-7c273350d24e",
   "metadata": {},
   "outputs": [
    {
     "name": "stdout",
     "output_type": "stream",
     "text": [
      "Variance of the PCA+NN model (after fine tuning) is 0.7154630444673675\n"
     ]
    }
   ],
   "source": [
    "print(\"Variance of the PCA+NN model (after fine tuning) is {0}\".format(r2_score(y_validation, y_validation_predict3)))"
   ]
  },
  {
   "cell_type": "code",
   "execution_count": 62,
   "id": "e7f2982b-1405-48f4-9728-994988b7dea3",
   "metadata": {},
   "outputs": [],
   "source": [
    "# save model for testing\n",
    "PCA_NN_model = {}\n",
    "PCA_NN_model[\"PCA\"] = pca\n",
    "PCA_NN_model[\"nn\"] = best_model"
   ]
  },
  {
   "cell_type": "markdown",
   "id": "c2700e4a-1dc0-4446-9a37-334fe37c0db1",
   "metadata": {},
   "source": [
    "# K-Mean Cluster and Neural Network"
   ]
  },
  {
   "cell_type": "markdown",
   "id": "29694e1d-9ec4-4d12-b891-6d49f42b42de",
   "metadata": {},
   "source": [
    "K-mean Clustering (KMC) is an unsupervised machine-learning technique that groups similar data. Compared to PCA, which reduces the dimension of the data, grouping by K-mean Clustering reduces the mean variance of the dataset. Also, the neural network's complexity depends on the variance of datasets. In other words, if the dataset is simple, we can dramatically reduce the complexity of neural networks, resulting in models with fewer hidden layers and fewer perceptron. \n",
    "\n",
    "Thus, we hypothesize that running a neural network on each group would return better results because the variance of each group is significantly smaller than that of the entire dataset. \n"
   ]
  },
  {
   "cell_type": "markdown",
   "id": "71674ce0-f9e5-4456-8ade-1ca1f9e106aa",
   "metadata": {},
   "source": [
    "## KMC "
   ]
  },
  {
   "cell_type": "markdown",
   "id": "c3af6d11-3927-4a43-831f-00fdc572165a",
   "metadata": {},
   "source": [
    "### Finding Optimal Groups "
   ]
  },
  {
   "cell_type": "markdown",
   "id": "2f70fdb4-de20-4665-9997-670356762415",
   "metadata": {},
   "source": [
    "We use Elbow Mehod to find the optimal group for this dataset. "
   ]
  },
  {
   "cell_type": "code",
   "execution_count": 159,
   "id": "ca34170c-bc7c-4c95-96af-91ab13aeae43",
   "metadata": {},
   "outputs": [
    {
     "data": {
      "image/png": "[encoded data removed]",
      "text/plain": [
       "<Figure size 1440x576 with 1 Axes>"
      ]
     },
     "metadata": {
      "needs_background": "light"
     },
     "output_type": "display_data"
    }
   ],
   "source": [
    "sse = []\n",
    "x_plot = np.arange(30) + 1\n",
    "for k in x_plot:\n",
    "    KMC_Model = KMeans(\n",
    "        n_clusters=k,\n",
    "        n_init=10,\n",
    "        init='k-means++',\n",
    "        max_iter=300,\n",
    "    ).fit(\n",
    "        X_nparr_normalize\n",
    "    )\n",
    "    sse.append(KMC_Model.inertia_)\n",
    "\n",
    "plt.figure(figsize=(20,8))\n",
    "plt.plot(x_plot, sse)\n",
    "plt.vlines(5, np.min(sse), np.max(sse), colors=\"k\", linestyle=\"--\")\n",
    "plt.xticks(x_plot)\n",
    "plt.xlabel(\"Number of Clusters\")\n",
    "plt.ylabel(\"SSE\")\n",
    "plt.show()"
   ]
  },
  {
   "cell_type": "markdown",
   "id": "80567c14-f250-4103-ac5d-7d77a9d223fc",
   "metadata": {},
   "source": [
    "At $k=5$, the sum of the squared error is small while the number of groups is not large. "
   ]
  },
  {
   "cell_type": "markdown",
   "id": "9cfe18f0-14fa-4f87-a6d1-c1fdcecdaaf0",
   "metadata": {},
   "source": [
    "### Calculation"
   ]
  },
  {
   "cell_type": "code",
   "execution_count": 64,
   "id": "6c1dbe44-8171-48b5-b24a-7c1c116e8e53",
   "metadata": {},
   "outputs": [],
   "source": [
    "# fit input by K-Mean clustering\n",
    "num_clusters = 5\n",
    "KMC_Model = KMeans(\n",
    "    n_clusters=num_clusters,\n",
    "    n_init=10,\n",
    "    init='k-means++',\n",
    "    max_iter=300,\n",
    ").fit(\n",
    "    X_nparr_normalize\n",
    ")"
   ]
  },
  {
   "cell_type": "markdown",
   "id": "082e9e57-f9cd-4493-8fa4-087c4396785c",
   "metadata": {},
   "source": [
    "K-mean cluster have very unpredictable output everytime, which makes the interpretation invalid each time we restart the script. Therefore, we fix the centroids and ease the discussion later. "
   ]
  },
  {
   "cell_type": "code",
   "execution_count": 65,
   "id": "0fb7cc26-891f-4508-953e-c06ea727ecb2",
   "metadata": {},
   "outputs": [],
   "source": [
    "# Save KMC Model cluster centers\n",
    "# data_directory.save_data(KMC_Model.cluster_centers_, \"KMC_cluster_centers.pkl\")"
   ]
  },
  {
   "cell_type": "code",
   "execution_count": 66,
   "id": "f2fe828e-0da7-4bc0-83a7-4e62487bc0b4",
   "metadata": {},
   "outputs": [],
   "source": [
    "# Load KMC Model cluster centers\n",
    "KMC_Model.cluster_centers_ = data_directory.load_data(\"KMC_cluster_centers.pkl\")"
   ]
  },
  {
   "cell_type": "code",
   "execution_count": 67,
   "id": "6c7d5778-effb-4513-8da1-80c96710c9c2",
   "metadata": {},
   "outputs": [],
   "source": [
    "# calculate distance between each sample and its respective centroid. \n",
    "dist = []\n",
    "for centroid_idx in np.arange(num_clusters):\n",
    "    # finding the euclidean disntance between given centroid and all inputs\n",
    "    centroid = KMC_Model.cluster_centers_[centroid_idx]\n",
    "    centroid_matrix = np.matmul(np.ones(X_nparr_normalize.shape[0]).reshape(1, -1).T, centroid.reshape(1, -1))\n",
    "    dist.append(np.sum(np.power(centroid_matrix - X_nparr_normalize, 2), axis=1))\n",
    "\n",
    "dist = np.array(dist)\n",
    "    "
   ]
  },
  {
   "cell_type": "markdown",
   "id": "189bf61d-0e27-41cf-b07a-aeaaa697c75e",
   "metadata": {},
   "source": [
    "The group sizes below. "
   ]
  },
  {
   "cell_type": "code",
   "execution_count": 68,
   "id": "94b1c412-e07e-47f0-b3ee-0b55f8234d22",
   "metadata": {},
   "outputs": [],
   "source": [
    "# The closest centroid for each sample\n",
    "closest_centroid = np.argmin(dist, axis=0)"
   ]
  },
  {
   "cell_type": "code",
   "execution_count": 69,
   "id": "f39bc08a-12b1-468a-befc-11c922300b60",
   "metadata": {},
   "outputs": [
    {
     "data": {
      "text/plain": [
       "[3087, 5034, 370, 42, 541]"
      ]
     },
     "execution_count": 69,
     "metadata": {},
     "output_type": "execute_result"
    }
   ],
   "source": [
    "[np.count_nonzero(closest_centroid == i) for i in np.arange(num_clusters)]"
   ]
  },
  {
   "cell_type": "markdown",
   "id": "9dd64acf-2df6-4396-8e69-9e392d79e68c",
   "metadata": {},
   "source": [
    "Each centroid has decent amount of data, which is enough to run neural models. "
   ]
  },
  {
   "cell_type": "markdown",
   "id": "0dcff7ef-8f7f-41f9-8909-cf496b7b1e64",
   "metadata": {},
   "source": [
    "## NN"
   ]
  },
  {
   "cell_type": "markdown",
   "id": "09a9be24-10ac-4d7d-af74-9bfc06fce55e",
   "metadata": {},
   "source": [
    "Due to the randomization nature of the K-Means Clustering Algorithm, the grouping varies every time we run the model. So, we will use a random search for each group's best hyperparameters, including the perception number in the first, second, and third hidden layers. "
   ]
  },
  {
   "cell_type": "markdown",
   "id": "ce06af07-0005-4ca2-a6cc-37c630203795",
   "metadata": {},
   "source": [
    "### Model and Training"
   ]
  },
  {
   "cell_type": "code",
   "execution_count": 70,
   "id": "4acf6192-446a-40a8-b72d-40556dd78ae6",
   "metadata": {},
   "outputs": [],
   "source": [
    "def nn_KMC_type(h0, h1, h2):\n",
    "    model = Sequential()\n",
    "    model.add(Dense(h0, input_dim=X_nparr_normalize.shape[1], kernel_initializer='normal', activation='relu'))\n",
    "    model.add(Dense(h1, kernel_initializer='normal', activation='relu'))\n",
    "    model.add(Dense(h2, kernel_initializer='normal', activation='relu'))\n",
    "    model.add(Dense(1, kernel_initializer='normal'))\n",
    "    model.compile(loss='mean_squared_error', optimizer='adam')\n",
    "    return model"
   ]
  },
  {
   "cell_type": "code",
   "execution_count": 71,
   "id": "d31622ce-2bdc-44bc-92c7-632a8bd5be34",
   "metadata": {},
   "outputs": [
    {
     "name": "stdout",
     "output_type": "stream",
     "text": [
      "GROUP 0\n"
     ]
    },
    {
     "name": "stderr",
     "output_type": "stream",
     "text": [
      "2022-12-06 23:41:22.026068: I tensorflow/core/platform/cpu_feature_guard.cc:142] This TensorFlow binary is optimized with oneAPI Deep Neural Network Library (oneDNN) to use the following CPU instructions in performance-critical operations:  SSE4.1 SSE4.2 AVX AVX2 FMA\n",
      "To enable them in other operations, rebuild TensorFlow with the appropriate compiler flags.\n",
      "2022-12-06 23:41:22.026086: I tensorflow/core/platform/cpu_feature_guard.cc:142] This TensorFlow binary is optimized with oneAPI Deep Neural Network Library (oneDNN) to use the following CPU instructions in performance-critical operations:  SSE4.1 SSE4.2 AVX AVX2 FMA\n",
      "To enable them in other operations, rebuild TensorFlow with the appropriate compiler flags.\n",
      "2022-12-06 23:41:22.026060: I tensorflow/core/platform/cpu_feature_guard.cc:142] This TensorFlow binary is optimized with oneAPI Deep Neural Network Library (oneDNN) to use the following CPU instructions in performance-critical operations:  SSE4.1 SSE4.2 AVX AVX2 FMA\n",
      "To enable them in other operations, rebuild TensorFlow with the appropriate compiler flags.\n",
      "2022-12-06 23:41:22.026712: I tensorflow/core/platform/cpu_feature_guard.cc:142] This TensorFlow binary is optimized with oneAPI Deep Neural Network Library (oneDNN) to use the following CPU instructions in performance-critical operations:  SSE4.1 SSE4.2 AVX AVX2 FMA\n",
      "To enable them in other operations, rebuild TensorFlow with the appropriate compiler flags.\n",
      "2022-12-06 23:41:22.133747: I tensorflow/compiler/mlir/mlir_graph_optimization_pass.cc:116] None of the MLIR optimization passes are enabled (registered 2)\n",
      "2022-12-06 23:41:22.134855: I tensorflow/core/platform/profile_utils/cpu_utils.cc:112] CPU Frequency: 2199995000 Hz\n",
      "2022-12-06 23:41:22.134932: I tensorflow/compiler/mlir/mlir_graph_optimization_pass.cc:116] None of the MLIR optimization passes are enabled (registered 2)\n",
      "2022-12-06 23:41:22.135741: I tensorflow/core/platform/profile_utils/cpu_utils.cc:112] CPU Frequency: 2199995000 Hz\n",
      "2022-12-06 23:41:22.136140: I tensorflow/compiler/mlir/mlir_graph_optimization_pass.cc:116] None of the MLIR optimization passes are enabled (registered 2)\n",
      "2022-12-06 23:41:22.136792: I tensorflow/core/platform/profile_utils/cpu_utils.cc:112] CPU Frequency: 2199995000 Hz\n",
      "2022-12-06 23:41:22.142544: I tensorflow/compiler/mlir/mlir_graph_optimization_pass.cc:116] None of the MLIR optimization passes are enabled (registered 2)\n",
      "2022-12-06 23:41:22.143250: I tensorflow/core/platform/profile_utils/cpu_utils.cc:112] CPU Frequency: 2199995000 Hz\n"
     ]
    },
    {
     "name": "stdout",
     "output_type": "stream",
     "text": [
      "33/33 [==============================] - 0s 2ms/step - loss: 1.7740\n",
      "33/33 [==============================] - 0s 2ms/step - loss: 1.1287\n",
      "33/33 [==============================] - 0s 885us/step - loss: 3.6013\n",
      "33/33 [==============================] - 0s 870us/step - loss: 3.3972\n",
      "33/33 [==============================] - 0s 2ms/step - loss: 3.3454\n",
      "33/33 [==============================] - 0s 897us/step - loss: 1.1314\n",
      "33/33 [==============================] - 0s 2ms/step - loss: 1.1454\n",
      "33/33 [==============================] - 0s 784us/step - loss: 1.6356\n",
      "33/33 [==============================] - 0s 919us/step - loss: 1.6464\n",
      "33/33 [==============================] - 0s 2ms/step - loss: 3.3800\n",
      "33/33 [==============================] - 0s 2ms/step - loss: 1.1141\n",
      "33/33 [==============================] - 0s 1ms/step - loss: 1.7921\n",
      "33/33 [==============================] - 0s 2ms/step - loss: 3.4832\n",
      "33/33 [==============================] - 0s 985us/step - loss: 3.5390\n",
      "33/33 [==============================] - 0s 2ms/step - loss: 1.8058\n",
      "33/33 [==============================] - 0s 1ms/step - loss: 1.2291\n",
      "33/33 [==============================] - 0s 951us/step - loss: 1.1464\n",
      "33/33 [==============================] - 0s 887us/step - loss: 1.6551\n",
      "33/33 [==============================] - 0s 703us/step - loss: 3.5643\n",
      "33/33 [==============================] - 0s 891us/step - loss: 1.1112\n",
      "33/33 [==============================] - 0s 2ms/step - loss: 1.6755\n",
      "33/33 [==============================] - 0s 2ms/step - loss: 3.4818\n",
      "33/33 [==============================] - 0s 2ms/step - loss: 1.1191\n",
      "33/33 [==============================] - 0s 883us/step - loss: 1.7911\n",
      "33/33 [==============================] - 0s 906us/step - loss: 6.0295\n",
      "33/33 [==============================] - 0s 914us/step - loss: 3.3303\n",
      "33/33 [==============================] - 0s 861us/step - loss: 4.9094\n",
      "33/33 [==============================] - 0s 2ms/step - loss: 4.9899\n",
      "33/33 [==============================] - 0s 831us/step - loss: 3.4116\n",
      "33/33 [==============================] - 0s 2ms/step - loss: 4.9902\n",
      "33/33 [==============================] - 0s 2ms/step - loss: 1.0813\n",
      "33/33 [==============================] - 0s 2ms/step - loss: 1.7013\n",
      "33/33 [==============================] - 0s 2ms/step - loss: 4.9129\n",
      "33/33 [==============================] - 0s 2ms/step - loss: 3.4696\n",
      "33/33 [==============================] - 0s 3ms/step - loss: 1.1268\n",
      "33/33 [==============================] - 0s 948us/step - loss: 1.7196\n",
      "33/33 [==============================] - 0s 2ms/step - loss: 6.0314\n",
      "33/33 [==============================] - 0s 841us/step - loss: 4.9897\n",
      "33/33 [==============================] - 0s 2ms/step - loss: 1.7855\n",
      "33/33 [==============================] - 0s 816us/step - loss: 3.3112\n",
      "33/33 [==============================] - 0s 842us/step - loss: 1.0963\n",
      "33/33 [==============================] - 0s 2ms/step - loss: 1.7668\n",
      "33/33 [==============================] - 0s 2ms/step - loss: 6.0308\n",
      "33/33 [==============================] - 0s 847us/step - loss: 1.1909\n",
      "33/33 [==============================] - 0s 840us/step - loss: 1.7530\n",
      "33/33 [==============================] - 0s 2ms/step - loss: 3.9740\n",
      "33/33 [==============================] - 0s 2ms/step - loss: 1.1990\n",
      "33/33 [==============================] - 0s 3ms/step - loss: 1.7598\n",
      "33/33 [==============================] - 0s 2ms/step - loss: 3.7606\n",
      "33/33 [==============================] - 0s 920us/step - loss: 1.1052\n",
      "33/33 [==============================] - 0s 2ms/step - loss: 1.8341\n",
      "33/33 [==============================] - 0s 899us/step - loss: 3.3975\n",
      "33/33 [==============================] - 0s 2ms/step - loss: 4.9924\n",
      "33/33 [==============================] - 0s 2ms/step - loss: 1.7427\n",
      "33/33 [==============================] - 0s 893us/step - loss: 3.3477\n",
      "33/33 [==============================] - 0s 2ms/step - loss: 1.1433\n",
      "33/33 [==============================] - 0s 3ms/step - loss: 1.9310\n",
      "33/33 [==============================] - 0s 2ms/step - loss: 3.9781\n",
      "33/33 [==============================] - 0s 2ms/step - loss: 1.1053\n",
      "33/33 [==============================] - 0s 3ms/step - loss: 1.6666\n",
      "33/33 [==============================] - 0s 2ms/step - loss: 3.6098\n",
      "33/33 [==============================] - 0s 2ms/step - loss: 1.1682\n",
      "33/33 [==============================] - 0s 987us/step - loss: 1.7607\n",
      "33/33 [==============================] - 0s 3ms/step - loss: 3.4313\n",
      "33/33 [==============================] - 0s 967us/step - loss: 1.1249\n",
      "33/33 [==============================] - 0s 915us/step - loss: 1.7324\n",
      "33/33 [==============================] - 0s 2ms/step - loss: 3.3025\n",
      "33/33 [==============================] - 0s 3ms/step - loss: 1.0822\n",
      "33/33 [==============================] - 0s 1ms/step - loss: 1.7227\n",
      "33/33 [==============================] - 0s 972us/step - loss: 4.0262\n",
      "33/33 [==============================] - 0s 3ms/step - loss: 1.0892\n",
      "33/33 [==============================] - 1s 9ms/step - loss: 1.8242\n",
      "33/33 [==============================] - 0s 944us/step - loss: 3.3091\n",
      "33/33 [==============================] - 0s 2ms/step - loss: 1.1550\n",
      "33/33 [==============================] - 0s 768us/step - loss: 4.9115\n",
      "33/33 [==============================] - 0s 893us/step - loss: 3.7203\n",
      "33/33 [==============================] - 0s 956us/step - loss: 1.1799\n",
      "33/33 [==============================] - 0s 2ms/step - loss: 3.4618\n",
      "33/33 [==============================] - 0s 2ms/step - loss: 1.6837\n",
      "33/33 [==============================] - 0s 846us/step - loss: 1.1160\n",
      "33/33 [==============================] - 0s 2ms/step - loss: 1.6067\n",
      "33/33 [==============================] - 0s 822us/step - loss: 3.2695\n",
      "33/33 [==============================] - 0s 2ms/step - loss: 4.9909\n",
      "33/33 [==============================] - 0s 895us/step - loss: 1.7424\n",
      "33/33 [==============================] - 0s 3ms/step - loss: 3.9660\n",
      "33/33 [==============================] - 0s 838us/step - loss: 3.3483\n",
      "33/33 [==============================] - 0s 2ms/step - loss: 1.1439\n",
      "33/33 [==============================] - 0s 814us/step - loss: 1.8601\n",
      "33/33 [==============================] - 0s 916us/step - loss: 1.1109\n",
      "33/33 [==============================] - 0s 1ms/step - loss: 1.7391\n"
     ]
    },
    {
     "data": {
      "text/plain": [
       "{'h2': 7, 'h1': 5, 'h0': 11}"
      ]
     },
     "metadata": {},
     "output_type": "display_data"
    },
    {
     "name": "stdout",
     "output_type": "stream",
     "text": [
      "GROUP 1\n",
      "53/53 [==============================] - 0s 2ms/step - loss: 2.1414\n",
      "53/53 [==============================] - 0s 2ms/step - loss: 2.1105\n",
      "53/53 [==============================] - 0s 2ms/step - loss: 1.0007\n",
      "53/53 [==============================] - 0s 901us/step - loss: 0.6528\n",
      "53/53 [==============================] - 0s 2ms/step - loss: 0.7473\n",
      "53/53 [==============================] - 0s 2ms/step - loss: 0.9565\n",
      "53/53 [==============================] - 0s 2ms/step - loss: 2.2142\n",
      "53/53 [==============================] - 0s 2ms/step - loss: 0.7102\n",
      "53/53 [==============================] - 0s 2ms/step - loss: 1.0439\n",
      "53/53 [==============================] - 0s 2ms/step - loss: 2.1192\n",
      "53/53 [==============================] - 0s 2ms/step - loss: 0.6876\n",
      "53/53 [==============================] - 0s 2ms/step - loss: 1.0341\n",
      "53/53 [==============================] - 0s 2ms/step - loss: 2.2843\n",
      "53/53 [==============================] - 0s 858us/step - loss: 0.7675\n",
      "53/53 [==============================] - 0s 2ms/step - loss: 0.9729\n",
      "53/53 [==============================] - 0s 2ms/step - loss: 2.2223\n",
      "53/53 [==============================] - 0s 2ms/step - loss: 0.7361\n",
      "53/53 [==============================] - 0s 2ms/step - loss: 0.9655\n",
      "53/53 [==============================] - 0s 2ms/step - loss: 1.9813\n",
      "53/53 [==============================] - 0s 2ms/step - loss: 0.7838\n",
      "53/53 [==============================] - 0s 2ms/step - loss: 0.9265\n",
      "53/53 [==============================] - 0s 2ms/step - loss: 2.0286\n",
      "53/53 [==============================] - 0s 2ms/step - loss: 0.7146\n",
      "53/53 [==============================] - 0s 2ms/step - loss: 0.9703\n",
      "53/53 [==============================] - 0s 2ms/step - loss: 4.5705\n",
      "53/53 [==============================] - 0s 897us/step - loss: 0.8250\n",
      "53/53 [==============================] - 0s 898us/step - loss: 0.9746\n",
      "53/53 [==============================] - 0s 2ms/step - loss: 4.5710\n",
      "53/53 [==============================] - 0s 885us/step - loss: 0.7528\n",
      "53/53 [==============================] - 0s 2ms/step - loss: 1.0709\n",
      "53/53 [==============================] - 0s 2ms/step - loss: 4.5713\n",
      "53/53 [==============================] - 0s 2ms/step - loss: 2.6530\n",
      "53/53 [==============================] - 0s 2ms/step - loss: 0.9953\n",
      "53/53 [==============================] - 0s 2ms/step - loss: 4.5716\n",
      "53/53 [==============================] - 0s 964us/step - loss: 2.6525\n",
      "53/53 [==============================] - 0s 2ms/step - loss: 1.0755\n",
      "53/53 [==============================] - 0s 2ms/step - loss: 2.1739\n",
      "53/53 [==============================] - 0s 2ms/step - loss: 0.7324\n",
      "53/53 [==============================] - 0s 2ms/step - loss: 1.0238\n",
      "53/53 [==============================] - 0s 2ms/step - loss: 2.0512\n",
      "53/53 [==============================] - 0s 877us/step - loss: 0.7294\n",
      "53/53 [==============================] - 0s 2ms/step - loss: 1.0038\n",
      "53/53 [==============================] - 0s 2ms/step - loss: 2.1301\n",
      "53/53 [==============================] - 0s 2ms/step - loss: 0.7456\n",
      "53/53 [==============================] - 0s 2ms/step - loss: 2.0379\n",
      "53/53 [==============================] - 0s 2ms/step - loss: 1.0222\n",
      "53/53 [==============================] - 0s 2ms/step - loss: 0.7737\n",
      "53/53 [==============================] - 0s 2ms/step - loss: 1.0279\n",
      "53/53 [==============================] - 0s 2ms/step - loss: 2.0655\n",
      "53/53 [==============================] - 0s 2ms/step - loss: 0.7576\n",
      "53/53 [==============================] - 0s 2ms/step - loss: 1.0108\n",
      "53/53 [==============================] - 0s 943us/step - loss: 2.2762\n",
      "53/53 [==============================] - 0s 882us/step - loss: 0.7950\n",
      "53/53 [==============================] - 0s 2ms/step - loss: 0.9798\n",
      "53/53 [==============================] - 0s 2ms/step - loss: 4.5709\n",
      "53/53 [==============================] - 0s 2ms/step - loss: 0.7138\n",
      "53/53 [==============================] - 0s 2ms/step - loss: 2.0915\n",
      "53/53 [==============================] - 0s 2ms/step - loss: 2.7715\n",
      "53/53 [==============================] - 0s 896us/step - loss: 0.7167\n",
      "53/53 [==============================] - 0s 3ms/step - loss: 0.9878\n",
      "53/53 [==============================] - 0s 2ms/step - loss: 2.0846\n",
      "53/53 [==============================] - 0s 2ms/step - loss: 0.7883\n",
      "53/53 [==============================] - 0s 2ms/step - loss: 1.0517\n",
      "53/53 [==============================] - 0s 2ms/step - loss: 2.0463\n",
      "53/53 [==============================] - 0s 2ms/step - loss: 0.9682\n",
      "53/53 [==============================] - 0s 2ms/step - loss: 0.7269\n",
      "53/53 [==============================] - 0s 2ms/step - loss: 1.9711\n",
      "53/53 [==============================] - 0s 2ms/step - loss: 2.6534\n",
      "53/53 [==============================] - 0s 2ms/step - loss: 2.1677\n",
      "53/53 [==============================] - 0s 871us/step - loss: 1.0743\n",
      "53/53 [==============================] - 0s 2ms/step - loss: 0.7122\n",
      "53/53 [==============================] - 0s 2ms/step - loss: 1.0398\n",
      "53/53 [==============================] - 0s 2ms/step - loss: 2.1139\n",
      "53/53 [==============================] - 0s 2ms/step - loss: 2.6542\n",
      "53/53 [==============================] - 0s 2ms/step - loss: 2.7711\n",
      "53/53 [==============================] - 0s 2ms/step - loss: 2.1321\n",
      "53/53 [==============================] - 0s 2ms/step - loss: 0.7338\n",
      "53/53 [==============================] - 0s 2ms/step - loss: 1.0329\n",
      "53/53 [==============================] - 0s 2ms/step - loss: 2.0491\n",
      "53/53 [==============================] - 0s 2ms/step - loss: 0.7312\n",
      "53/53 [==============================] - 0s 1ms/step - loss: 0.9556\n",
      "53/53 [==============================] - 0s 2ms/step - loss: 2.0119\n",
      "53/53 [==============================] - 0s 2ms/step - loss: 0.7926\n",
      "53/53 [==============================] - 0s 2ms/step - loss: 0.9785\n",
      "53/53 [==============================] - 1s 2ms/step - loss: 2.1690\n",
      "53/53 [==============================] - 0s 2ms/step - loss: 0.7602\n",
      "53/53 [==============================] - 0s 2ms/step - loss: 1.0412\n",
      "53/53 [==============================] - 0s 1ms/step - loss: 2.1590\n",
      "53/53 [==============================] - 0s 824us/step - loss: 0.6338\n",
      "53/53 [==============================] - 0s 739us/step - loss: 0.9869\n"
     ]
    },
    {
     "data": {
      "text/plain": [
       "{'h2': 8, 'h1': 13, 'h0': 18}"
      ]
     },
     "metadata": {},
     "output_type": "display_data"
    },
    {
     "name": "stdout",
     "output_type": "stream",
     "text": [
      "GROUP 2\n",
      "4/4 [==============================] - 0s 1ms/step - loss: 4.5172\n",
      "4/4 [==============================] - 0s 993us/step - loss: 4.0983\n",
      "4/4 [==============================] - 0s 1ms/step - loss: 5.8275\n",
      "4/4 [==============================] - 0s 1ms/step - loss: 4.1028\n",
      "4/4 [==============================] - 0s 1ms/step - loss: 4.4247\n",
      "4/4 [==============================] - 0s 983us/step - loss: 3.4547\n",
      "4/4 [==============================] - 0s 1ms/step - loss: 6.1293\n",
      "4/4 [==============================] - 0s 2ms/step - loss: 3.5771\n",
      "4/4 [==============================] - 0s 1ms/step - loss: 4.8090\n",
      "4/4 [==============================] - 0s 973us/step - loss: 3.2719\n",
      "4/4 [==============================] - 0s 1ms/step - loss: 3.5504\n",
      "4/4 [==============================] - 0s 1ms/step - loss: 3.8580\n",
      "4/4 [==============================] - 0s 927us/step - loss: 3.8430\n",
      "4/4 [==============================] - 0s 1ms/step - loss: 8.1859\n",
      "4/4 [==============================] - 0s 1ms/step - loss: 3.7714\n",
      "4/4 [==============================] - 0s 1ms/step - loss: 3.3681\n",
      "4/4 [==============================] - 0s 1ms/step - loss: 3.7921\n",
      "4/4 [==============================] - 0s 887us/step - loss: 8.7669\n",
      "4/4 [==============================] - 0s 945us/step - loss: 4.2526\n",
      "4/4 [==============================] - 0s 1ms/step - loss: 3.8639\n",
      "4/4 [==============================] - 0s 1ms/step - loss: 8.7699\n",
      "4/4 [==============================] - 0s 1ms/step - loss: 4.5703\n",
      "4/4 [==============================] - 0s 1ms/step - loss: 3.3591\n",
      "4/4 [==============================] - 0s 1ms/step - loss: 4.3738\n",
      "4/4 [==============================] - 0s 1ms/step - loss: 3.7419\n",
      "4/4 [==============================] - 0s 1ms/step - loss: 3.5428\n",
      "4/4 [==============================] - 0s 1ms/step - loss: 4.4076\n",
      "4/4 [==============================] - 0s 1ms/step - loss: 3.8238\n",
      "4/4 [==============================] - 0s 975us/step - loss: 4.5940\n",
      "4/4 [==============================] - 0s 1ms/step - loss: 3.5378\n",
      "4/4 [==============================] - 0s 1ms/step - loss: 3.3704\n",
      "4/4 [==============================] - 0s 1ms/step - loss: 6.2225\n",
      "4/4 [==============================] - 0s 1ms/step - loss: 3.8788\n",
      "4/4 [==============================] - 0s 934us/step - loss: 3.0899\n",
      "4/4 [==============================] - 0s 1ms/step - loss: 4.3773\n",
      "4/4 [==============================] - 0s 1ms/step - loss: 8.7784\n",
      "4/4 [==============================] - 0s 1ms/step - loss: 5.5182\n",
      "4/4 [==============================] - 0s 1ms/step - loss: 3.5704\n",
      "4/4 [==============================] - 0s 1ms/step - loss: 4.1517\n",
      "4/4 [==============================] - 0s 1ms/step - loss: 4.9702\n",
      "4/4 [==============================] - 0s 1ms/step - loss: 4.2104\n",
      "4/4 [==============================] - 0s 1ms/step - loss: 3.9854\n",
      "4/4 [==============================] - 0s 942us/step - loss: 8.7693\n",
      "4/4 [==============================] - 0s 1ms/step - loss: 3.1599\n",
      "4/4 [==============================] - 0s 1ms/step - loss: 3.9743\n",
      "4/4 [==============================] - 0s 1ms/step - loss: 4.0527\n",
      "4/4 [==============================] - 0s 1ms/step - loss: 3.3970\n",
      "4/4 [==============================] - 0s 1ms/step - loss: 8.7713\n",
      "4/4 [==============================] - 0s 961us/step - loss: 5.1941\n",
      "4/4 [==============================] - 0s 1ms/step - loss: 4.2348\n",
      "4/4 [==============================] - 0s 1ms/step - loss: 4.2977\n",
      "4/4 [==============================] - 0s 1ms/step - loss: 7.2294\n",
      "4/4 [==============================] - 0s 1ms/step - loss: 3.1301\n",
      "4/4 [==============================] - 0s 2ms/step - loss: 5.3527\n",
      "4/4 [==============================] - 0s 1ms/step - loss: 6.1285\n",
      "4/4 [==============================] - 0s 1ms/step - loss: 3.9994\n",
      "4/4 [==============================] - 0s 997us/step - loss: 4.4926\n",
      "4/4 [==============================] - 0s 1ms/step - loss: 4.4665\n",
      "4/4 [==============================] - 0s 1ms/step - loss: 4.3144\n",
      "4/4 [==============================] - 0s 1ms/step - loss: 3.7462\n",
      "4/4 [==============================] - 0s 1ms/step - loss: 4.6057\n",
      "4/4 [==============================] - 0s 2ms/step - loss: 3.0621\n",
      "4/4 [==============================] - 0s 1ms/step - loss: 4.3858\n",
      "4/4 [==============================] - 0s 1ms/step - loss: 4.4937\n",
      "4/4 [==============================] - 0s 1ms/step - loss: 3.6834\n",
      "4/4 [==============================] - 0s 1ms/step - loss: 4.3157\n",
      "4/4 [==============================] - 0s 1ms/step - loss: 5.2928\n",
      "4/4 [==============================] - 0s 1ms/step - loss: 4.0138\n",
      "4/4 [==============================] - 0s 1ms/step - loss: 3.9018\n",
      "4/4 [==============================] - 0s 1ms/step - loss: 8.7679\n",
      "4/4 [==============================] - 0s 2ms/step - loss: 4.3005\n",
      "4/4 [==============================] - 0s 1ms/step - loss: 5.0773\n",
      "4/4 [==============================] - 0s 1ms/step - loss: 11.7307\n",
      "4/4 [==============================] - 0s 15ms/step - loss: 8.7702\n",
      "4/4 [==============================] - 0s 1ms/step - loss: 4.2102\n",
      "4/4 [==============================] - 0s 16ms/step - loss: 4.0718\n",
      "4/4 [==============================] - 0s 1ms/step - loss: 3.4042\n",
      "4/4 [==============================] - 0s 12ms/step - loss: 7.0647\n",
      "4/4 [==============================] - 0s 1ms/step - loss: 6.1515\n",
      "4/4 [==============================] - 0s 908us/step - loss: 3.5125\n",
      "4/4 [==============================] - 0s 998us/step - loss: 4.4997\n",
      "4/4 [==============================] - 0s 10ms/step - loss: 11.7310\n",
      "4/4 [==============================] - 0s 1ms/step - loss: 3.7194\n",
      "4/4 [==============================] - 0s 1ms/step - loss: 4.2893\n",
      "4/4 [==============================] - 0s 1ms/step - loss: 8.7784\n",
      "4/4 [==============================] - 0s 1ms/step - loss: 3.5689\n",
      "4/4 [==============================] - 0s 1ms/step - loss: 3.7805\n",
      "4/4 [==============================] - 0s 1ms/step - loss: 5.2917\n",
      "4/4 [==============================] - 0s 1ms/step - loss: 5.7709\n",
      "4/4 [==============================] - 0s 955us/step - loss: 4.2321\n"
     ]
    },
    {
     "data": {
      "text/plain": [
       "{'h2': 8, 'h1': 10, 'h0': 10}"
      ]
     },
     "metadata": {},
     "output_type": "display_data"
    },
    {
     "name": "stdout",
     "output_type": "stream",
     "text": [
      "GROUP 3\n",
      "1/1 [==============================] - 0s 114ms/step - loss: 31.8686\n",
      "1/1 [==============================] - 0s 161ms/step - loss: 33.1158\n",
      "1/1 [==============================] - 0s 101ms/step - loss: 0.6173\n",
      "1/1 [==============================] - 0s 74ms/step - loss: 7.3082\n"
     ]
    },
    {
     "name": "stderr",
     "output_type": "stream",
     "text": [
      "WARNING:tensorflow:5 out of the last 14 calls to <function Model.make_test_function.<locals>.test_function at 0x7f8a342dbe50> triggered tf.function retracing. Tracing is expensive and the excessive number of tracings could be due to (1) creating @tf.function repeatedly in a loop, (2) passing tensors with different shapes, (3) passing Python objects instead of tensors. For (1), please define your @tf.function outside of the loop. For (2), @tf.function has experimental_relax_shapes=True option that relaxes argument shapes that can avoid unnecessary retracing. For (3), please refer to https://www.tensorflow.org/guide/function#controlling_retracing and https://www.tensorflow.org/api_docs/python/tf/function for  more details.\n",
      "WARNING:tensorflow:5 out of the last 14 calls to <function Model.make_test_function.<locals>.test_function at 0x7f1ff473a5e0> triggered tf.function retracing. Tracing is expensive and the excessive number of tracings could be due to (1) creating @tf.function repeatedly in a loop, (2) passing tensors with different shapes, (3) passing Python objects instead of tensors. For (1), please define your @tf.function outside of the loop. For (2), @tf.function has experimental_relax_shapes=True option that relaxes argument shapes that can avoid unnecessary retracing. For (3), please refer to https://www.tensorflow.org/guide/function#controlling_retracing and https://www.tensorflow.org/api_docs/python/tf/function for  more details.\n"
     ]
    },
    {
     "name": "stdout",
     "output_type": "stream",
     "text": [
      "1/1 [==============================] - 0s 163ms/step - loss: 7.4445\n",
      "1/1 [==============================] - 0s 158ms/step - loss: 0.6605\n"
     ]
    },
    {
     "name": "stderr",
     "output_type": "stream",
     "text": [
      "WARNING:tensorflow:5 out of the last 14 calls to <function Model.make_test_function.<locals>.test_function at 0x7f626c2380d0> triggered tf.function retracing. Tracing is expensive and the excessive number of tracings could be due to (1) creating @tf.function repeatedly in a loop, (2) passing tensors with different shapes, (3) passing Python objects instead of tensors. For (1), please define your @tf.function outside of the loop. For (2), @tf.function has experimental_relax_shapes=True option that relaxes argument shapes that can avoid unnecessary retracing. For (3), please refer to https://www.tensorflow.org/guide/function#controlling_retracing and https://www.tensorflow.org/api_docs/python/tf/function for  more details.\n",
      "WARNING:tensorflow:5 out of the last 14 calls to <function Model.make_test_function.<locals>.test_function at 0x7f21000e01f0> triggered tf.function retracing. Tracing is expensive and the excessive number of tracings could be due to (1) creating @tf.function repeatedly in a loop, (2) passing tensors with different shapes, (3) passing Python objects instead of tensors. For (1), please define your @tf.function outside of the loop. For (2), @tf.function has experimental_relax_shapes=True option that relaxes argument shapes that can avoid unnecessary retracing. For (3), please refer to https://www.tensorflow.org/guide/function#controlling_retracing and https://www.tensorflow.org/api_docs/python/tf/function for  more details.\n"
     ]
    },
    {
     "name": "stdout",
     "output_type": "stream",
     "text": [
      "1/1 [==============================] - 0s 82ms/step - loss: 0.6905\n",
      "1/1 [==============================] - 0s 81ms/step - loss: 30.3166\n"
     ]
    },
    {
     "name": "stderr",
     "output_type": "stream",
     "text": [
      "WARNING:tensorflow:5 out of the last 11 calls to <function Model.make_test_function.<locals>.test_function at 0x7f8a342b3820> triggered tf.function retracing. Tracing is expensive and the excessive number of tracings could be due to (1) creating @tf.function repeatedly in a loop, (2) passing tensors with different shapes, (3) passing Python objects instead of tensors. For (1), please define your @tf.function outside of the loop. For (2), @tf.function has experimental_relax_shapes=True option that relaxes argument shapes that can avoid unnecessary retracing. For (3), please refer to https://www.tensorflow.org/guide/function#controlling_retracing and https://www.tensorflow.org/api_docs/python/tf/function for  more details.\n",
      "WARNING:tensorflow:5 out of the last 11 calls to <function Model.make_test_function.<locals>.test_function at 0x7f20180fde50> triggered tf.function retracing. Tracing is expensive and the excessive number of tracings could be due to (1) creating @tf.function repeatedly in a loop, (2) passing tensors with different shapes, (3) passing Python objects instead of tensors. For (1), please define your @tf.function outside of the loop. For (2), @tf.function has experimental_relax_shapes=True option that relaxes argument shapes that can avoid unnecessary retracing. For (3), please refer to https://www.tensorflow.org/guide/function#controlling_retracing and https://www.tensorflow.org/api_docs/python/tf/function for  more details.\n"
     ]
    },
    {
     "name": "stdout",
     "output_type": "stream",
     "text": [
      "1/1 [==============================] - 0s 132ms/step - loss: 7.5103\n",
      "1/1 [==============================] - 0s 118ms/step - loss: 32.0695\n"
     ]
    },
    {
     "name": "stderr",
     "output_type": "stream",
     "text": [
      "WARNING:tensorflow:5 out of the last 11 calls to <function Model.make_test_function.<locals>.test_function at 0x7f20e41be5e0> triggered tf.function retracing. Tracing is expensive and the excessive number of tracings could be due to (1) creating @tf.function repeatedly in a loop, (2) passing tensors with different shapes, (3) passing Python objects instead of tensors. For (1), please define your @tf.function outside of the loop. For (2), @tf.function has experimental_relax_shapes=True option that relaxes argument shapes that can avoid unnecessary retracing. For (3), please refer to https://www.tensorflow.org/guide/function#controlling_retracing and https://www.tensorflow.org/api_docs/python/tf/function for  more details.\n",
      "WARNING:tensorflow:5 out of the last 11 calls to <function Model.make_test_function.<locals>.test_function at 0x7f62481eae50> triggered tf.function retracing. Tracing is expensive and the excessive number of tracings could be due to (1) creating @tf.function repeatedly in a loop, (2) passing tensors with different shapes, (3) passing Python objects instead of tensors. For (1), please define your @tf.function outside of the loop. For (2), @tf.function has experimental_relax_shapes=True option that relaxes argument shapes that can avoid unnecessary retracing. For (3), please refer to https://www.tensorflow.org/guide/function#controlling_retracing and https://www.tensorflow.org/api_docs/python/tf/function for  more details.\n"
     ]
    },
    {
     "name": "stdout",
     "output_type": "stream",
     "text": [
      "1/1 [==============================] - 0s 73ms/step - loss: 19.2607\n",
      "1/1 [==============================] - 0s 75ms/step - loss: 0.5239\n"
     ]
    },
    {
     "name": "stderr",
     "output_type": "stream",
     "text": [
      "WARNING:tensorflow:6 out of the last 12 calls to <function Model.make_test_function.<locals>.test_function at 0x7f8a34184b80> triggered tf.function retracing. Tracing is expensive and the excessive number of tracings could be due to (1) creating @tf.function repeatedly in a loop, (2) passing tensors with different shapes, (3) passing Python objects instead of tensors. For (1), please define your @tf.function outside of the loop. For (2), @tf.function has experimental_relax_shapes=True option that relaxes argument shapes that can avoid unnecessary retracing. For (3), please refer to https://www.tensorflow.org/guide/function#controlling_retracing and https://www.tensorflow.org/api_docs/python/tf/function for  more details.\n",
      "WARNING:tensorflow:6 out of the last 12 calls to <function Model.make_test_function.<locals>.test_function at 0x7f203c78d5e0> triggered tf.function retracing. Tracing is expensive and the excessive number of tracings could be due to (1) creating @tf.function repeatedly in a loop, (2) passing tensors with different shapes, (3) passing Python objects instead of tensors. For (1), please define your @tf.function outside of the loop. For (2), @tf.function has experimental_relax_shapes=True option that relaxes argument shapes that can avoid unnecessary retracing. For (3), please refer to https://www.tensorflow.org/guide/function#controlling_retracing and https://www.tensorflow.org/api_docs/python/tf/function for  more details.\n"
     ]
    },
    {
     "name": "stdout",
     "output_type": "stream",
     "text": [
      "1/1 [==============================] - 0s 119ms/step - loss: 32.9578\n",
      "1/1 [==============================] - 0s 160ms/step - loss: 0.6407\n"
     ]
    },
    {
     "name": "stderr",
     "output_type": "stream",
     "text": [
      "WARNING:tensorflow:6 out of the last 12 calls to <function Model.make_test_function.<locals>.test_function at 0x7f21000e0e50> triggered tf.function retracing. Tracing is expensive and the excessive number of tracings could be due to (1) creating @tf.function repeatedly in a loop, (2) passing tensors with different shapes, (3) passing Python objects instead of tensors. For (1), please define your @tf.function outside of the loop. For (2), @tf.function has experimental_relax_shapes=True option that relaxes argument shapes that can avoid unnecessary retracing. For (3), please refer to https://www.tensorflow.org/guide/function#controlling_retracing and https://www.tensorflow.org/api_docs/python/tf/function for  more details.\n",
      "WARNING:tensorflow:6 out of the last 12 calls to <function Model.make_test_function.<locals>.test_function at 0x7f62480d4820> triggered tf.function retracing. Tracing is expensive and the excessive number of tracings could be due to (1) creating @tf.function repeatedly in a loop, (2) passing tensors with different shapes, (3) passing Python objects instead of tensors. For (1), please define your @tf.function outside of the loop. For (2), @tf.function has experimental_relax_shapes=True option that relaxes argument shapes that can avoid unnecessary retracing. For (3), please refer to https://www.tensorflow.org/guide/function#controlling_retracing and https://www.tensorflow.org/api_docs/python/tf/function for  more details.\n"
     ]
    },
    {
     "name": "stdout",
     "output_type": "stream",
     "text": [
      "1/1 [==============================] - 0s 75ms/step - loss: 7.1876\n",
      "1/1 [==============================] - 0s 75ms/step - loss: 33.7052\n"
     ]
    },
    {
     "name": "stderr",
     "output_type": "stream",
     "text": [
      "WARNING:tensorflow:7 out of the last 13 calls to <function Model.make_test_function.<locals>.test_function at 0x7f8a34184a60> triggered tf.function retracing. Tracing is expensive and the excessive number of tracings could be due to (1) creating @tf.function repeatedly in a loop, (2) passing tensors with different shapes, (3) passing Python objects instead of tensors. For (1), please define your @tf.function outside of the loop. For (2), @tf.function has experimental_relax_shapes=True option that relaxes argument shapes that can avoid unnecessary retracing. For (3), please refer to https://www.tensorflow.org/guide/function#controlling_retracing and https://www.tensorflow.org/api_docs/python/tf/function for  more details.\n",
      "WARNING:tensorflow:7 out of the last 13 calls to <function Model.make_test_function.<locals>.test_function at 0x7f204c107af0> triggered tf.function retracing. Tracing is expensive and the excessive number of tracings could be due to (1) creating @tf.function repeatedly in a loop, (2) passing tensors with different shapes, (3) passing Python objects instead of tensors. For (1), please define your @tf.function outside of the loop. For (2), @tf.function has experimental_relax_shapes=True option that relaxes argument shapes that can avoid unnecessary retracing. For (3), please refer to https://www.tensorflow.org/guide/function#controlling_retracing and https://www.tensorflow.org/api_docs/python/tf/function for  more details.\n"
     ]
    },
    {
     "name": "stdout",
     "output_type": "stream",
     "text": [
      "1/1 [==============================] - 0s 162ms/step - loss: 0.6833\n",
      "1/1 [==============================] - 0s 117ms/step - loss: 7.2354\n"
     ]
    },
    {
     "name": "stderr",
     "output_type": "stream",
     "text": [
      "WARNING:tensorflow:7 out of the last 13 calls to <function Model.make_test_function.<locals>.test_function at 0x7f6248747b80> triggered tf.function retracing. Tracing is expensive and the excessive number of tracings could be due to (1) creating @tf.function repeatedly in a loop, (2) passing tensors with different shapes, (3) passing Python objects instead of tensors. For (1), please define your @tf.function outside of the loop. For (2), @tf.function has experimental_relax_shapes=True option that relaxes argument shapes that can avoid unnecessary retracing. For (3), please refer to https://www.tensorflow.org/guide/function#controlling_retracing and https://www.tensorflow.org/api_docs/python/tf/function for  more details.\n",
      "WARNING:tensorflow:7 out of the last 13 calls to <function Model.make_test_function.<locals>.test_function at 0x7f210823a5e0> triggered tf.function retracing. Tracing is expensive and the excessive number of tracings could be due to (1) creating @tf.function repeatedly in a loop, (2) passing tensors with different shapes, (3) passing Python objects instead of tensors. For (1), please define your @tf.function outside of the loop. For (2), @tf.function has experimental_relax_shapes=True option that relaxes argument shapes that can avoid unnecessary retracing. For (3), please refer to https://www.tensorflow.org/guide/function#controlling_retracing and https://www.tensorflow.org/api_docs/python/tf/function for  more details.\n"
     ]
    },
    {
     "name": "stdout",
     "output_type": "stream",
     "text": [
      "1/1 [==============================] - 0s 74ms/step - loss: 0.8083\n",
      "1/1 [==============================] - 0s 75ms/step - loss: 31.9906\n"
     ]
    },
    {
     "name": "stderr",
     "output_type": "stream",
     "text": [
      "WARNING:tensorflow:8 out of the last 14 calls to <function Model.make_test_function.<locals>.test_function at 0x7f8a3468f4c0> triggered tf.function retracing. Tracing is expensive and the excessive number of tracings could be due to (1) creating @tf.function repeatedly in a loop, (2) passing tensors with different shapes, (3) passing Python objects instead of tensors. For (1), please define your @tf.function outside of the loop. For (2), @tf.function has experimental_relax_shapes=True option that relaxes argument shapes that can avoid unnecessary retracing. For (3), please refer to https://www.tensorflow.org/guide/function#controlling_retracing and https://www.tensorflow.org/api_docs/python/tf/function for  more details.\n",
      "WARNING:tensorflow:8 out of the last 14 calls to <function Model.make_test_function.<locals>.test_function at 0x7f2018016430> triggered tf.function retracing. Tracing is expensive and the excessive number of tracings could be due to (1) creating @tf.function repeatedly in a loop, (2) passing tensors with different shapes, (3) passing Python objects instead of tensors. For (1), please define your @tf.function outside of the loop. For (2), @tf.function has experimental_relax_shapes=True option that relaxes argument shapes that can avoid unnecessary retracing. For (3), please refer to https://www.tensorflow.org/guide/function#controlling_retracing and https://www.tensorflow.org/api_docs/python/tf/function for  more details.\n"
     ]
    },
    {
     "name": "stdout",
     "output_type": "stream",
     "text": [
      "1/1 [==============================] - 0s 187ms/step - loss: 7.7438\n",
      "1/1 [==============================] - 0s 127ms/step - loss: 26.2792\n"
     ]
    },
    {
     "name": "stderr",
     "output_type": "stream",
     "text": [
      "WARNING:tensorflow:8 out of the last 14 calls to <function Model.make_test_function.<locals>.test_function at 0x7f2108382af0> triggered tf.function retracing. Tracing is expensive and the excessive number of tracings could be due to (1) creating @tf.function repeatedly in a loop, (2) passing tensors with different shapes, (3) passing Python objects instead of tensors. For (1), please define your @tf.function outside of the loop. For (2), @tf.function has experimental_relax_shapes=True option that relaxes argument shapes that can avoid unnecessary retracing. For (3), please refer to https://www.tensorflow.org/guide/function#controlling_retracing and https://www.tensorflow.org/api_docs/python/tf/function for  more details.\n",
      "WARNING:tensorflow:8 out of the last 14 calls to <function Model.make_test_function.<locals>.test_function at 0x7f6248747a60> triggered tf.function retracing. Tracing is expensive and the excessive number of tracings could be due to (1) creating @tf.function repeatedly in a loop, (2) passing tensors with different shapes, (3) passing Python objects instead of tensors. For (1), please define your @tf.function outside of the loop. For (2), @tf.function has experimental_relax_shapes=True option that relaxes argument shapes that can avoid unnecessary retracing. For (3), please refer to https://www.tensorflow.org/guide/function#controlling_retracing and https://www.tensorflow.org/api_docs/python/tf/function for  more details.\n"
     ]
    },
    {
     "name": "stdout",
     "output_type": "stream",
     "text": [
      "1/1 [==============================] - 0s 97ms/step - loss: 7.3402\n",
      "1/1 [==============================] - 0s 100ms/step - loss: 0.6429\n"
     ]
    },
    {
     "name": "stderr",
     "output_type": "stream",
     "text": [
      "WARNING:tensorflow:8 out of the last 11 calls to <function Model.make_test_function.<locals>.test_function at 0x7f8a346dc1f0> triggered tf.function retracing. Tracing is expensive and the excessive number of tracings could be due to (1) creating @tf.function repeatedly in a loop, (2) passing tensors with different shapes, (3) passing Python objects instead of tensors. For (1), please define your @tf.function outside of the loop. For (2), @tf.function has experimental_relax_shapes=True option that relaxes argument shapes that can avoid unnecessary retracing. For (3), please refer to https://www.tensorflow.org/guide/function#controlling_retracing and https://www.tensorflow.org/api_docs/python/tf/function for  more details.\n",
      "WARNING:tensorflow:8 out of the last 11 calls to <function Model.make_test_function.<locals>.test_function at 0x7f201875f4c0> triggered tf.function retracing. Tracing is expensive and the excessive number of tracings could be due to (1) creating @tf.function repeatedly in a loop, (2) passing tensors with different shapes, (3) passing Python objects instead of tensors. For (1), please define your @tf.function outside of the loop. For (2), @tf.function has experimental_relax_shapes=True option that relaxes argument shapes that can avoid unnecessary retracing. For (3), please refer to https://www.tensorflow.org/guide/function#controlling_retracing and https://www.tensorflow.org/api_docs/python/tf/function for  more details.\n"
     ]
    },
    {
     "name": "stdout",
     "output_type": "stream",
     "text": [
      "1/1 [==============================] - 0s 131ms/step - loss: 31.0409\n",
      "1/1 [==============================] - 0s 147ms/step - loss: 0.7470\n"
     ]
    },
    {
     "name": "stderr",
     "output_type": "stream",
     "text": [
      "WARNING:tensorflow:8 out of the last 11 calls to <function Model.make_test_function.<locals>.test_function at 0x7f20e40d7430> triggered tf.function retracing. Tracing is expensive and the excessive number of tracings could be due to (1) creating @tf.function repeatedly in a loop, (2) passing tensors with different shapes, (3) passing Python objects instead of tensors. For (1), please define your @tf.function outside of the loop. For (2), @tf.function has experimental_relax_shapes=True option that relaxes argument shapes that can avoid unnecessary retracing. For (3), please refer to https://www.tensorflow.org/guide/function#controlling_retracing and https://www.tensorflow.org/api_docs/python/tf/function for  more details.\n",
      "WARNING:tensorflow:8 out of the last 11 calls to <function Model.make_test_function.<locals>.test_function at 0x7f626c2004c0> triggered tf.function retracing. Tracing is expensive and the excessive number of tracings could be due to (1) creating @tf.function repeatedly in a loop, (2) passing tensors with different shapes, (3) passing Python objects instead of tensors. For (1), please define your @tf.function outside of the loop. For (2), @tf.function has experimental_relax_shapes=True option that relaxes argument shapes that can avoid unnecessary retracing. For (3), please refer to https://www.tensorflow.org/guide/function#controlling_retracing and https://www.tensorflow.org/api_docs/python/tf/function for  more details.\n"
     ]
    },
    {
     "name": "stdout",
     "output_type": "stream",
     "text": [
      "1/1 [==============================] - 0s 105ms/step - loss: 7.3750\n",
      "1/1 [==============================] - 0s 80ms/step - loss: 30.0011\n"
     ]
    },
    {
     "name": "stderr",
     "output_type": "stream",
     "text": [
      "WARNING:tensorflow:9 out of the last 12 calls to <function Model.make_test_function.<locals>.test_function at 0x7f8a580d1dc0> triggered tf.function retracing. Tracing is expensive and the excessive number of tracings could be due to (1) creating @tf.function repeatedly in a loop, (2) passing tensors with different shapes, (3) passing Python objects instead of tensors. For (1), please define your @tf.function outside of the loop. For (2), @tf.function has experimental_relax_shapes=True option that relaxes argument shapes that can avoid unnecessary retracing. For (3), please refer to https://www.tensorflow.org/guide/function#controlling_retracing and https://www.tensorflow.org/api_docs/python/tf/function for  more details.\n",
      "WARNING:tensorflow:9 out of the last 12 calls to <function Model.make_test_function.<locals>.test_function at 0x7f2018120d30> triggered tf.function retracing. Tracing is expensive and the excessive number of tracings could be due to (1) creating @tf.function repeatedly in a loop, (2) passing tensors with different shapes, (3) passing Python objects instead of tensors. For (1), please define your @tf.function outside of the loop. For (2), @tf.function has experimental_relax_shapes=True option that relaxes argument shapes that can avoid unnecessary retracing. For (3), please refer to https://www.tensorflow.org/guide/function#controlling_retracing and https://www.tensorflow.org/api_docs/python/tf/function for  more details.\n"
     ]
    },
    {
     "name": "stdout",
     "output_type": "stream",
     "text": [
      "1/1 [==============================] - 0s 127ms/step - loss: 0.7639\n",
      "1/1 [==============================] - 0s 114ms/step - loss: 7.6408\n"
     ]
    },
    {
     "name": "stderr",
     "output_type": "stream",
     "text": [
      "WARNING:tensorflow:9 out of the last 12 calls to <function Model.make_test_function.<locals>.test_function at 0x7f20e47814c0> triggered tf.function retracing. Tracing is expensive and the excessive number of tracings could be due to (1) creating @tf.function repeatedly in a loop, (2) passing tensors with different shapes, (3) passing Python objects instead of tensors. For (1), please define your @tf.function outside of the loop. For (2), @tf.function has experimental_relax_shapes=True option that relaxes argument shapes that can avoid unnecessary retracing. For (3), please refer to https://www.tensorflow.org/guide/function#controlling_retracing and https://www.tensorflow.org/api_docs/python/tf/function for  more details.\n",
      "WARNING:tensorflow:9 out of the last 12 calls to <function Model.make_test_function.<locals>.test_function at 0x7f62480131f0> triggered tf.function retracing. Tracing is expensive and the excessive number of tracings could be due to (1) creating @tf.function repeatedly in a loop, (2) passing tensors with different shapes, (3) passing Python objects instead of tensors. For (1), please define your @tf.function outside of the loop. For (2), @tf.function has experimental_relax_shapes=True option that relaxes argument shapes that can avoid unnecessary retracing. For (3), please refer to https://www.tensorflow.org/guide/function#controlling_retracing and https://www.tensorflow.org/api_docs/python/tf/function for  more details.\n"
     ]
    },
    {
     "name": "stdout",
     "output_type": "stream",
     "text": [
      "1/1 [==============================] - 0s 106ms/step - loss: 31.7554\n",
      "1/1 [==============================] - 0s 72ms/step - loss: 0.6921\n"
     ]
    },
    {
     "name": "stderr",
     "output_type": "stream",
     "text": [
      "WARNING:tensorflow:10 out of the last 13 calls to <function Model.make_test_function.<locals>.test_function at 0x7f1ff4689c10> triggered tf.function retracing. Tracing is expensive and the excessive number of tracings could be due to (1) creating @tf.function repeatedly in a loop, (2) passing tensors with different shapes, (3) passing Python objects instead of tensors. For (1), please define your @tf.function outside of the loop. For (2), @tf.function has experimental_relax_shapes=True option that relaxes argument shapes that can avoid unnecessary retracing. For (3), please refer to https://www.tensorflow.org/guide/function#controlling_retracing and https://www.tensorflow.org/api_docs/python/tf/function for  more details.\n",
      "WARNING:tensorflow:10 out of the last 13 calls to <function Model.make_test_function.<locals>.test_function at 0x7f8a58186ca0> triggered tf.function retracing. Tracing is expensive and the excessive number of tracings could be due to (1) creating @tf.function repeatedly in a loop, (2) passing tensors with different shapes, (3) passing Python objects instead of tensors. For (1), please define your @tf.function outside of the loop. For (2), @tf.function has experimental_relax_shapes=True option that relaxes argument shapes that can avoid unnecessary retracing. For (3), please refer to https://www.tensorflow.org/guide/function#controlling_retracing and https://www.tensorflow.org/api_docs/python/tf/function for  more details.\n"
     ]
    },
    {
     "name": "stdout",
     "output_type": "stream",
     "text": [
      "1/1 [==============================] - 0s 122ms/step - loss: 32.2845\n",
      "1/1 [==============================] - 0s 164ms/step - loss: 7.6100\n"
     ]
    },
    {
     "name": "stderr",
     "output_type": "stream",
     "text": [
      "WARNING:tensorflow:10 out of the last 13 calls to <function Model.make_test_function.<locals>.test_function at 0x7f21002d3d30> triggered tf.function retracing. Tracing is expensive and the excessive number of tracings could be due to (1) creating @tf.function repeatedly in a loop, (2) passing tensors with different shapes, (3) passing Python objects instead of tensors. For (1), please define your @tf.function outside of the loop. For (2), @tf.function has experimental_relax_shapes=True option that relaxes argument shapes that can avoid unnecessary retracing. For (3), please refer to https://www.tensorflow.org/guide/function#controlling_retracing and https://www.tensorflow.org/api_docs/python/tf/function for  more details.\n",
      "WARNING:tensorflow:10 out of the last 13 calls to <function Model.make_test_function.<locals>.test_function at 0x7f6248697dc0> triggered tf.function retracing. Tracing is expensive and the excessive number of tracings could be due to (1) creating @tf.function repeatedly in a loop, (2) passing tensors with different shapes, (3) passing Python objects instead of tensors. For (1), please define your @tf.function outside of the loop. For (2), @tf.function has experimental_relax_shapes=True option that relaxes argument shapes that can avoid unnecessary retracing. For (3), please refer to https://www.tensorflow.org/guide/function#controlling_retracing and https://www.tensorflow.org/api_docs/python/tf/function for  more details.\n"
     ]
    },
    {
     "name": "stdout",
     "output_type": "stream",
     "text": [
      "1/1 [==============================] - 0s 103ms/step - loss: 0.6668\n",
      "1/1 [==============================] - 0s 83ms/step - loss: 7.5530\n"
     ]
    },
    {
     "name": "stderr",
     "output_type": "stream",
     "text": [
      "WARNING:tensorflow:11 out of the last 14 calls to <function Model.make_test_function.<locals>.test_function at 0x7f20e4760c10> triggered tf.function retracing. Tracing is expensive and the excessive number of tracings could be due to (1) creating @tf.function repeatedly in a loop, (2) passing tensors with different shapes, (3) passing Python objects instead of tensors. For (1), please define your @tf.function outside of the loop. For (2), @tf.function has experimental_relax_shapes=True option that relaxes argument shapes that can avoid unnecessary retracing. For (3), please refer to https://www.tensorflow.org/guide/function#controlling_retracing and https://www.tensorflow.org/api_docs/python/tf/function for  more details.\n",
      "WARNING:tensorflow:11 out of the last 14 calls to <function Model.make_test_function.<locals>.test_function at 0x7f20504f7670> triggered tf.function retracing. Tracing is expensive and the excessive number of tracings could be due to (1) creating @tf.function repeatedly in a loop, (2) passing tensors with different shapes, (3) passing Python objects instead of tensors. For (1), please define your @tf.function outside of the loop. For (2), @tf.function has experimental_relax_shapes=True option that relaxes argument shapes that can avoid unnecessary retracing. For (3), please refer to https://www.tensorflow.org/guide/function#controlling_retracing and https://www.tensorflow.org/api_docs/python/tf/function for  more details.\n",
      "WARNING:tensorflow:11 out of the last 14 calls to <function Model.make_test_function.<locals>.test_function at 0x7f8a7a400550> triggered tf.function retracing. Tracing is expensive and the excessive number of tracings could be due to (1) creating @tf.function repeatedly in a loop, (2) passing tensors with different shapes, (3) passing Python objects instead of tensors. For (1), please define your @tf.function outside of the loop. For (2), @tf.function has experimental_relax_shapes=True option that relaxes argument shapes that can avoid unnecessary retracing. For (3), please refer to https://www.tensorflow.org/guide/function#controlling_retracing and https://www.tensorflow.org/api_docs/python/tf/function for  more details.\n",
      "WARNING:tensorflow:11 out of the last 14 calls to <function Model.make_test_function.<locals>.test_function at 0x7f62483acca0> triggered tf.function retracing. Tracing is expensive and the excessive number of tracings could be due to (1) creating @tf.function repeatedly in a loop, (2) passing tensors with different shapes, (3) passing Python objects instead of tensors. For (1), please define your @tf.function outside of the loop. For (2), @tf.function has experimental_relax_shapes=True option that relaxes argument shapes that can avoid unnecessary retracing. For (3), please refer to https://www.tensorflow.org/guide/function#controlling_retracing and https://www.tensorflow.org/api_docs/python/tf/function for  more details.\n"
     ]
    },
    {
     "name": "stdout",
     "output_type": "stream",
     "text": [
      "1/1 [==============================] - 0s 134ms/step - loss: 6.9688\n",
      "1/1 [==============================] - 0s 104ms/step - loss: 31.2597\n",
      "1/1 [==============================] - 0s 100ms/step - loss: 0.7662\n",
      "1/1 [==============================] - 0s 86ms/step - loss: 30.9710\n"
     ]
    },
    {
     "name": "stderr",
     "output_type": "stream",
     "text": [
      "WARNING:tensorflow:11 out of the last 11 calls to <function Model.make_test_function.<locals>.test_function at 0x7f203c78d160> triggered tf.function retracing. Tracing is expensive and the excessive number of tracings could be due to (1) creating @tf.function repeatedly in a loop, (2) passing tensors with different shapes, (3) passing Python objects instead of tensors. For (1), please define your @tf.function outside of the loop. For (2), @tf.function has experimental_relax_shapes=True option that relaxes argument shapes that can avoid unnecessary retracing. For (3), please refer to https://www.tensorflow.org/guide/function#controlling_retracing and https://www.tensorflow.org/api_docs/python/tf/function for  more details.\n",
      "WARNING:tensorflow:11 out of the last 11 calls to <function Model.make_test_function.<locals>.test_function at 0x7f8a7a4008b0> triggered tf.function retracing. Tracing is expensive and the excessive number of tracings could be due to (1) creating @tf.function repeatedly in a loop, (2) passing tensors with different shapes, (3) passing Python objects instead of tensors. For (1), please define your @tf.function outside of the loop. For (2), @tf.function has experimental_relax_shapes=True option that relaxes argument shapes that can avoid unnecessary retracing. For (3), please refer to https://www.tensorflow.org/guide/function#controlling_retracing and https://www.tensorflow.org/api_docs/python/tf/function for  more details.\n"
     ]
    },
    {
     "name": "stdout",
     "output_type": "stream",
     "text": [
      "1/1 [==============================] - 0s 160ms/step - loss: 7.3334\n",
      "1/1 [==============================] - 0s 117ms/step - loss: 13.2767\n"
     ]
    },
    {
     "name": "stderr",
     "output_type": "stream",
     "text": [
      "WARNING:tensorflow:11 out of the last 11 calls to <function Model.make_test_function.<locals>.test_function at 0x7f210a76e670> triggered tf.function retracing. Tracing is expensive and the excessive number of tracings could be due to (1) creating @tf.function repeatedly in a loop, (2) passing tensors with different shapes, (3) passing Python objects instead of tensors. For (1), please define your @tf.function outside of the loop. For (2), @tf.function has experimental_relax_shapes=True option that relaxes argument shapes that can avoid unnecessary retracing. For (3), please refer to https://www.tensorflow.org/guide/function#controlling_retracing and https://www.tensorflow.org/api_docs/python/tf/function for  more details.\n"
     ]
    },
    {
     "name": "stdout",
     "output_type": "stream",
     "text": [
      "1/1 [==============================] - 0s 132ms/step - loss: 0.9122\n"
     ]
    },
    {
     "name": "stderr",
     "output_type": "stream",
     "text": [
      "WARNING:tensorflow:11 out of the last 11 calls to <function Model.make_test_function.<locals>.test_function at 0x7f627cab2550> triggered tf.function retracing. Tracing is expensive and the excessive number of tracings could be due to (1) creating @tf.function repeatedly in a loop, (2) passing tensors with different shapes, (3) passing Python objects instead of tensors. For (1), please define your @tf.function outside of the loop. For (2), @tf.function has experimental_relax_shapes=True option that relaxes argument shapes that can avoid unnecessary retracing. For (3), please refer to https://www.tensorflow.org/guide/function#controlling_retracing and https://www.tensorflow.org/api_docs/python/tf/function for  more details.\n"
     ]
    },
    {
     "name": "stdout",
     "output_type": "stream",
     "text": [
      "1/1 [==============================] - 0s 90ms/step - loss: 0.3852\n"
     ]
    },
    {
     "name": "stderr",
     "output_type": "stream",
     "text": [
      "WARNING:tensorflow:11 out of the last 11 calls to <function Model.make_test_function.<locals>.test_function at 0x7f8a34184ee0> triggered tf.function retracing. Tracing is expensive and the excessive number of tracings could be due to (1) creating @tf.function repeatedly in a loop, (2) passing tensors with different shapes, (3) passing Python objects instead of tensors. For (1), please define your @tf.function outside of the loop. For (2), @tf.function has experimental_relax_shapes=True option that relaxes argument shapes that can avoid unnecessary retracing. For (3), please refer to https://www.tensorflow.org/guide/function#controlling_retracing and https://www.tensorflow.org/api_docs/python/tf/function for  more details.\n",
      "WARNING:tensorflow:11 out of the last 11 calls to <function Model.make_test_function.<locals>.test_function at 0x7f20184e0dc0> triggered tf.function retracing. Tracing is expensive and the excessive number of tracings could be due to (1) creating @tf.function repeatedly in a loop, (2) passing tensors with different shapes, (3) passing Python objects instead of tensors. For (1), please define your @tf.function outside of the loop. For (2), @tf.function has experimental_relax_shapes=True option that relaxes argument shapes that can avoid unnecessary retracing. For (3), please refer to https://www.tensorflow.org/guide/function#controlling_retracing and https://www.tensorflow.org/api_docs/python/tf/function for  more details.\n"
     ]
    },
    {
     "name": "stdout",
     "output_type": "stream",
     "text": [
      "1/1 [==============================] - 0s 119ms/step - loss: 32.6081\n",
      "1/1 [==============================] - 0s 109ms/step - loss: 6.9059\n"
     ]
    },
    {
     "name": "stderr",
     "output_type": "stream",
     "text": [
      "WARNING:tensorflow:11 out of the last 11 calls to <function Model.make_test_function.<locals>.test_function at 0x7f210823a160> triggered tf.function retracing. Tracing is expensive and the excessive number of tracings could be due to (1) creating @tf.function repeatedly in a loop, (2) passing tensors with different shapes, (3) passing Python objects instead of tensors. For (1), please define your @tf.function outside of the loop. For (2), @tf.function has experimental_relax_shapes=True option that relaxes argument shapes that can avoid unnecessary retracing. For (3), please refer to https://www.tensorflow.org/guide/function#controlling_retracing and https://www.tensorflow.org/api_docs/python/tf/function for  more details.\n"
     ]
    },
    {
     "name": "stdout",
     "output_type": "stream",
     "text": [
      "1/1 [==============================] - 0s 102ms/step - loss: 0.3852\n"
     ]
    },
    {
     "name": "stderr",
     "output_type": "stream",
     "text": [
      "WARNING:tensorflow:11 out of the last 11 calls to <function Model.make_test_function.<locals>.test_function at 0x7f627cab28b0> triggered tf.function retracing. Tracing is expensive and the excessive number of tracings could be due to (1) creating @tf.function repeatedly in a loop, (2) passing tensors with different shapes, (3) passing Python objects instead of tensors. For (1), please define your @tf.function outside of the loop. For (2), @tf.function has experimental_relax_shapes=True option that relaxes argument shapes that can avoid unnecessary retracing. For (3), please refer to https://www.tensorflow.org/guide/function#controlling_retracing and https://www.tensorflow.org/api_docs/python/tf/function for  more details.\n"
     ]
    },
    {
     "name": "stdout",
     "output_type": "stream",
     "text": [
      "1/1 [==============================] - 0s 90ms/step - loss: 7.2187\n"
     ]
    },
    {
     "name": "stderr",
     "output_type": "stream",
     "text": [
      "WARNING:tensorflow:11 out of the last 11 calls to <function Model.make_test_function.<locals>.test_function at 0x7f8a702681f0> triggered tf.function retracing. Tracing is expensive and the excessive number of tracings could be due to (1) creating @tf.function repeatedly in a loop, (2) passing tensors with different shapes, (3) passing Python objects instead of tensors. For (1), please define your @tf.function outside of the loop. For (2), @tf.function has experimental_relax_shapes=True option that relaxes argument shapes that can avoid unnecessary retracing. For (3), please refer to https://www.tensorflow.org/guide/function#controlling_retracing and https://www.tensorflow.org/api_docs/python/tf/function for  more details.\n",
      "WARNING:tensorflow:11 out of the last 11 calls to <function Model.make_test_function.<locals>.test_function at 0x7f1ff473a940> triggered tf.function retracing. Tracing is expensive and the excessive number of tracings could be due to (1) creating @tf.function repeatedly in a loop, (2) passing tensors with different shapes, (3) passing Python objects instead of tensors. For (1), please define your @tf.function outside of the loop. For (2), @tf.function has experimental_relax_shapes=True option that relaxes argument shapes that can avoid unnecessary retracing. For (3), please refer to https://www.tensorflow.org/guide/function#controlling_retracing and https://www.tensorflow.org/api_docs/python/tf/function for  more details.\n"
     ]
    },
    {
     "name": "stdout",
     "output_type": "stream",
     "text": [
      "1/1 [==============================] - 0s 163ms/step - loss: 31.6478\n",
      "1/1 [==============================] - 0s 157ms/step - loss: 0.7549\n"
     ]
    },
    {
     "name": "stderr",
     "output_type": "stream",
     "text": [
      "WARNING:tensorflow:11 out of the last 11 calls to <function Model.make_test_function.<locals>.test_function at 0x7f20e43e1dc0> triggered tf.function retracing. Tracing is expensive and the excessive number of tracings could be due to (1) creating @tf.function repeatedly in a loop, (2) passing tensors with different shapes, (3) passing Python objects instead of tensors. For (1), please define your @tf.function outside of the loop. For (2), @tf.function has experimental_relax_shapes=True option that relaxes argument shapes that can avoid unnecessary retracing. For (3), please refer to https://www.tensorflow.org/guide/function#controlling_retracing and https://www.tensorflow.org/api_docs/python/tf/function for  more details.\n"
     ]
    },
    {
     "name": "stdout",
     "output_type": "stream",
     "text": [
      "1/1 [==============================] - 0s 109ms/step - loss: 7.5165\n"
     ]
    },
    {
     "name": "stderr",
     "output_type": "stream",
     "text": [
      "WARNING:tensorflow:11 out of the last 11 calls to <function Model.make_test_function.<locals>.test_function at 0x7f6248747ee0> triggered tf.function retracing. Tracing is expensive and the excessive number of tracings could be due to (1) creating @tf.function repeatedly in a loop, (2) passing tensors with different shapes, (3) passing Python objects instead of tensors. For (1), please define your @tf.function outside of the loop. For (2), @tf.function has experimental_relax_shapes=True option that relaxes argument shapes that can avoid unnecessary retracing. For (3), please refer to https://www.tensorflow.org/guide/function#controlling_retracing and https://www.tensorflow.org/api_docs/python/tf/function for  more details.\n"
     ]
    },
    {
     "name": "stdout",
     "output_type": "stream",
     "text": [
      "1/1 [==============================] - 0s 82ms/step - loss: 13.2767\n"
     ]
    },
    {
     "name": "stderr",
     "output_type": "stream",
     "text": [
      "WARNING:tensorflow:11 out of the last 11 calls to <function Model.make_test_function.<locals>.test_function at 0x7f8a74f474c0> triggered tf.function retracing. Tracing is expensive and the excessive number of tracings could be due to (1) creating @tf.function repeatedly in a loop, (2) passing tensors with different shapes, (3) passing Python objects instead of tensors. For (1), please define your @tf.function outside of the loop. For (2), @tf.function has experimental_relax_shapes=True option that relaxes argument shapes that can avoid unnecessary retracing. For (3), please refer to https://www.tensorflow.org/guide/function#controlling_retracing and https://www.tensorflow.org/api_docs/python/tf/function for  more details.\n"
     ]
    },
    {
     "name": "stdout",
     "output_type": "stream",
     "text": [
      "1/1 [==============================] - 0s 132ms/step - loss: 0.3852\n"
     ]
    },
    {
     "name": "stderr",
     "output_type": "stream",
     "text": [
      "WARNING:tensorflow:11 out of the last 11 calls to <function Model.make_test_function.<locals>.test_function at 0x7f2018016700> triggered tf.function retracing. Tracing is expensive and the excessive number of tracings could be due to (1) creating @tf.function repeatedly in a loop, (2) passing tensors with different shapes, (3) passing Python objects instead of tensors. For (1), please define your @tf.function outside of the loop. For (2), @tf.function has experimental_relax_shapes=True option that relaxes argument shapes that can avoid unnecessary retracing. For (3), please refer to https://www.tensorflow.org/guide/function#controlling_retracing and https://www.tensorflow.org/api_docs/python/tf/function for  more details.\n",
      "WARNING:tensorflow:11 out of the last 11 calls to <function Model.make_test_function.<locals>.test_function at 0x7f20e41be940> triggered tf.function retracing. Tracing is expensive and the excessive number of tracings could be due to (1) creating @tf.function repeatedly in a loop, (2) passing tensors with different shapes, (3) passing Python objects instead of tensors. For (1), please define your @tf.function outside of the loop. For (2), @tf.function has experimental_relax_shapes=True option that relaxes argument shapes that can avoid unnecessary retracing. For (3), please refer to https://www.tensorflow.org/guide/function#controlling_retracing and https://www.tensorflow.org/api_docs/python/tf/function for  more details.\n"
     ]
    },
    {
     "name": "stdout",
     "output_type": "stream",
     "text": [
      "1/1 [==============================] - 0s 119ms/step - loss: 19.2607\n",
      "1/1 [==============================] - 0s 103ms/step - loss: 31.3731\n"
     ]
    },
    {
     "name": "stderr",
     "output_type": "stream",
     "text": [
      "WARNING:tensorflow:11 out of the last 11 calls to <function Model.make_test_function.<locals>.test_function at 0x7f627411c1f0> triggered tf.function retracing. Tracing is expensive and the excessive number of tracings could be due to (1) creating @tf.function repeatedly in a loop, (2) passing tensors with different shapes, (3) passing Python objects instead of tensors. For (1), please define your @tf.function outside of the loop. For (2), @tf.function has experimental_relax_shapes=True option that relaxes argument shapes that can avoid unnecessary retracing. For (3), please refer to https://www.tensorflow.org/guide/function#controlling_retracing and https://www.tensorflow.org/api_docs/python/tf/function for  more details.\n"
     ]
    },
    {
     "name": "stdout",
     "output_type": "stream",
     "text": [
      "1/1 [==============================] - 0s 119ms/step - loss: 0.3852\n"
     ]
    },
    {
     "name": "stderr",
     "output_type": "stream",
     "text": [
      "WARNING:tensorflow:11 out of the last 11 calls to <function Model.make_test_function.<locals>.test_function at 0x7f8a344d9280> triggered tf.function retracing. Tracing is expensive and the excessive number of tracings could be due to (1) creating @tf.function repeatedly in a loop, (2) passing tensors with different shapes, (3) passing Python objects instead of tensors. For (1), please define your @tf.function outside of the loop. For (2), @tf.function has experimental_relax_shapes=True option that relaxes argument shapes that can avoid unnecessary retracing. For (3), please refer to https://www.tensorflow.org/guide/function#controlling_retracing and https://www.tensorflow.org/api_docs/python/tf/function for  more details.\n",
      "WARNING:tensorflow:11 out of the last 11 calls to <function Model.make_test_function.<locals>.test_function at 0x7f20183bd040> triggered tf.function retracing. Tracing is expensive and the excessive number of tracings could be due to (1) creating @tf.function repeatedly in a loop, (2) passing tensors with different shapes, (3) passing Python objects instead of tensors. For (1), please define your @tf.function outside of the loop. For (2), @tf.function has experimental_relax_shapes=True option that relaxes argument shapes that can avoid unnecessary retracing. For (3), please refer to https://www.tensorflow.org/guide/function#controlling_retracing and https://www.tensorflow.org/api_docs/python/tf/function for  more details.\n"
     ]
    },
    {
     "name": "stdout",
     "output_type": "stream",
     "text": [
      "1/1 [==============================] - 0s 133ms/step - loss: 7.4808\n",
      "1/1 [==============================] - 0s 121ms/step - loss: 13.2767\n"
     ]
    },
    {
     "name": "stderr",
     "output_type": "stream",
     "text": [
      "WARNING:tensorflow:11 out of the last 11 calls to <function Model.make_test_function.<locals>.test_function at 0x7f20e40d7700> triggered tf.function retracing. Tracing is expensive and the excessive number of tracings could be due to (1) creating @tf.function repeatedly in a loop, (2) passing tensors with different shapes, (3) passing Python objects instead of tensors. For (1), please define your @tf.function outside of the loop. For (2), @tf.function has experimental_relax_shapes=True option that relaxes argument shapes that can avoid unnecessary retracing. For (3), please refer to https://www.tensorflow.org/guide/function#controlling_retracing and https://www.tensorflow.org/api_docs/python/tf/function for  more details.\n"
     ]
    },
    {
     "name": "stdout",
     "output_type": "stream",
     "text": [
      "1/1 [==============================] - 0s 110ms/step - loss: 0.3852\n"
     ]
    },
    {
     "name": "stderr",
     "output_type": "stream",
     "text": [
      "WARNING:tensorflow:11 out of the last 11 calls to <function Model.make_test_function.<locals>.test_function at 0x7f62775f94c0> triggered tf.function retracing. Tracing is expensive and the excessive number of tracings could be due to (1) creating @tf.function repeatedly in a loop, (2) passing tensors with different shapes, (3) passing Python objects instead of tensors. For (1), please define your @tf.function outside of the loop. For (2), @tf.function has experimental_relax_shapes=True option that relaxes argument shapes that can avoid unnecessary retracing. For (3), please refer to https://www.tensorflow.org/guide/function#controlling_retracing and https://www.tensorflow.org/api_docs/python/tf/function for  more details.\n"
     ]
    },
    {
     "name": "stdout",
     "output_type": "stream",
     "text": [
      "1/1 [==============================] - 0s 108ms/step - loss: 19.2607\n"
     ]
    },
    {
     "name": "stderr",
     "output_type": "stream",
     "text": [
      "WARNING:tensorflow:11 out of the last 11 calls to <function Model.make_test_function.<locals>.test_function at 0x7f8a74f473a0> triggered tf.function retracing. Tracing is expensive and the excessive number of tracings could be due to (1) creating @tf.function repeatedly in a loop, (2) passing tensors with different shapes, (3) passing Python objects instead of tensors. For (1), please define your @tf.function outside of the loop. For (2), @tf.function has experimental_relax_shapes=True option that relaxes argument shapes that can avoid unnecessary retracing. For (3), please refer to https://www.tensorflow.org/guide/function#controlling_retracing and https://www.tensorflow.org/api_docs/python/tf/function for  more details.\n",
      "WARNING:tensorflow:11 out of the last 11 calls to <function Model.make_test_function.<locals>.test_function at 0x7f20183bd670> triggered tf.function retracing. Tracing is expensive and the excessive number of tracings could be due to (1) creating @tf.function repeatedly in a loop, (2) passing tensors with different shapes, (3) passing Python objects instead of tensors. For (1), please define your @tf.function outside of the loop. For (2), @tf.function has experimental_relax_shapes=True option that relaxes argument shapes that can avoid unnecessary retracing. For (3), please refer to https://www.tensorflow.org/guide/function#controlling_retracing and https://www.tensorflow.org/api_docs/python/tf/function for  more details.\n"
     ]
    },
    {
     "name": "stdout",
     "output_type": "stream",
     "text": [
      "1/1 [==============================] - 0s 135ms/step - loss: 30.1640\n",
      "1/1 [==============================] - 0s 130ms/step - loss: 0.7879\n"
     ]
    },
    {
     "name": "stderr",
     "output_type": "stream",
     "text": [
      "WARNING:tensorflow:11 out of the last 11 calls to <function Model.make_test_function.<locals>.test_function at 0x7f20e4383040> triggered tf.function retracing. Tracing is expensive and the excessive number of tracings could be due to (1) creating @tf.function repeatedly in a loop, (2) passing tensors with different shapes, (3) passing Python objects instead of tensors. For (1), please define your @tf.function outside of the loop. For (2), @tf.function has experimental_relax_shapes=True option that relaxes argument shapes that can avoid unnecessary retracing. For (3), please refer to https://www.tensorflow.org/guide/function#controlling_retracing and https://www.tensorflow.org/api_docs/python/tf/function for  more details.\n",
      "WARNING:tensorflow:11 out of the last 11 calls to <function Model.make_test_function.<locals>.test_function at 0x7f62486dc280> triggered tf.function retracing. Tracing is expensive and the excessive number of tracings could be due to (1) creating @tf.function repeatedly in a loop, (2) passing tensors with different shapes, (3) passing Python objects instead of tensors. For (1), please define your @tf.function outside of the loop. For (2), @tf.function has experimental_relax_shapes=True option that relaxes argument shapes that can avoid unnecessary retracing. For (3), please refer to https://www.tensorflow.org/guide/function#controlling_retracing and https://www.tensorflow.org/api_docs/python/tf/function for  more details.\n"
     ]
    },
    {
     "name": "stdout",
     "output_type": "stream",
     "text": [
      "1/1 [==============================] - 0s 112ms/step - loss: 7.4571\n",
      "1/1 [==============================] - 0s 96ms/step - loss: 32.2269\n"
     ]
    },
    {
     "name": "stderr",
     "output_type": "stream",
     "text": [
      "WARNING:tensorflow:11 out of the last 11 calls to <function Model.make_test_function.<locals>.test_function at 0x7f8a34176940> triggered tf.function retracing. Tracing is expensive and the excessive number of tracings could be due to (1) creating @tf.function repeatedly in a loop, (2) passing tensors with different shapes, (3) passing Python objects instead of tensors. For (1), please define your @tf.function outside of the loop. For (2), @tf.function has experimental_relax_shapes=True option that relaxes argument shapes that can avoid unnecessary retracing. For (3), please refer to https://www.tensorflow.org/guide/function#controlling_retracing and https://www.tensorflow.org/api_docs/python/tf/function for  more details.\n",
      "WARNING:tensorflow:11 out of the last 11 calls to <function Model.make_test_function.<locals>.test_function at 0x7f20187818b0> triggered tf.function retracing. Tracing is expensive and the excessive number of tracings could be due to (1) creating @tf.function repeatedly in a loop, (2) passing tensors with different shapes, (3) passing Python objects instead of tensors. For (1), please define your @tf.function outside of the loop. For (2), @tf.function has experimental_relax_shapes=True option that relaxes argument shapes that can avoid unnecessary retracing. For (3), please refer to https://www.tensorflow.org/guide/function#controlling_retracing and https://www.tensorflow.org/api_docs/python/tf/function for  more details.\n"
     ]
    },
    {
     "name": "stdout",
     "output_type": "stream",
     "text": [
      "1/1 [==============================] - 0s 133ms/step - loss: 0.6219\n",
      "1/1 [==============================] - 0s 156ms/step - loss: 7.4485\n"
     ]
    },
    {
     "name": "stderr",
     "output_type": "stream",
     "text": [
      "WARNING:tensorflow:11 out of the last 11 calls to <function Model.make_test_function.<locals>.test_function at 0x7f20e4383670> triggered tf.function retracing. Tracing is expensive and the excessive number of tracings could be due to (1) creating @tf.function repeatedly in a loop, (2) passing tensors with different shapes, (3) passing Python objects instead of tensors. For (1), please define your @tf.function outside of the loop. For (2), @tf.function has experimental_relax_shapes=True option that relaxes argument shapes that can avoid unnecessary retracing. For (3), please refer to https://www.tensorflow.org/guide/function#controlling_retracing and https://www.tensorflow.org/api_docs/python/tf/function for  more details.\n"
     ]
    },
    {
     "name": "stdout",
     "output_type": "stream",
     "text": [
      "1/1 [==============================] - 0s 106ms/step - loss: 31.3766\n"
     ]
    },
    {
     "name": "stderr",
     "output_type": "stream",
     "text": [
      "WARNING:tensorflow:11 out of the last 11 calls to <function Model.make_test_function.<locals>.test_function at 0x7f62775f93a0> triggered tf.function retracing. Tracing is expensive and the excessive number of tracings could be due to (1) creating @tf.function repeatedly in a loop, (2) passing tensors with different shapes, (3) passing Python objects instead of tensors. For (1), please define your @tf.function outside of the loop. For (2), @tf.function has experimental_relax_shapes=True option that relaxes argument shapes that can avoid unnecessary retracing. For (3), please refer to https://www.tensorflow.org/guide/function#controlling_retracing and https://www.tensorflow.org/api_docs/python/tf/function for  more details.\n"
     ]
    },
    {
     "name": "stdout",
     "output_type": "stream",
     "text": [
      "1/1 [==============================] - 0s 115ms/step - loss: 0.7336\n"
     ]
    },
    {
     "name": "stderr",
     "output_type": "stream",
     "text": [
      "WARNING:tensorflow:11 out of the last 11 calls to <function Model.make_test_function.<locals>.test_function at 0x7f8a5811eb80> triggered tf.function retracing. Tracing is expensive and the excessive number of tracings could be due to (1) creating @tf.function repeatedly in a loop, (2) passing tensors with different shapes, (3) passing Python objects instead of tensors. For (1), please define your @tf.function outside of the loop. For (2), @tf.function has experimental_relax_shapes=True option that relaxes argument shapes that can avoid unnecessary retracing. For (3), please refer to https://www.tensorflow.org/guide/function#controlling_retracing and https://www.tensorflow.org/api_docs/python/tf/function for  more details.\n"
     ]
    },
    {
     "name": "stdout",
     "output_type": "stream",
     "text": [
      "1/1 [==============================] - 0s 115ms/step - loss: 7.3029\n"
     ]
    },
    {
     "name": "stderr",
     "output_type": "stream",
     "text": [
      "WARNING:tensorflow:11 out of the last 11 calls to <function Model.make_test_function.<locals>.test_function at 0x7f20187815e0> triggered tf.function retracing. Tracing is expensive and the excessive number of tracings could be due to (1) creating @tf.function repeatedly in a loop, (2) passing tensors with different shapes, (3) passing Python objects instead of tensors. For (1), please define your @tf.function outside of the loop. For (2), @tf.function has experimental_relax_shapes=True option that relaxes argument shapes that can avoid unnecessary retracing. For (3), please refer to https://www.tensorflow.org/guide/function#controlling_retracing and https://www.tensorflow.org/api_docs/python/tf/function for  more details.\n"
     ]
    },
    {
     "name": "stdout",
     "output_type": "stream",
     "text": [
      "1/1 [==============================] - 0s 116ms/step - loss: 31.5006\n"
     ]
    },
    {
     "name": "stderr",
     "output_type": "stream",
     "text": [
      "WARNING:tensorflow:11 out of the last 11 calls to <function Model.make_test_function.<locals>.test_function at 0x7f21001f08b0> triggered tf.function retracing. Tracing is expensive and the excessive number of tracings could be due to (1) creating @tf.function repeatedly in a loop, (2) passing tensors with different shapes, (3) passing Python objects instead of tensors. For (1), please define your @tf.function outside of the loop. For (2), @tf.function has experimental_relax_shapes=True option that relaxes argument shapes that can avoid unnecessary retracing. For (3), please refer to https://www.tensorflow.org/guide/function#controlling_retracing and https://www.tensorflow.org/api_docs/python/tf/function for  more details.\n"
     ]
    },
    {
     "name": "stdout",
     "output_type": "stream",
     "text": [
      "1/1 [==============================] - 0s 92ms/step - loss: 0.6982\n"
     ]
    },
    {
     "name": "stderr",
     "output_type": "stream",
     "text": [
      "WARNING:tensorflow:11 out of the last 11 calls to <function Model.make_test_function.<locals>.test_function at 0x7f6248152940> triggered tf.function retracing. Tracing is expensive and the excessive number of tracings could be due to (1) creating @tf.function repeatedly in a loop, (2) passing tensors with different shapes, (3) passing Python objects instead of tensors. For (1), please define your @tf.function outside of the loop. For (2), @tf.function has experimental_relax_shapes=True option that relaxes argument shapes that can avoid unnecessary retracing. For (3), please refer to https://www.tensorflow.org/guide/function#controlling_retracing and https://www.tensorflow.org/api_docs/python/tf/function for  more details.\n"
     ]
    },
    {
     "name": "stdout",
     "output_type": "stream",
     "text": [
      "1/1 [==============================] - 0s 87ms/step - loss: 7.4343\n"
     ]
    },
    {
     "name": "stderr",
     "output_type": "stream",
     "text": [
      "WARNING:tensorflow:11 out of the last 11 calls to <function Model.make_test_function.<locals>.test_function at 0x7f8a74fa0ee0> triggered tf.function retracing. Tracing is expensive and the excessive number of tracings could be due to (1) creating @tf.function repeatedly in a loop, (2) passing tensors with different shapes, (3) passing Python objects instead of tensors. For (1), please define your @tf.function outside of the loop. For (2), @tf.function has experimental_relax_shapes=True option that relaxes argument shapes that can avoid unnecessary retracing. For (3), please refer to https://www.tensorflow.org/guide/function#controlling_retracing and https://www.tensorflow.org/api_docs/python/tf/function for  more details.\n",
      "WARNING:tensorflow:11 out of the last 11 calls to <function Model.make_test_function.<locals>.test_function at 0x7f21001f05e0> triggered tf.function retracing. Tracing is expensive and the excessive number of tracings could be due to (1) creating @tf.function repeatedly in a loop, (2) passing tensors with different shapes, (3) passing Python objects instead of tensors. For (1), please define your @tf.function outside of the loop. For (2), @tf.function has experimental_relax_shapes=True option that relaxes argument shapes that can avoid unnecessary retracing. For (3), please refer to https://www.tensorflow.org/guide/function#controlling_retracing and https://www.tensorflow.org/api_docs/python/tf/function for  more details.\n"
     ]
    },
    {
     "name": "stdout",
     "output_type": "stream",
     "text": [
      "1/1 [==============================] - 0s 173ms/step - loss: 31.8923\n",
      "1/1 [==============================] - 0s 147ms/step - loss: 7.1071\n"
     ]
    },
    {
     "name": "stderr",
     "output_type": "stream",
     "text": [
      "WARNING:tensorflow:11 out of the last 11 calls to <function Model.make_test_function.<locals>.test_function at 0x7f203c7c78b0> triggered tf.function retracing. Tracing is expensive and the excessive number of tracings could be due to (1) creating @tf.function repeatedly in a loop, (2) passing tensors with different shapes, (3) passing Python objects instead of tensors. For (1), please define your @tf.function outside of the loop. For (2), @tf.function has experimental_relax_shapes=True option that relaxes argument shapes that can avoid unnecessary retracing. For (3), please refer to https://www.tensorflow.org/guide/function#controlling_retracing and https://www.tensorflow.org/api_docs/python/tf/function for  more details.\n",
      "WARNING:tensorflow:11 out of the last 11 calls to <function Model.make_test_function.<locals>.test_function at 0x7f6248720b80> triggered tf.function retracing. Tracing is expensive and the excessive number of tracings could be due to (1) creating @tf.function repeatedly in a loop, (2) passing tensors with different shapes, (3) passing Python objects instead of tensors. For (1), please define your @tf.function outside of the loop. For (2), @tf.function has experimental_relax_shapes=True option that relaxes argument shapes that can avoid unnecessary retracing. For (3), please refer to https://www.tensorflow.org/guide/function#controlling_retracing and https://www.tensorflow.org/api_docs/python/tf/function for  more details.\n"
     ]
    },
    {
     "name": "stdout",
     "output_type": "stream",
     "text": [
      "1/1 [==============================] - 0s 117ms/step - loss: 0.3852\n",
      "1/1 [==============================] - 0s 84ms/step - loss: 30.9044\n"
     ]
    },
    {
     "name": "stderr",
     "output_type": "stream",
     "text": [
      "WARNING:tensorflow:11 out of the last 11 calls to <function Model.make_test_function.<locals>.test_function at 0x7f8a74fa0550> triggered tf.function retracing. Tracing is expensive and the excessive number of tracings could be due to (1) creating @tf.function repeatedly in a loop, (2) passing tensors with different shapes, (3) passing Python objects instead of tensors. For (1), please define your @tf.function outside of the loop. For (2), @tf.function has experimental_relax_shapes=True option that relaxes argument shapes that can avoid unnecessary retracing. For (3), please refer to https://www.tensorflow.org/guide/function#controlling_retracing and https://www.tensorflow.org/api_docs/python/tf/function for  more details.\n"
     ]
    },
    {
     "name": "stdout",
     "output_type": "stream",
     "text": [
      "1/1 [==============================] - 0s 170ms/step - loss: 0.6432\n"
     ]
    },
    {
     "name": "stderr",
     "output_type": "stream",
     "text": [
      "WARNING:tensorflow:11 out of the last 11 calls to <function Model.make_test_function.<locals>.test_function at 0x7f201851e040> triggered tf.function retracing. Tracing is expensive and the excessive number of tracings could be due to (1) creating @tf.function repeatedly in a loop, (2) passing tensors with different shapes, (3) passing Python objects instead of tensors. For (1), please define your @tf.function outside of the loop. For (2), @tf.function has experimental_relax_shapes=True option that relaxes argument shapes that can avoid unnecessary retracing. For (3), please refer to https://www.tensorflow.org/guide/function#controlling_retracing and https://www.tensorflow.org/api_docs/python/tf/function for  more details.\n"
     ]
    },
    {
     "name": "stdout",
     "output_type": "stream",
     "text": [
      "1/1 [==============================] - 0s 124ms/step - loss: 30.9887\n"
     ]
    },
    {
     "name": "stderr",
     "output_type": "stream",
     "text": [
      "WARNING:tensorflow:11 out of the last 11 calls to <function Model.make_test_function.<locals>.test_function at 0x7f21082568b0> triggered tf.function retracing. Tracing is expensive and the excessive number of tracings could be due to (1) creating @tf.function repeatedly in a loop, (2) passing tensors with different shapes, (3) passing Python objects instead of tensors. For (1), please define your @tf.function outside of the loop. For (2), @tf.function has experimental_relax_shapes=True option that relaxes argument shapes that can avoid unnecessary retracing. For (3), please refer to https://www.tensorflow.org/guide/function#controlling_retracing and https://www.tensorflow.org/api_docs/python/tf/function for  more details.\n"
     ]
    },
    {
     "name": "stdout",
     "output_type": "stream",
     "text": [
      "1/1 [==============================] - 0s 134ms/step - loss: 7.1975\n"
     ]
    },
    {
     "name": "stderr",
     "output_type": "stream",
     "text": [
      "WARNING:tensorflow:11 out of the last 11 calls to <function Model.make_test_function.<locals>.test_function at 0x7f6277651ee0> triggered tf.function retracing. Tracing is expensive and the excessive number of tracings could be due to (1) creating @tf.function repeatedly in a loop, (2) passing tensors with different shapes, (3) passing Python objects instead of tensors. For (1), please define your @tf.function outside of the loop. For (2), @tf.function has experimental_relax_shapes=True option that relaxes argument shapes that can avoid unnecessary retracing. For (3), please refer to https://www.tensorflow.org/guide/function#controlling_retracing and https://www.tensorflow.org/api_docs/python/tf/function for  more details.\n"
     ]
    },
    {
     "name": "stdout",
     "output_type": "stream",
     "text": [
      "1/1 [==============================] - 0s 157ms/step - loss: 1.3551\n"
     ]
    },
    {
     "name": "stderr",
     "output_type": "stream",
     "text": [
      "WARNING:tensorflow:11 out of the last 11 calls to <function Model.make_test_function.<locals>.test_function at 0x7f8a70268670> triggered tf.function retracing. Tracing is expensive and the excessive number of tracings could be due to (1) creating @tf.function repeatedly in a loop, (2) passing tensors with different shapes, (3) passing Python objects instead of tensors. For (1), please define your @tf.function outside of the loop. For (2), @tf.function has experimental_relax_shapes=True option that relaxes argument shapes that can avoid unnecessary retracing. For (3), please refer to https://www.tensorflow.org/guide/function#controlling_retracing and https://www.tensorflow.org/api_docs/python/tf/function for  more details.\n"
     ]
    },
    {
     "name": "stdout",
     "output_type": "stream",
     "text": [
      "1/1 [==============================] - 0s 179ms/step - loss: 7.2602\n"
     ]
    },
    {
     "name": "stderr",
     "output_type": "stream",
     "text": [
      "WARNING:tensorflow:11 out of the last 11 calls to <function Model.make_test_function.<locals>.test_function at 0x7f20559578b0> triggered tf.function retracing. Tracing is expensive and the excessive number of tracings could be due to (1) creating @tf.function repeatedly in a loop, (2) passing tensors with different shapes, (3) passing Python objects instead of tensors. For (1), please define your @tf.function outside of the loop. For (2), @tf.function has experimental_relax_shapes=True option that relaxes argument shapes that can avoid unnecessary retracing. For (3), please refer to https://www.tensorflow.org/guide/function#controlling_retracing and https://www.tensorflow.org/api_docs/python/tf/function for  more details.\n"
     ]
    },
    {
     "name": "stdout",
     "output_type": "stream",
     "text": [
      "1/1 [==============================] - 0s 126ms/step - loss: 30.2591\n"
     ]
    },
    {
     "name": "stderr",
     "output_type": "stream",
     "text": [
      "WARNING:tensorflow:11 out of the last 11 calls to <function Model.make_test_function.<locals>.test_function at 0x7f20e4692040> triggered tf.function retracing. Tracing is expensive and the excessive number of tracings could be due to (1) creating @tf.function repeatedly in a loop, (2) passing tensors with different shapes, (3) passing Python objects instead of tensors. For (1), please define your @tf.function outside of the loop. For (2), @tf.function has experimental_relax_shapes=True option that relaxes argument shapes that can avoid unnecessary retracing. For (3), please refer to https://www.tensorflow.org/guide/function#controlling_retracing and https://www.tensorflow.org/api_docs/python/tf/function for  more details.\n"
     ]
    },
    {
     "name": "stdout",
     "output_type": "stream",
     "text": [
      "1/1 [==============================] - 0s 144ms/step - loss: 0.7276\n"
     ]
    },
    {
     "name": "stderr",
     "output_type": "stream",
     "text": [
      "WARNING:tensorflow:11 out of the last 11 calls to <function Model.make_test_function.<locals>.test_function at 0x7f6277651550> triggered tf.function retracing. Tracing is expensive and the excessive number of tracings could be due to (1) creating @tf.function repeatedly in a loop, (2) passing tensors with different shapes, (3) passing Python objects instead of tensors. For (1), please define your @tf.function outside of the loop. For (2), @tf.function has experimental_relax_shapes=True option that relaxes argument shapes that can avoid unnecessary retracing. For (3), please refer to https://www.tensorflow.org/guide/function#controlling_retracing and https://www.tensorflow.org/api_docs/python/tf/function for  more details.\n"
     ]
    },
    {
     "name": "stdout",
     "output_type": "stream",
     "text": [
      "1/1 [==============================] - 0s 157ms/step - loss: 7.3407\n"
     ]
    },
    {
     "name": "stderr",
     "output_type": "stream",
     "text": [
      "WARNING:tensorflow:11 out of the last 11 calls to <function Model.make_test_function.<locals>.test_function at 0x7f8a702680d0> triggered tf.function retracing. Tracing is expensive and the excessive number of tracings could be due to (1) creating @tf.function repeatedly in a loop, (2) passing tensors with different shapes, (3) passing Python objects instead of tensors. For (1), please define your @tf.function outside of the loop. For (2), @tf.function has experimental_relax_shapes=True option that relaxes argument shapes that can avoid unnecessary retracing. For (3), please refer to https://www.tensorflow.org/guide/function#controlling_retracing and https://www.tensorflow.org/api_docs/python/tf/function for  more details.\n"
     ]
    },
    {
     "name": "stdout",
     "output_type": "stream",
     "text": [
      "1/1 [==============================] - 0s 183ms/step - loss: 31.8804\n"
     ]
    },
    {
     "name": "stderr",
     "output_type": "stream",
     "text": [
      "WARNING:tensorflow:11 out of the last 11 calls to <function Model.make_test_function.<locals>.test_function at 0x7f20187810d0> triggered tf.function retracing. Tracing is expensive and the excessive number of tracings could be due to (1) creating @tf.function repeatedly in a loop, (2) passing tensors with different shapes, (3) passing Python objects instead of tensors. For (1), please define your @tf.function outside of the loop. For (2), @tf.function has experimental_relax_shapes=True option that relaxes argument shapes that can avoid unnecessary retracing. For (3), please refer to https://www.tensorflow.org/guide/function#controlling_retracing and https://www.tensorflow.org/api_docs/python/tf/function for  more details.\n"
     ]
    },
    {
     "name": "stdout",
     "output_type": "stream",
     "text": [
      "1/1 [==============================] - 0s 159ms/step - loss: 0.6912\n"
     ]
    },
    {
     "name": "stderr",
     "output_type": "stream",
     "text": [
      "WARNING:tensorflow:11 out of the last 11 calls to <function Model.make_test_function.<locals>.test_function at 0x7f210fbce8b0> triggered tf.function retracing. Tracing is expensive and the excessive number of tracings could be due to (1) creating @tf.function repeatedly in a loop, (2) passing tensors with different shapes, (3) passing Python objects instead of tensors. For (1), please define your @tf.function outside of the loop. For (2), @tf.function has experimental_relax_shapes=True option that relaxes argument shapes that can avoid unnecessary retracing. For (3), please refer to https://www.tensorflow.org/guide/function#controlling_retracing and https://www.tensorflow.org/api_docs/python/tf/function for  more details.\n"
     ]
    },
    {
     "name": "stdout",
     "output_type": "stream",
     "text": [
      "1/1 [==============================] - 0s 113ms/step - loss: 7.6719\n"
     ]
    },
    {
     "name": "stderr",
     "output_type": "stream",
     "text": [
      "WARNING:tensorflow:11 out of the last 11 calls to <function Model.make_test_function.<locals>.test_function at 0x7f627411c670> triggered tf.function retracing. Tracing is expensive and the excessive number of tracings could be due to (1) creating @tf.function repeatedly in a loop, (2) passing tensors with different shapes, (3) passing Python objects instead of tensors. For (1), please define your @tf.function outside of the loop. For (2), @tf.function has experimental_relax_shapes=True option that relaxes argument shapes that can avoid unnecessary retracing. For (3), please refer to https://www.tensorflow.org/guide/function#controlling_retracing and https://www.tensorflow.org/api_docs/python/tf/function for  more details.\n"
     ]
    },
    {
     "name": "stdout",
     "output_type": "stream",
     "text": [
      "1/1 [==============================] - 0s 123ms/step - loss: 30.7716\n"
     ]
    },
    {
     "name": "stderr",
     "output_type": "stream",
     "text": [
      "WARNING:tensorflow:11 out of the last 11 calls to <function Model.make_test_function.<locals>.test_function at 0x7f8a3468f310> triggered tf.function retracing. Tracing is expensive and the excessive number of tracings could be due to (1) creating @tf.function repeatedly in a loop, (2) passing tensors with different shapes, (3) passing Python objects instead of tensors. For (1), please define your @tf.function outside of the loop. For (2), @tf.function has experimental_relax_shapes=True option that relaxes argument shapes that can avoid unnecessary retracing. For (3), please refer to https://www.tensorflow.org/guide/function#controlling_retracing and https://www.tensorflow.org/api_docs/python/tf/function for  more details.\n"
     ]
    },
    {
     "name": "stdout",
     "output_type": "stream",
     "text": [
      "1/1 [==============================] - 0s 86ms/step - loss: 0.5984\n"
     ]
    },
    {
     "name": "stderr",
     "output_type": "stream",
     "text": [
      "WARNING:tensorflow:11 out of the last 11 calls to <function Model.make_test_function.<locals>.test_function at 0x7f20184e0c10> triggered tf.function retracing. Tracing is expensive and the excessive number of tracings could be due to (1) creating @tf.function repeatedly in a loop, (2) passing tensors with different shapes, (3) passing Python objects instead of tensors. For (1), please define your @tf.function outside of the loop. For (2), @tf.function has experimental_relax_shapes=True option that relaxes argument shapes that can avoid unnecessary retracing. For (3), please refer to https://www.tensorflow.org/guide/function#controlling_retracing and https://www.tensorflow.org/api_docs/python/tf/function for  more details.\n"
     ]
    },
    {
     "name": "stdout",
     "output_type": "stream",
     "text": [
      "1/1 [==============================] - 0s 76ms/step - loss: 7.4214\n"
     ]
    },
    {
     "data": {
      "text/plain": [
       "{'h2': 2, 'h1': 8, 'h0': 11}"
      ]
     },
     "metadata": {},
     "output_type": "display_data"
    },
    {
     "name": "stdout",
     "output_type": "stream",
     "text": [
      "GROUP 4\n"
     ]
    },
    {
     "name": "stderr",
     "output_type": "stream",
     "text": [
      "WARNING:tensorflow:11 out of the last 11 calls to <function Model.make_test_function.<locals>.test_function at 0x7f8a7a400e50> triggered tf.function retracing. Tracing is expensive and the excessive number of tracings could be due to (1) creating @tf.function repeatedly in a loop, (2) passing tensors with different shapes, (3) passing Python objects instead of tensors. For (1), please define your @tf.function outside of the loop. For (2), @tf.function has experimental_relax_shapes=True option that relaxes argument shapes that can avoid unnecessary retracing. For (3), please refer to https://www.tensorflow.org/guide/function#controlling_retracing and https://www.tensorflow.org/api_docs/python/tf/function for  more details.\n",
      "WARNING:tensorflow:11 out of the last 11 calls to <function Model.make_test_function.<locals>.test_function at 0x7f21001f00d0> triggered tf.function retracing. Tracing is expensive and the excessive number of tracings could be due to (1) creating @tf.function repeatedly in a loop, (2) passing tensors with different shapes, (3) passing Python objects instead of tensors. For (1), please define your @tf.function outside of the loop. For (2), @tf.function has experimental_relax_shapes=True option that relaxes argument shapes that can avoid unnecessary retracing. For (3), please refer to https://www.tensorflow.org/guide/function#controlling_retracing and https://www.tensorflow.org/api_docs/python/tf/function for  more details.\n",
      "WARNING:tensorflow:11 out of the last 11 calls to <function Model.make_test_function.<locals>.test_function at 0x7f627411c0d0> triggered tf.function retracing. Tracing is expensive and the excessive number of tracings could be due to (1) creating @tf.function repeatedly in a loop, (2) passing tensors with different shapes, (3) passing Python objects instead of tensors. For (1), please define your @tf.function outside of the loop. For (2), @tf.function has experimental_relax_shapes=True option that relaxes argument shapes that can avoid unnecessary retracing. For (3), please refer to https://www.tensorflow.org/guide/function#controlling_retracing and https://www.tensorflow.org/api_docs/python/tf/function for  more details.\n"
     ]
    },
    {
     "name": "stdout",
     "output_type": "stream",
     "text": [
      "6/6 [==============================] - 0s 984us/step - loss: 3.1696\n",
      "6/6 [==============================] - 0s 898us/step - loss: 2.0721\n",
      "6/6 [==============================] - 0s 946us/step - loss: 0.8828\n"
     ]
    },
    {
     "name": "stderr",
     "output_type": "stream",
     "text": [
      "WARNING:tensorflow:11 out of the last 11 calls to <function Model.make_test_function.<locals>.test_function at 0x7f1ff473aaf0> triggered tf.function retracing. Tracing is expensive and the excessive number of tracings could be due to (1) creating @tf.function repeatedly in a loop, (2) passing tensors with different shapes, (3) passing Python objects instead of tensors. For (1), please define your @tf.function outside of the loop. For (2), @tf.function has experimental_relax_shapes=True option that relaxes argument shapes that can avoid unnecessary retracing. For (3), please refer to https://www.tensorflow.org/guide/function#controlling_retracing and https://www.tensorflow.org/api_docs/python/tf/function for  more details.\n"
     ]
    },
    {
     "name": "stdout",
     "output_type": "stream",
     "text": [
      "6/6 [==============================] - 0s 996us/step - loss: 2.2985\n"
     ]
    },
    {
     "name": "stderr",
     "output_type": "stream",
     "text": [
      "WARNING:tensorflow:6 out of the last 11 calls to <function Model.make_test_function.<locals>.test_function at 0x7f8a5809b160> triggered tf.function retracing. Tracing is expensive and the excessive number of tracings could be due to (1) creating @tf.function repeatedly in a loop, (2) passing tensors with different shapes, (3) passing Python objects instead of tensors. For (1), please define your @tf.function outside of the loop. For (2), @tf.function has experimental_relax_shapes=True option that relaxes argument shapes that can avoid unnecessary retracing. For (3), please refer to https://www.tensorflow.org/guide/function#controlling_retracing and https://www.tensorflow.org/api_docs/python/tf/function for  more details.\n",
      "WARNING:tensorflow:6 out of the last 11 calls to <function Model.make_test_function.<locals>.test_function at 0x7f626c200310> triggered tf.function retracing. Tracing is expensive and the excessive number of tracings could be due to (1) creating @tf.function repeatedly in a loop, (2) passing tensors with different shapes, (3) passing Python objects instead of tensors. For (1), please define your @tf.function outside of the loop. For (2), @tf.function has experimental_relax_shapes=True option that relaxes argument shapes that can avoid unnecessary retracing. For (3), please refer to https://www.tensorflow.org/guide/function#controlling_retracing and https://www.tensorflow.org/api_docs/python/tf/function for  more details.\n",
      "WARNING:tensorflow:6 out of the last 11 calls to <function Model.make_test_function.<locals>.test_function at 0x7f20e43e1c10> triggered tf.function retracing. Tracing is expensive and the excessive number of tracings could be due to (1) creating @tf.function repeatedly in a loop, (2) passing tensors with different shapes, (3) passing Python objects instead of tensors. For (1), please define your @tf.function outside of the loop. For (2), @tf.function has experimental_relax_shapes=True option that relaxes argument shapes that can avoid unnecessary retracing. For (3), please refer to https://www.tensorflow.org/guide/function#controlling_retracing and https://www.tensorflow.org/api_docs/python/tf/function for  more details.\n",
      "WARNING:tensorflow:6 out of the last 11 calls to <function Model.make_test_function.<locals>.test_function at 0x7f20186029d0> triggered tf.function retracing. Tracing is expensive and the excessive number of tracings could be due to (1) creating @tf.function repeatedly in a loop, (2) passing tensors with different shapes, (3) passing Python objects instead of tensors. For (1), please define your @tf.function outside of the loop. For (2), @tf.function has experimental_relax_shapes=True option that relaxes argument shapes that can avoid unnecessary retracing. For (3), please refer to https://www.tensorflow.org/guide/function#controlling_retracing and https://www.tensorflow.org/api_docs/python/tf/function for  more details.\n"
     ]
    },
    {
     "name": "stdout",
     "output_type": "stream",
     "text": [
      "6/6 [==============================] - 0s 850us/step - loss: 0.8983\n",
      "6/6 [==============================] - 0s 8ms/step - loss: 4.3182\n",
      "6/6 [==============================] - 0s 1ms/step - loss: 1.6276\n",
      "6/6 [==============================] - 0s 1ms/step - loss: 0.9961\n",
      "6/6 [==============================] - 0s 1ms/step - loss: 1.3359\n",
      "6/6 [==============================] - 0s 943us/step - loss: 2.2211\n",
      "6/6 [==============================] - 0s 942us/step - loss: 0.8924\n",
      "6/6 [==============================] - 0s 1ms/step - loss: 1.5340\n",
      "6/6 [==============================] - 0s 10ms/step - loss: 2.3154\n",
      "6/6 [==============================] - 0s 874us/step - loss: 0.9168\n",
      "6/6 [==============================] - 0s 845us/step - loss: 1.3943\n",
      "6/6 [==============================] - 0s 942us/step - loss: 2.0079\n",
      "6/6 [==============================] - 0s 973us/step - loss: 2.2367\n",
      "6/6 [==============================] - 0s 934us/step - loss: 0.9299\n",
      "6/6 [==============================] - 0s 2ms/step - loss: 1.0586\n",
      "6/6 [==============================] - 0s 1ms/step - loss: 1.5824\n",
      "6/6 [==============================] - 0s 1ms/step - loss: 3.1677\n",
      "6/6 [==============================] - 0s 977us/step - loss: 1.5092\n",
      "6/6 [==============================] - 0s 1ms/step - loss: 0.8421\n",
      "6/6 [==============================] - 0s 1ms/step - loss: 2.1349\n",
      "6/6 [==============================] - 0s 845us/step - loss: 2.1395\n",
      "6/6 [==============================] - 0s 1ms/step - loss: 0.9689\n",
      "6/6 [==============================] - 0s 908us/step - loss: 2.5426\n",
      "6/6 [==============================] - 0s 1ms/step - loss: 1.5176\n",
      "6/6 [==============================] - 0s 10ms/step - loss: 0.8526\n",
      "6/6 [==============================] - 0s 999us/step - loss: 2.0111\n",
      "6/6 [==============================] - 0s 889us/step - loss: 0.9097\n",
      "6/6 [==============================] - 0s 954us/step - loss: 1.4599\n",
      "6/6 [==============================] - 0s 955us/step - loss: 1.5285\n",
      "6/6 [==============================] - 0s 950us/step - loss: 2.2724\n",
      "6/6 [==============================] - 0s 882us/step - loss: 0.8800\n",
      "6/6 [==============================] - 0s 945us/step - loss: 1.5307\n",
      "6/6 [==============================] - 0s 1ms/step - loss: 2.2365\n",
      "6/6 [==============================] - 0s 1ms/step - loss: 2.7203\n",
      "6/6 [==============================] - 0s 895us/step - loss: 3.1689\n",
      "6/6 [==============================] - 0s 911us/step - loss: 4.3184\n",
      "6/6 [==============================] - 0s 964us/step - loss: 2.7192\n",
      "6/6 [==============================] - 0s 938us/step - loss: 2.4639\n",
      "6/6 [==============================] - 0s 1ms/step - loss: 3.1697\n",
      "6/6 [==============================] - 0s 927us/step - loss: 0.9127\n",
      "6/6 [==============================] - 0s 10ms/step - loss: 1.3942\n",
      "6/6 [==============================] - 0s 1ms/step - loss: 0.9664\n",
      "6/6 [==============================] - 0s 1ms/step - loss: 2.0888\n",
      "6/6 [==============================] - 0s 1ms/step - loss: 1.5527\n",
      "6/6 [==============================] - 0s 10ms/step - loss: 2.1389\n",
      "6/6 [==============================] - 0s 891us/step - loss: 1.4586\n",
      "6/6 [==============================] - 0s 6ms/step - loss: 0.9333\n",
      "6/6 [==============================] - 0s 900us/step - loss: 2.1396\n",
      "6/6 [==============================] - 0s 1ms/step - loss: 2.7139\n",
      "6/6 [==============================] - 0s 1ms/step - loss: 1.3740\n",
      "6/6 [==============================] - 0s 1ms/step - loss: 2.0975\n",
      "6/6 [==============================] - 0s 1ms/step - loss: 0.9453\n",
      "6/6 [==============================] - 0s 10ms/step - loss: 1.3891\n",
      "6/6 [==============================] - 0s 896us/step - loss: 2.7143\n",
      "6/6 [==============================] - 0s 938us/step - loss: 1.9848\n",
      "6/6 [==============================] - 0s 981us/step - loss: 1.5701\n",
      "6/6 [==============================] - 0s 10ms/step - loss: 2.0902\n",
      "6/6 [==============================] - 0s 6ms/step - loss: 1.9533\n",
      "6/6 [==============================] - 0s 838us/step - loss: 0.8879\n",
      "6/6 [==============================] - 0s 1ms/step - loss: 2.2232\n",
      "6/6 [==============================] - 0s 9ms/step - loss: 1.0252\n",
      "6/6 [==============================] - 0s 951us/step - loss: 1.3187\n",
      "6/6 [==============================] - 0s 986us/step - loss: 0.9398\n",
      "6/6 [==============================] - 0s 1ms/step - loss: 2.2198\n",
      "6/6 [==============================] - 0s 1ms/step - loss: 2.2410\n",
      "6/6 [==============================] - 0s 991us/step - loss: 1.4652\n",
      "6/6 [==============================] - 0s 1ms/step - loss: 0.9461\n",
      "6/6 [==============================] - 0s 1ms/step - loss: 1.3671\n",
      "6/6 [==============================] - 0s 921us/step - loss: 4.3166\n",
      "6/6 [==============================] - 0s 933us/step - loss: 2.2009\n",
      "6/6 [==============================] - 0s 1ms/step - loss: 0.8660\n",
      "6/6 [==============================] - 0s 1ms/step - loss: 1.5201\n",
      "6/6 [==============================] - 0s 959us/step - loss: 3.1697\n",
      "6/6 [==============================] - 0s 958us/step - loss: 2.7216\n",
      "6/6 [==============================] - 0s 1ms/step - loss: 2.4556\n",
      "6/6 [==============================] - 0s 931us/step - loss: 0.9483\n",
      "6/6 [==============================] - 0s 1ms/step - loss: 1.4942\n",
      "6/6 [==============================] - 0s 1ms/step - loss: 2.1773\n",
      "6/6 [==============================] - 0s 1ms/step - loss: 1.1149\n",
      "6/6 [==============================] - 0s 11ms/step - loss: 1.3564\n",
      "6/6 [==============================] - 0s 9ms/step - loss: 2.0040\n",
      "6/6 [==============================] - 0s 1ms/step - loss: 0.9936\n",
      "6/6 [==============================] - 0s 1ms/step - loss: 1.3943\n",
      "6/6 [==============================] - 0s 1ms/step - loss: 4.3178\n",
      "6/6 [==============================] - 0s 923us/step - loss: 1.0285\n",
      "6/6 [==============================] - 0s 843us/step - loss: 3.1677\n"
     ]
    },
    {
     "data": {
      "text/plain": [
       "{'h2': 8, 'h1': 13, 'h0': 15}"
      ]
     },
     "metadata": {},
     "output_type": "display_data"
    }
   ],
   "source": [
    "nn_models = []\n",
    "for group_idx in np.arange(num_clusters):\n",
    "    print(\"GROUP {0}\".format(group_idx))\n",
    "    \n",
    "    NN_Model = KerasRegressor(build_fn=nn_KMC_type)\n",
    "    \n",
    "    rnd_search_cv = RandomizedSearchCV(\n",
    "        estimator=NN_Model,\n",
    "        param_distributions={\n",
    "            \"h0\": np.arange(10, 30).tolist(),\n",
    "            \"h1\": np.arange(5, 15).tolist(),\n",
    "            \"h2\": np.arange(1, 10).tolist()\n",
    "        },\n",
    "        n_iter=30,\n",
    "        cv=3,\n",
    "        verbose=0,\n",
    "        n_jobs=-1\n",
    "    ).fit(\n",
    "        X_nparr_normalize[closest_centroid == group_idx], \n",
    "        y_nparr[closest_centroid == group_idx],\n",
    "        verbose=0,\n",
    "        epochs=500\n",
    "    )\n",
    "    \n",
    "    display(rnd_search_cv.best_params_)\n",
    "    \n",
    "    nn_models.append(rnd_search_cv.best_estimator_.model)"
   ]
  },
  {
   "cell_type": "markdown",
   "id": "5eb6b88f-0b6c-44c4-88b8-e79938b892f0",
   "metadata": {},
   "source": [
    "### Validation"
   ]
  },
  {
   "cell_type": "code",
   "execution_count": 72,
   "id": "ba60b904-8c90-4248-8ef2-5c3d7bc3658b",
   "metadata": {},
   "outputs": [],
   "source": [
    "dist = []\n",
    "for centroid_idx in np.arange(num_clusters):\n",
    "    # finding the euclidean disntance between given centroid and all inputs\n",
    "    centroid = KMC_Model.cluster_centers_[centroid_idx]\n",
    "    centroid_matrix = np.matmul(np.ones(X_validation_normalized.shape[0]).reshape(1, -1).T, centroid.reshape(1, -1))\n",
    "    dist.append(np.sum(np.power(centroid_matrix - X_validation_normalized, 2), axis=1))\n",
    "\n",
    "dist = np.array(dist)"
   ]
  },
  {
   "cell_type": "code",
   "execution_count": 73,
   "id": "26202193-5586-445b-abe7-957390d4f728",
   "metadata": {},
   "outputs": [],
   "source": [
    "closest_centroid = np.argmin(dist, axis=0)"
   ]
  },
  {
   "cell_type": "code",
   "execution_count": 74,
   "id": "287ac66e-5c17-48be-9b7a-f47c9ec6c35b",
   "metadata": {},
   "outputs": [
    {
     "name": "stdout",
     "output_type": "stream",
     "text": [
      "The group sizes are: [642, 991, 66, 8, 108]\n"
     ]
    }
   ],
   "source": [
    "centroid_sizes = [np.count_nonzero(closest_centroid == i) for i in np.arange(num_clusters)]\n",
    "print(\"The group sizes are: {0}\".format(centroid_sizes))"
   ]
  },
  {
   "cell_type": "code",
   "execution_count": 75,
   "id": "7e4183ad-49a4-434e-a2c1-eca77886079e",
   "metadata": {},
   "outputs": [
    {
     "name": "stdout",
     "output_type": "stream",
     "text": [
      "GROUP 0: MSE = 1.4216832583137398\n",
      "GROUP 1: MSE = 0.803583035353485\n",
      "GROUP 2: MSE = 1.9371153616280339\n",
      "GROUP 3: MSE = 0.3722268874952725\n",
      "GROUP 4: MSE = 0.8843280000877015\n",
      "\n",
      "Overall: MSE = 1.0663395552890407\n"
     ]
    }
   ],
   "source": [
    "y_validation_ = np.ones(y_validation.shape)\n",
    "for group_idx in np.arange(num_clusters):\n",
    "    y_validation_group = nn_models[group_idx].predict(X_validation_normalized[closest_centroid == group_idx])\n",
    "    y_validation_[closest_centroid == group_idx] = y_validation_group.reshape(-1)\n",
    "\n",
    "    print(\"GROUP {0}: MSE = {1}\".format(group_idx, mean_squared_error(y_validation[closest_centroid == group_idx], y_validation_group)))\n",
    "\n",
    "print(\"\\nOverall: MSE = {0}\".format(mean_squared_error(y_validation, y_validation_)))"
   ]
  },
  {
   "cell_type": "code",
   "execution_count": 76,
   "id": "2d5b2152-feec-42b6-aff2-6eeacbee2bfb",
   "metadata": {},
   "outputs": [
    {
     "data": {
      "image/png": "[encoded data removed]",
      "text/plain": [
       "<Figure size 432x288 with 1 Axes>"
      ]
     },
     "metadata": {
      "needs_background": "light"
     },
     "output_type": "display_data"
    }
   ],
   "source": [
    "y_validation_predict = y_validation_\n",
    "plt.scatter(y_validation, y_validation_predict)\n",
    "\n",
    "# line of best fit (linear regression) on the parity plot. \n",
    "coeff = np.polyfit(y_validation, y_validation_predict, 1)\n",
    "y_validation_predict_ = np.polyval(coeff, y_validation)\n",
    "plt.plot(y_validation, y_validation_predict_, c = 'orange')  # parity_plot (true_data, predicted_data)\n",
    "\n",
    "plt.xlabel(\"True value of validation data\")\n",
    "plt.ylabel(\"Predicted value of validation data\")\n",
    "plt.grid()\n",
    "plt.show()"
   ]
  },
  {
   "cell_type": "code",
   "execution_count": 77,
   "id": "10006781-a87c-4222-a216-535d59fa4748",
   "metadata": {},
   "outputs": [
    {
     "data": {
      "image/png": "[encoded data removed]",
      "text/plain": [
       "<Figure size 513.25x432 with 1 Axes>"
      ]
     },
     "metadata": {
      "needs_background": "light"
     },
     "output_type": "display_data"
    }
   ],
   "source": [
    "df_sns = pd.DataFrame(\n",
    "    {\"Original\": y_validation, \"Predicted\": y_validation_, \"Group\": [\"GROUP {0}\".format(i) for i in closest_centroid]}\n",
    ")\n",
    "\n",
    "g = sns.relplot(\n",
    "    data=df_sns,\n",
    "    x=\"Original\",\n",
    "    y=\"Predicted\",\n",
    "    hue=\"Group\",\n",
    "    kind=\"scatter\",\n",
    "    hue_order=[\"GROUP {0}\".format(i) for i in np.arange(num_clusters)],\n",
    "    s=10,\n",
    "    aspect=1,\n",
    "    height=6\n",
    ")\n",
    "g.ax.set_title(\"Parity Plot of Original and Predicted Solubility\")\n",
    "plt.show()"
   ]
  },
  {
   "cell_type": "markdown",
   "id": "7cebfa36-b7a4-485f-b90e-6ba31c780341",
   "metadata": {},
   "source": [
    "In the plot above, we can distinguish each group, which is a good indicator that models aggregate similar samples and neural networks are able to predict their solubility. "
   ]
  },
  {
   "cell_type": "code",
   "execution_count": 78,
   "id": "f76a9af3-1f72-44d6-b196-a146f0434f53",
   "metadata": {},
   "outputs": [
    {
     "name": "stdout",
     "output_type": "stream",
     "text": [
      "Variance of the KMC+NN model is 0.8117028457407477\n"
     ]
    }
   ],
   "source": [
    "print(\"Variance of the KMC+NN model is {0}\".format(r2_score(y_validation, y_validation_)))"
   ]
  },
  {
   "cell_type": "markdown",
   "id": "c3885a0b-f032-42a7-af2f-d1ec92fdc9b4",
   "metadata": {},
   "source": [
    "However, the variance and mean-square-value of the validation data shows that KMC+NN does not provide clear advantage over regular NN model. "
   ]
  },
  {
   "cell_type": "code",
   "execution_count": 79,
   "id": "12498563-a093-45e9-ba63-4b9025450cd9",
   "metadata": {},
   "outputs": [],
   "source": [
    "# save model for testing\n",
    "KMC_NN_model = {}\n",
    "KMC_NN_model[\"KMC\"] = KMC_Model\n",
    "KMC_NN_model[\"nn\"] = nn_models\n",
    "\n",
    "# KMC+NN model predicting precedure \n",
    "def KMC_NN_predict(KMC_NN_model, X_test):\n",
    "    dist = []\n",
    "    for centroid_idx in np.arange(num_clusters):\n",
    "        centroid = KMC_NN_model[\"KMC\"].cluster_centers_[centroid_idx]\n",
    "        centroid_matrix = np.matmul(np.ones(X_test.shape[0]).reshape(1, -1).T, centroid.reshape(1, -1))\n",
    "        dist.append(np.sum(np.power(centroid_matrix - X_test, 2), axis=1))\n",
    "    closest_centroid = np.argmin(np.array(dist), axis=0)\n",
    "    y_test_ = np.ones(X_test.shape[0])\n",
    "    for group_idx in np.arange(num_clusters):\n",
    "        y_test_group = KMC_NN_model[\"nn\"][group_idx].predict(X_test[closest_centroid == group_idx])\n",
    "        y_test_[closest_centroid == group_idx] = y_test_group.reshape(-1)\n",
    "    return y_test_"
   ]
  },
  {
   "cell_type": "markdown",
   "id": "65d1be8b-78c7-4ef7-8bdf-c4ee404b43c3",
   "metadata": {
    "tags": []
   },
   "source": [
    "# Testing and Benchmark"
   ]
  },
  {
   "cell_type": "markdown",
   "id": "3096479c-ea65-4eaf-816f-63146eaca58c",
   "metadata": {
    "tags": []
   },
   "source": [
    "In the previous sections, we have developed the following algorithms to predict the model solubilities. \n",
    "- Linear Regression\n",
    "- Neural Network\n",
    "- Neural Network on Reduced-Dimension Data by Principal Component Analysis (PCA+NN)\n",
    "- Neural Network on Grouped Data by K-Mean Clusering (KMC+NN)\n",
    "\n",
    "Now, we are run each model on the testing dataset. The test criteria are following:\n",
    "- Mean Square Error (MSE)\n",
    "- Variance (\"r2 score\")\n",
    "- Parity Plot\n",
    "\n",
    "Testing dataset has not expose to any of the model yet, therefore, it serves as an objective benchmark for each model's performace. "
   ]
  },
  {
   "cell_type": "code",
   "execution_count": 80,
   "id": "063b02d7-780e-4107-93b5-74b106c62b9f",
   "metadata": {
    "tags": []
   },
   "outputs": [],
   "source": [
    "# load check point\n",
    "\n",
    "# only import testing data\n",
    "_, _, data_test = data_directory.load_data(\"Solubility Data Splitted.pkl\")\n",
    "\n",
    "X_test, y_test, ID_test = data_test\n",
    "\n",
    "# normalize testing data\n",
    "X_test_normalized = X_scaler.transform(X_test)"
   ]
  },
  {
   "cell_type": "code",
   "execution_count": 81,
   "id": "ae770195-8a9e-4d97-8d0e-0032c15134b8",
   "metadata": {
    "tags": []
   },
   "outputs": [],
   "source": [
    "def print_testing_metrics(a_true, a_fit):\n",
    "    print(\"Covariance: {0}\".format(r2_score(a_true, a_fit)))\n",
    "    print(\"       MSE: {0}\".format(mean_squared_error(a_true, a_fit)))\n",
    "    plt.scatter(a_true, a_fit)\n",
    "\n",
    "    # line of best fit (linear regression) on the parity plot. \n",
    "    a_fit_ = np.polyval(np.polyfit(a_true, a_fit, 1), a_true)\n",
    "    plt.plot(a_true, a_fit_, c = 'orange')\n",
    "\n",
    "    plt.xlabel(\"True value of testing data\")\n",
    "    plt.ylabel(\"Predicted value of testing data\")\n",
    "    plt.grid()\n",
    "    plt.show()"
   ]
  },
  {
   "cell_type": "markdown",
   "id": "ad898adc-d314-4795-ba3b-d771e44776e9",
   "metadata": {
    "tags": []
   },
   "source": [
    "## Linear Regression"
   ]
  },
  {
   "cell_type": "code",
   "execution_count": 82,
   "id": "bb5acf49-3c50-4224-b23e-cec0db0dd3df",
   "metadata": {
    "jp-MarkdownHeadingCollapsed": true,
    "tags": []
   },
   "outputs": [
    {
     "name": "stdout",
     "output_type": "stream",
     "text": [
      "Covariance: 0.5071677649499687\n",
      "       MSE: 2.6412435958194704\n"
     ]
    },
    {
     "data": {
      "image/png": "[encoded data removed]",
      "text/plain": [
       "<Figure size 432x288 with 1 Axes>"
      ]
     },
     "metadata": {
      "needs_background": "light"
     },
     "output_type": "display_data"
    }
   ],
   "source": [
    "print_testing_metrics(y_test, linear_regression_model.predict(X_test_normalized))"
   ]
  },
  {
   "cell_type": "markdown",
   "id": "21294bdf-c42e-45bf-8f1b-6a2e4fc5045b",
   "metadata": {
    "tags": []
   },
   "source": [
    "## Neural Network"
   ]
  },
  {
   "cell_type": "code",
   "execution_count": 83,
   "id": "552506d7-4d9a-4e8f-ab8f-78733588c97a",
   "metadata": {
    "tags": []
   },
   "outputs": [
    {
     "name": "stdout",
     "output_type": "stream",
     "text": [
      "Covariance: 0.6963961390293855\n",
      "       MSE: 1.627108976289455\n"
     ]
    },
    {
     "data": {
      "image/png": "[encoded data removed]",
      "text/plain": [
       "<Figure size 432x288 with 1 Axes>"
      ]
     },
     "metadata": {
      "needs_background": "light"
     },
     "output_type": "display_data"
    }
   ],
   "source": [
    "print_testing_metrics(y_test, neural_network_model.predict(X_test_normalized))"
   ]
  },
  {
   "cell_type": "markdown",
   "id": "44df2c79-8cde-4af5-b964-4b69463a2b43",
   "metadata": {
    "tags": []
   },
   "source": [
    "## PCA+NN"
   ]
  },
  {
   "cell_type": "code",
   "execution_count": 84,
   "id": "4dac58f6-8344-4705-aab9-3d146b38e0d7",
   "metadata": {
    "tags": []
   },
   "outputs": [
    {
     "name": "stdout",
     "output_type": "stream",
     "text": [
      "Covariance: 0.6818964047937786\n",
      "       MSE: 1.7048176314203298\n"
     ]
    },
    {
     "data": {
      "image/png": "[encoded data removed]",
      "text/plain": [
       "<Figure size 432x288 with 1 Axes>"
      ]
     },
     "metadata": {
      "needs_background": "light"
     },
     "output_type": "display_data"
    }
   ],
   "source": [
    "print_testing_metrics(y_test, PCA_NN_model[\"nn\"].predict(PCA_NN_model[\"PCA\"].transform(X_test_normalized)))"
   ]
  },
  {
   "cell_type": "markdown",
   "id": "35ddbf94-e06d-403c-afde-54d9c6c6d104",
   "metadata": {
    "tags": []
   },
   "source": [
    "## KMC+NN"
   ]
  },
  {
   "cell_type": "code",
   "execution_count": 86,
   "id": "958a2ac6-8937-4e9d-ae1c-94625bdd6641",
   "metadata": {
    "tags": []
   },
   "outputs": [
    {
     "name": "stdout",
     "output_type": "stream",
     "text": [
      "Covariance: 0.7538701265934011\n",
      "       MSE: 1.319087725276413\n"
     ]
    },
    {
     "data": {
      "image/png": "[encoded data removed]",
      "text/plain": [
       "<Figure size 432x288 with 1 Axes>"
      ]
     },
     "metadata": {
      "needs_background": "light"
     },
     "output_type": "display_data"
    }
   ],
   "source": [
    "print_testing_metrics(y_test, KMC_NN_predict(KMC_NN_model, X_test_normalized))"
   ]
  },
  {
   "cell_type": "markdown",
   "id": "8b29a945-9640-467e-978c-c81e01bde689",
   "metadata": {
    "tags": []
   },
   "source": [
    "# Discussion"
   ]
  },
  {
   "cell_type": "markdown",
   "id": "b9c9e1b2-9f8e-4618-a761-fdb76d0b60db",
   "metadata": {
    "tags": []
   },
   "source": [
    "## PCA Visualizations"
   ]
  },
  {
   "cell_type": "markdown",
   "id": "f4355142-d75f-4cb7-af06-028033142245",
   "metadata": {
    "tags": []
   },
   "source": [
    "We project the testing dataset into 2-dimensional space constructed by `pc0` and `pc1`, the first two princpal component vector of **training** and **validation** dataset. We choose training and validation dataset to fit the PCA model to make the result consistent to previous and latter section. "
   ]
  },
  {
   "cell_type": "code",
   "execution_count": 136,
   "id": "fdb53b63-565d-470b-8aed-d1c9fe0252b5",
   "metadata": {
    "tags": []
   },
   "outputs": [],
   "source": [
    "pca2 = PCA(n_components=2)\n",
    "X_test_pca2 = pca2.fit(X_nparr_normalize).transform(X_test_normalized)"
   ]
  },
  {
   "cell_type": "code",
   "execution_count": 149,
   "id": "36fbffd5-a25f-4d63-b9e2-def55aa1546a",
   "metadata": {
    "tags": []
   },
   "outputs": [
    {
     "data": {
      "image/png": "[encoded data removed]",
      "text/plain": [
       "<Figure size 576x360 with 1 Axes>"
      ]
     },
     "metadata": {
      "needs_background": "light"
     },
     "output_type": "display_data"
    }
   ],
   "source": [
    "df_sns = pd.DataFrame(\n",
    "    [\n",
    "        {\"pc0\": pc[0], \"pc1\": pc[1], \"Solubility\": sol}\n",
    "        for pc, sol in zip(X_test_pca2, y_test)\n",
    "    ]\n",
    ")\n",
    "\n",
    "fig, ax = plt.subplots(1, 1, figsize=(8, 5))\n",
    "sns.scatterplot(\n",
    "    data=df_sns,\n",
    "    x=\"pc0\",\n",
    "    y=\"pc1\", \n",
    "    hue=\"Solubility\",\n",
    "    alpha=0.8,\n",
    "    s=20\n",
    ")\n",
    "ax.set_ylim(-5, 5)\n",
    "ax.set_xlim(-5, 5)\n",
    "plt.show()"
   ]
  },
  {
   "cell_type": "markdown",
   "id": "05e4bb4d-3f4a-425a-817c-aec44bf4d77d",
   "metadata": {
    "tags": []
   },
   "source": [
    "As the graph shown above, we can see some separation of molecules with high and low solubilities. However, the dataset is complicated because it is not linearily separable nor have distinctive clusters. Therefore, we need more than 2 dimensions to have accurate predictions. \n",
    "\n",
    "Note: We use 5 dimensions in our entire analysis. Projecting into 2 dimensions is only for visualizations of data separation. "
   ]
  },
  {
   "cell_type": "markdown",
   "id": "276bd50d-91ac-4704-822f-91394cc887b9",
   "metadata": {
    "tags": []
   },
   "source": [
    "## PCA and Linear Regression Weights\n",
    "<font color=\"red\">**Answering Our Hypothesis**</font>"
   ]
  },
  {
   "cell_type": "markdown",
   "id": "05daf4b6-2983-47b1-82e0-226a171fd3bf",
   "metadata": {
    "tags": []
   },
   "source": [
    "The PCA result is almost the same as the linear regression result. In our PCA analysis, we reduce our dimension from 17 to 5 variables. Then, we pick the first two principal component vector, `PC0` and `PC1`, since these two contribute the most when predicting solubility. "
   ]
  },
  {
   "cell_type": "code",
   "execution_count": 118,
   "id": "49062be5-8d13-4a5e-9fe6-dcd751b5bccc",
   "metadata": {
    "tags": []
   },
   "outputs": [],
   "source": [
    "# get pc0 and pc2 from our previous pca analysis\n",
    "pc0, pc1 = PCA_NN_model[\"PCA\"].components_[:2]"
   ]
  },
  {
   "cell_type": "code",
   "execution_count": 119,
   "id": "b323b674-4911-437f-ab7f-d0f899d3bd7c",
   "metadata": {
    "tags": []
   },
   "outputs": [],
   "source": [
    "# get the weights from linear regression for sorting purpose\n",
    "weights = list(zip(X_label, linear_regression_model.coef_))\n",
    "weights.sort(key=lambda x: np.abs(x[1]), reverse=True)"
   ]
  },
  {
   "cell_type": "code",
   "execution_count": 126,
   "id": "af0cc01e-da42-46b6-b2c0-776e2267991f",
   "metadata": {
    "tags": []
   },
   "outputs": [
    {
     "data": {
      "image/png": "[encoded data removed]",
      "text/plain": [
       "<Figure size 864x360 with 2 Axes>"
      ]
     },
     "metadata": {
      "needs_background": "light"
     },
     "output_type": "display_data"
    }
   ],
   "source": [
    "fig, axes = plt.subplots(1, 2, sharey=True, figsize=(12, 5))\n",
    "\n",
    "# pc0 plot\n",
    "sns.barplot(\n",
    "    data=pd.DataFrame(\n",
    "        {\"Parameter\": [weight[0] for weight in weights], \"PC0 Weight\": pc0}\n",
    "    ),\n",
    "    x=\"PC0 Weight\",\n",
    "    y=\"Parameter\",\n",
    "    ax=axes[0]\n",
    ")\n",
    "axes[0].axhline(5.5, c=\"k\", linestyle=\"--\") # reference line, first 6 features\n",
    "\n",
    "# pc1 plot\n",
    "sns.barplot(\n",
    "    data=pd.DataFrame(\n",
    "        {\"Parameter\": [weight[0] for weight in weights], \"PC1 Weight\": pc1}\n",
    "    ),\n",
    "    x=\"PC1 Weight\",\n",
    "    y=\"Parameter\",\n",
    "    ax=axes[1]\n",
    ")\n",
    "axes[1].axhline(5.5, c=\"k\", linestyle=\"--\") # reference line, first 6 features\n",
    "\n",
    "fig.suptitle(\n",
    "    \"Parameter Weights of the First and Second Principle Component Vector\" + \n",
    "    \"\\nSorted by Parameter Weights from Linear Regression Model\"\n",
    ")\n",
    "plt.show()"
   ]
  },
  {
   "cell_type": "markdown",
   "id": "8295455e-65e8-4670-bfd6-db63425f2c89",
   "metadata": {
    "tags": []
   },
   "source": [
    "As Figure shown above, `PC0` includes 5 heavy-weighted features similar to linear regression\n",
    "1. `Heavy atom count`\n",
    "1. `BertzCT`\n",
    "1. `MolLogP`\n",
    "1. `MolWt`\n",
    "1. `LabuteASA` (partial)\n",
    "\n",
    "The second variable, `PC1`, includes remaining such features\n",
    "1. `Num valence electrons`\n",
    "1. `LabuteASA` (partial)"
   ]
  },
  {
   "cell_type": "code",
   "execution_count": 135,
   "id": "6320f5a8-3a6a-48d2-8c9a-b5182a2815f5",
   "metadata": {
    "tags": []
   },
   "outputs": [
    {
     "data": {
      "image/png": "[encoded data removed]",
      "text/plain": [
       "<Figure size 576x360 with 1 Axes>"
      ]
     },
     "metadata": {
      "needs_background": "light"
     },
     "output_type": "display_data"
    }
   ],
   "source": [
    "df_sns = pd.DataFrame(\n",
    "    [{\"Parameter\": weight[0], \"Linear Weight\": weight[1]} for weight in weights]\n",
    ")\n",
    "\n",
    "fig, ax = plt.subplots(1, 1, figsize=(8, 5))\n",
    "sns.barplot(\n",
    "    data=df_sns,\n",
    "    x=\"Linear Weight\",\n",
    "    y=\"Parameter\",\n",
    "    ax=ax\n",
    ")\n",
    "ax.axhline(5.5, c=\"k\", linestyle=\"--\") # reference line, first 6 features\n",
    "fig.suptitle(\"The Value of the Weights in the Linear Model for Predicting Solubility\")\n",
    "plt.show()"
   ]
  },
  {
   "cell_type": "markdown",
   "id": "f75601d3-49fb-419c-b8f3-c85a58c87014",
   "metadata": {
    "tags": []
   },
   "source": [
    "Based on our linear regression results (shown above), the value of `MolLogP` is at the fourth place, while the value of the weights of `LabuteASA` is lower than `MolLogP`. However, in the PCA results, the importance of these two features seems to be exchanged when we combine both `pc0` and `pc1`. `LabuteASA`, or Labute’s Approximate Surface Area, provides a more comprehensive characterization of molecules which is a descriptor based on the subdivision and classification of the molecular surface area according to atomic properties (such as contribution to log, molar refractivity, and partial charge). \n",
    "\n",
    "In addition, since it is impossible to measure $K_{ow}$ for all substances, various models are mainly based on estimation and prediction. Also, the definition of the $K_{ow}$ or P-value $P$ is $$K_{ow} = P = \\frac{c_o^{S_i}}{c_w^{S_i}}$$, where $c_o^{S_i}$ is the concentration of species $i$ of a substance in the octanol-rich phase, and $c_w^{S_i}$ is that in the water-rich phase. In other words, $K_{ow}$ could be affected by the solubility of certain species in the octanol-rich phase. However, since our dataset focuses on the aqueous solution (water-rich phase), `MolLogP` is not an accurate way for our research project."
   ]
  },
  {
   "cell_type": "markdown",
   "id": "bb2136e0-48c9-4543-83b2-4ca869cc17fb",
   "metadata": {
    "tags": []
   },
   "source": [
    "## PCA+NN Model vs Plain Neural Network"
   ]
  },
  {
   "cell_type": "markdown",
   "id": "4536341f-cf18-4bd5-ae58-5793f83ccfd4",
   "metadata": {
    "tags": []
   },
   "source": [
    "The testing results from the previous section (also below) show that the performance of the *PCA+NN* model does not match the plain Neural Network. "
   ]
  },
  {
   "cell_type": "code",
   "execution_count": 173,
   "id": "403ff7ac-0a2b-4e74-8599-52980f685bb1",
   "metadata": {
    "tags": []
   },
   "outputs": [
    {
     "data": {
      "text/html": [
       "<div>\n",
       "<style scoped>\n",
       "    .dataframe tbody tr th:only-of-type {\n",
       "        vertical-align: middle;\n",
       "    }\n",
       "\n",
       "    .dataframe tbody tr th {\n",
       "        vertical-align: top;\n",
       "    }\n",
       "\n",
       "    .dataframe thead th {\n",
       "        text-align: right;\n",
       "    }\n",
       "</style>\n",
       "<table border=\"1\" class=\"dataframe\">\n",
       "  <thead>\n",
       "    <tr style=\"text-align: right;\">\n",
       "      <th></th>\n",
       "      <th>Model</th>\n",
       "      <th>MSE</th>\n",
       "    </tr>\n",
       "  </thead>\n",
       "  <tbody>\n",
       "    <tr>\n",
       "      <th>0</th>\n",
       "      <td>PCA+NN</td>\n",
       "      <td>1.704818</td>\n",
       "    </tr>\n",
       "    <tr>\n",
       "      <th>1</th>\n",
       "      <td>NN</td>\n",
       "      <td>1.627109</td>\n",
       "    </tr>\n",
       "  </tbody>\n",
       "</table>\n",
       "</div>"
      ],
      "text/plain": [
       "    Model       MSE\n",
       "0  PCA+NN  1.704818\n",
       "1      NN  1.627109"
      ]
     },
     "execution_count": 173,
     "metadata": {},
     "output_type": "execute_result"
    }
   ],
   "source": [
    "pd.DataFrame([\n",
    "    {\"Model\": \"PCA+NN\", \"MSE\": mean_squared_error(y_test, PCA_NN_model[\"nn\"].predict(PCA_NN_model[\"PCA\"].transform(X_test_normalized)))}, \n",
    "    {\"Model\": \"NN\", \"MSE\": mean_squared_error(y_test, neural_network_model.predict(X_test_normalized))}\n",
    "])"
   ]
  },
  {
   "cell_type": "markdown",
   "id": "3d2c7ec6-ddb2-4607-a07f-fa482aab38c1",
   "metadata": {
    "tags": []
   },
   "source": [
    "This behavior is consistent our prediction because PCA reduces the complexity of the data. Even though simple data are easier to store, compute, and interpret by humans, they still need more degrees of freedom to describe their solubility. As for the result, we trade the prediction accuracy for a simpler and faster neural network model. "
   ]
  },
  {
   "cell_type": "markdown",
   "id": "b1c23e06-698a-4122-b9cc-b37a0c388cbb",
   "metadata": {
    "tags": []
   },
   "source": [
    "## Neural Networks with K-Mean Clustering Result (KMC+NN)"
   ]
  },
  {
   "cell_type": "markdown",
   "id": "b8a0ddd5-fc88-41f9-a4ce-a0b8859bdb85",
   "metadata": {
    "tags": []
   },
   "source": [
    "We observed the unpredictability of the K-means clustering algorithm during model training. Training the neural network with clustered data sometimes gives us better results, and we suspect the group size of each centroid is an important factor. Thus, we tuned the centroids with validation data and fixed them for the latter analysis. (Testing dataset is not part of the tuning process, which still remains unbiased as benchmark.)"
   ]
  },
  {
   "cell_type": "code",
   "execution_count": 165,
   "id": "59f481fe-2f42-481b-99b7-929c76b248ee",
   "metadata": {
    "tags": []
   },
   "outputs": [
    {
     "data": {
      "image/png": "[encoded data removed]",
      "text/plain": [
       "<Figure size 432x360 with 1 Axes>"
      ]
     },
     "metadata": {
      "needs_background": "light"
     },
     "output_type": "display_data"
    }
   ],
   "source": [
    "fig, ax = plt.subplots(1, 1, figsize=(6, 5))\n",
    "sns.barplot(\n",
    "    data=pd.DataFrame([\n",
    "        {\"Model\": \"Linear\", \"MSE\": mean_squared_error(y_test, linear_regression_model.predict(X_test_normalized))},\n",
    "        {\"Model\": \"NN\", \"MSE\": mean_squared_error(y_test, neural_network_model.predict(X_test_normalized))},\n",
    "        {\"Model\": \"PCA+NN\", \"MSE\": mean_squared_error(y_test, PCA_NN_model[\"nn\"].predict(PCA_NN_model[\"PCA\"].transform(X_test_normalized)))}, \n",
    "        {\"Model\": \"KMC+NN\", \"MSE\": mean_squared_error(y_test, KMC_NN_predict(KMC_NN_model, X_test_normalized))}\n",
    "    ]),\n",
    "    x=\"Model\", \n",
    "    y=\"MSE\",\n",
    "    ax=ax\n",
    ")\n",
    "\n",
    "ax.axhline(mean_squared_error(y_test, KMC_NN_predict(KMC_NN_model, X_test_normalized)), c=\"k\", linestyle=\"--\")\n",
    "fig.suptitle(\"Mean Square Error Comparison of All Models\")\n",
    "plt.show()"
   ]
  },
  {
   "cell_type": "markdown",
   "id": "72d573df-69d4-455e-b142-2b8b760d23cb",
   "metadata": {
    "tags": []
   },
   "source": [
    "By grouping entire dataset, the variance of each cluster is smaller than the variance of entire dataset, which is easier to train neural network model on each clusers. This behabvior is shown in the parity plot below. "
   ]
  },
  {
   "cell_type": "code",
   "execution_count": 257,
   "id": "b3c2660a-960a-4772-9805-a6d654d08d69",
   "metadata": {},
   "outputs": [
    {
     "data": {
      "image/png": "[encoded data removed]",
      "text/plain": [
       "<Figure size 513.25x432 with 1 Axes>"
      ]
     },
     "metadata": {
      "needs_background": "light"
     },
     "output_type": "display_data"
    }
   ],
   "source": [
    "df_sns = pd.DataFrame({\n",
    "    \"Original\": y_test, \n",
    "    \"Predicted\": KMC_NN_predict(KMC_NN_model, X_test_normalized), \n",
    "    \"Group\": [\"GROUP {0}\".format(group) for group in KMC_NN_model[\"KMC\"].predict(X_test_normalized)]\n",
    "})\n",
    "\n",
    "g = sns.relplot(\n",
    "    data=df_sns,\n",
    "    x=\"Original\",\n",
    "    y=\"Predicted\",\n",
    "    hue=\"Group\",\n",
    "    kind=\"scatter\",\n",
    "    hue_order=[\"GROUP {0}\".format(i) for i in np.arange(num_clusters)],\n",
    "    s=10,\n",
    "    aspect=1,\n",
    "    height=6\n",
    ")\n",
    "g.ax.set_title(\"Parity Plot of Original and Predicted Solubility\")\n",
    "plt.show()"
   ]
  },
  {
   "cell_type": "markdown",
   "id": "5b124d5a-bbcf-4a54-b66a-b8209aaa9982",
   "metadata": {},
   "source": [
    "Each group represents a region in the parity plot, and their respective neural network model is only responsible for that small region. This is another reason why finding centroids that are representative of future input is important. "
   ]
  },
  {
   "cell_type": "markdown",
   "id": "ea2b2ff7-808a-426e-adaa-c222b472fcfa",
   "metadata": {},
   "source": [
    "We can plot the parity plot in a different way to emphize the solubility distribution of each group. "
   ]
  },
  {
   "cell_type": "code",
   "execution_count": 258,
   "id": "5f3d50f6-2358-4f1f-8fc5-81a6c64772a4",
   "metadata": {},
   "outputs": [
    {
     "data": {
      "image/png": "[encoded data removed]",
      "text/plain": [
       "<Figure size 576x288 with 1 Axes>"
      ]
     },
     "metadata": {
      "needs_background": "light"
     },
     "output_type": "display_data"
    }
   ],
   "source": [
    "g = sns.catplot(\n",
    "    data=df_sns,\n",
    "    x=\"Original\",\n",
    "    y=\"Group\",\n",
    "    order=[\"GROUP {0}\".format(i) for i in np.arange(num_clusters)],\n",
    "    kind=\"box\",\n",
    "    aspect=2,\n",
    "    height=4\n",
    ")\n",
    "g.ax.set_xlabel(\"Solubility\")\n",
    "g.ax.axhline(1.5, c=\"k\", linestyle=\"--\")\n",
    "g.ax.set_title(\"Solubility Distribution of Each Group\")\n",
    "plt.show()"
   ]
  },
  {
   "cell_type": "markdown",
   "id": "d0e30d7c-4c15-417e-8fa4-024d3ebdfce7",
   "metadata": {},
   "source": [
    "As for the interpretation of K-Mean Clustering itself, it is difficult to analyze the behavior due to its nature as unsupervized learning algorithm. Still, we can examine the clusters `GROUP 0` and `GROUP 1`, the largest two groups in the parity plot. Additionally, the distribution of these two groups has minimal overlap in the solubility distribution plot above. Minimal overlap is another indicator for separable data. "
   ]
  },
  {
   "cell_type": "code",
   "execution_count": 259,
   "id": "d518740b-22ae-4551-9455-09569deb5637",
   "metadata": {},
   "outputs": [
    {
     "data": {
      "image/png": "[encoded data removed]",
      "text/plain": [
       "<Figure size 657.25x576 with 1 Axes>"
      ]
     },
     "metadata": {
      "needs_background": "light"
     },
     "output_type": "display_data"
    }
   ],
   "source": [
    "# merge cluster center and label for ploting purpose\n",
    "df_cluster = pd.DataFrame(KMC_NN_model[\"KMC\"].cluster_centers_, columns=X_label)\n",
    "df_cluster[\"Cluster Group\"] = [\"GROUP {0}\".format(i) for i in np.arange(num_clusters)]\n",
    "df_cluster=df_cluster.melt(id_vars=\"Cluster Group\", var_name=\"Parameters\", value_name=\"Parameter Value\")\n",
    "\n",
    "g = sns.catplot(\n",
    "    data=df_cluster[(df_cluster[\"Cluster Group\"] == \"GROUP 0\") | (df_cluster[\"Cluster Group\"] == \"GROUP 1\")],\n",
    "    hue=\"Cluster Group\",\n",
    "    x=\"Parameter Value\",\n",
    "    y=\"Parameters\",\n",
    "    kind=\"bar\",\n",
    "    aspect=1,\n",
    "    height=8\n",
    ")\n",
    "g.ax.set_title(\"Mean Parameter Value of Each Cluster\")\n",
    "plt.show()"
   ]
  },
  {
   "cell_type": "markdown",
   "id": "5ebcb63a-cf7a-4d75-8913-28f4cd4abd50",
   "metadata": {},
   "source": [
    "`GROUP 0` mostly contains parameters with positive values (after being normalized by the training dataset), which correspond to the slightly more negative region of solubility; the opposite happens to `GROUP 1`. "
   ]
  },
  {
   "cell_type": "code",
   "execution_count": 260,
   "id": "32a21e83-c660-4f97-b97e-f61be7ce57d6",
   "metadata": {},
   "outputs": [
    {
     "data": {
      "image/png": "[encoded data removed]",
      "text/plain": [
       "<Figure size 657.25x288 with 1 Axes>"
      ]
     },
     "metadata": {
      "needs_background": "light"
     },
     "output_type": "display_data"
    }
   ],
   "source": [
    "linear_important_label = ['HeavyAtomCount', 'NumHAcceptors', 'BertzCT', 'MolWt', 'MolLogP', 'LabuteASA']\n",
    "\n",
    "df_cluster_2 = pd.DataFrame(KMC_NN_model[\"KMC\"].cluster_centers_, columns=X_label)\n",
    "df_cluster_2[\"Cluster Group\"] = [\"GROUP {0}\".format(i) for i in np.arange(num_clusters)]\n",
    "\n",
    "# filter linear important labels\n",
    "df_cluster_2 = df_cluster_2[[\"Cluster Group\"] + linear_important_label]\n",
    "df_cluster_2 = df_cluster_2.melt(id_vars=\"Cluster Group\", var_name=\"Parameters\", value_name=\"Parameter Value\")\n",
    "\n",
    "# only look at group 0 and 1\n",
    "df_cluster_2 = df_cluster_2[\n",
    "    (df_cluster_2[\"Cluster Group\"] == \"GROUP 0\") | \n",
    "    (df_cluster_2[\"Cluster Group\"] == \"GROUP 1\")\n",
    "]\n",
    "\n",
    "g = sns.catplot(\n",
    "    data=df_cluster_2,\n",
    "    hue=\"Cluster Group\",\n",
    "    x=\"Parameter Value\",\n",
    "    y=\"Parameters\",\n",
    "    kind=\"bar\",\n",
    "    aspect=2,\n",
    "    height=4\n",
    ")\n",
    "g.ax.set_title(\"Mean Parameter Value of Each Cluster\")\n",
    "plt.show()"
   ]
  },
  {
   "cell_type": "markdown",
   "id": "469cef28-dbda-4552-b3f6-7ad5a554db55",
   "metadata": {},
   "source": [
    "When we only look at those parameters which are important to linear regression and PCA, they have opposite sign and large magnitude in `GROUP 0` and `GROUP 1`. In other words, separating the dataset into groups by those 6 parameter will significantly improve the prediction. This result is consistent with both linear regression and PCA. "
   ]
  },
  {
   "cell_type": "markdown",
   "id": "a19e06a2-9622-4883-bd87-772892871949",
   "metadata": {
    "tags": []
   },
   "source": [
    "# Acknowledgement\n",
    "\n",
    "Thank you to Instructors and TAs for their instruction during the quarter and guide us through the project."
   ]
  },
  {
   "cell_type": "markdown",
   "id": "baeef85d-46ae-4547-a224-87dc69a13dad",
   "metadata": {},
   "source": [
    "Resource:\n",
    "* AqSolDB: A curated aqueous solubility dataset https://www.kaggle.com/datasets/sorkun/aqsoldb-a-curated-aqueous-solubility-datase\n",
    "* Python: Feature/Variable importance after a PCA analysis https://pyquestions.com/feature-variable-importance-after-a-pca-analysis \n",
    "* Keras API reference: https://keras.io/api/\n",
    "* Derivation and Applications of Molecular Descriptors Based on Approximate Surface Area: https://link.springer.com/protocol/10.1385/1-59259-802-1:261"
   ]
  },
  {
   "cell_type": "code",
   "execution_count": null,
   "id": "9005b06b-1a4b-4e47-aa5a-745793cd9ec5",
   "metadata": {},
   "outputs": [],
   "source": []
  }
 ],
 "metadata": {
  "kernelspec": {
   "display_name": "Python 3 (ipykernel)",
   "language": "python",
   "name": "python3"
  },
  "language_info": {
   "codemirror_mode": {
    "name": "ipython",
    "version": 3
   },
   "file_extension": ".py",
   "mimetype": "text/x-python",
   "name": "python",
   "nbconvert_exporter": "python",
   "pygments_lexer": "ipython3",
   "version": "3.9.7"
  },
  "vscode": {
   "interpreter": {
    "hash": "8bed3daa7f6936c4f2d92398de5db48116458d1e16d98055e82294c781a15e5f"
   }
  }
 },
 "nbformat": 4,
 "nbformat_minor": 5
}
